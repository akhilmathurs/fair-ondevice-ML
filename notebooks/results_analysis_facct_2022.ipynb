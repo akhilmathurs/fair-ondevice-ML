{
 "cells": [
  {
   "cell_type": "markdown",
   "id": "c2958e5c-4aa8-4161-8c21-1d455beaede5",
   "metadata": {},
   "source": [
    "# Results Analysis for FAccT 2022 paper"
   ]
  },
  {
   "cell_type": "code",
   "execution_count": null,
   "id": "1c6a75a5-d9c8-4bd4-ade5-3ed18f66de3f",
   "metadata": {},
   "outputs": [],
   "source": [
    "%matplotlib inline\n",
    "import pandas as pd\n",
    "import numpy as np\n",
    "\n",
    "import seaborn as sns\n",
    "sns.set_context(\"paper\")\n",
    "sns.set_theme(style=\"whitegrid\")\n",
    "import matplotlib.pyplot as plt\n",
    "plt.show()\n",
    "import ipywidgets as widgets\n",
    "from ipywidgets import interact, interactive, fixed, interact_manual\n",
    "from IPython.display import display\n",
    "    \n",
    "from fair_embedded_ml.metrics import domain_fairness, model_unfairness\n",
    "from fair_embedded_ml import results_analysis \n",
    "from fair_embedded_ml.results_analysis import exp_names\n",
    "from fair_embedded_ml import results_plot\n",
    "\n",
    "x_dir = '~/Projects/fair_embedded_ml_results/'\n",
    "    \n",
    "class fixed_copy(fixed):\n",
    "    def get_interact_value(self):\n",
    "        return self.value.copy()"
   ]
  },
  {
   "cell_type": "code",
   "execution_count": null,
   "id": "0e4f84a1-a09a-4753-8ce2-d3bd73abd769",
   "metadata": {},
   "outputs": [],
   "source": [
    "results = results_analysis.get_results(x_dir)\n",
    "compression_results = results_analysis.get_compression_results(x_dir)\n",
    "results_mcc = results_analysis.get_results_for_domains(results)\n",
    "results_fairness = results_analysis.get_fairness_results(results_mcc)"
   ]
  },
  {
   "cell_type": "markdown",
   "id": "ac3972f8-603a-4d89-b383-429db86e41d2",
   "metadata": {},
   "source": [
    "#### Tables"
   ]
  },
  {
   "cell_type": "code",
   "execution_count": null,
   "id": "fad48ff5-6ce6-4b6d-9fb5-8b9bfb65bf65",
   "metadata": {},
   "outputs": [],
   "source": [
    "cnn_16_selection = results_analysis.model_selection(results_fairness, 'sc16_cnn', 0.99)[\n",
    "    ['input_features','frame_length','frame_step','mel_bins','mfccs','window_fn','all_mcc','model_fairness']]\n",
    "cnn_16_selection"
   ]
  },
  {
   "cell_type": "code",
   "execution_count": null,
   "id": "42aa0ded-d8fa-4821-9024-947f15cd2639",
   "metadata": {},
   "outputs": [],
   "source": [
    "results_analysis.model_selection(results_fairness, 'sc16_llcnn', 0.99)[['input_features','frame_length','frame_step','mel_bins','mfccs','window_fn','all_mcc','model_fairness']]"
   ]
  },
  {
   "cell_type": "code",
   "execution_count": null,
   "id": "9703019b-1c03-4660-bb3f-33b316321c54",
   "metadata": {},
   "outputs": [],
   "source": [
    "cnn_8_selection = results_analysis.model_selection(results_fairness, 'sc8_cnn', 0.99)[\n",
    "    ['input_features','frame_length','frame_step','mel_bins','mfccs','window_fn','all_mcc','model_fairness']]\n",
    "cnn_8_selection"
   ]
  },
  {
   "cell_type": "code",
   "execution_count": null,
   "id": "da64d183-7b63-46b9-91f8-8f8e4618c966",
   "metadata": {},
   "outputs": [],
   "source": [
    "results_analysis.model_selection(results_fairness, 'sc8_llcnn', 0.99)[['input_features','frame_length','frame_step','mel_bins','mfccs','window_fn','all_mcc','model_fairness']]"
   ]
  },
  {
   "cell_type": "markdown",
   "id": "67f8fb19-797f-43e8-b367-392dc10e55da",
   "metadata": {},
   "source": [
    "### Section 5.1: Impact of Sample Rate"
   ]
  },
  {
   "cell_type": "code",
   "execution_count": null,
   "id": "1bfbd42f-32ed-48e7-835d-fee09e00ab8c",
   "metadata": {},
   "outputs": [],
   "source": [
    "fig_data = pd.concat([results_analysis.select_models_in_mcc_range(results_fairness, 'sc16_cnn', best=100, min_percentage_of_mcc=0.95),\n",
    "                      results_analysis.select_models_in_mcc_range(results_fairness, 'sc8_cnn', best=100, min_percentage_of_mcc=0.95),\n",
    "                      results_analysis.select_models_in_mcc_range(results_fairness, 'sc16_llcnn', best=100, min_percentage_of_mcc=0.95),\n",
    "                      results_analysis.select_models_in_mcc_range(results_fairness, 'sc8_llcnn', best=100, min_percentage_of_mcc=0.95),\n",
    "                     ])\n",
    "fig_data['exp_name'] = fig_data['exp_name'].map({'sc16_cnn':'16k CNN', 'sc8_cnn':'8k CNN', 'sc16_llcnn':'16k llCNN', 'sc8_llcnn':'8k llCNN' })"
   ]
  },
  {
   "cell_type": "code",
   "execution_count": null,
   "id": "2ed83bdc-6824-4e7b-a8f9-ec994fc08bfa",
   "metadata": {},
   "outputs": [],
   "source": [
    "acc = fig_data.groupby(['exp_name'])['all_mcc'].agg(['mean','std'])\n",
    "acc['rel_mean'] = acc['mean']/acc.loc['16k CNN','mean'] \n",
    "acc['rel_std'] = acc['std']/acc.loc['16k CNN','std'] \n",
    "acc"
   ]
  },
  {
   "cell_type": "code",
   "execution_count": null,
   "id": "1afd02dd-e8e4-4c16-a75c-e7f83f6bbac1",
   "metadata": {},
   "outputs": [],
   "source": [
    "mf = fig_data.groupby(['exp_name'])['model_fairness'].agg(['mean','std'])\n",
    "mf['rel_mean cnn'] = mf['mean']/mf.loc['16k CNN','mean'] \n",
    "mf['rel_std cnn'] = mf['std']/mf.loc['16k CNN','std'] \n",
    "mf['rel_mean llcnn'] = mf['mean']/mf.loc['16k llCNN','mean'] \n",
    "mf['rel_std llcnn'] = mf['std']/mf.loc['16k llCNN','std'] \n",
    "mf"
   ]
  },
  {
   "cell_type": "code",
   "execution_count": null,
   "id": "43fe94d1-0907-4c97-bf09-da19effa3d12",
   "metadata": {},
   "outputs": [],
   "source": [
    "sns.set_context('poster')\n",
    "f, ax = plt.subplots(figsize=(12,8))\n",
    "g = sns.boxplot(data = fig_data, x='exp_name', y='all_mcc', palette='tab20', linewidth=1)#.set_title('Accuracy (MCC) results across experiments');\n",
    "g.set_title('Accuracy (MCC) across experiments', fontsize='large', pad=20)\n",
    "g.set_xlabel('Experiments', fontsize='large', labelpad=10)\n",
    "g.set_ylabel('Accuracy (MCC score)', fontsize='large', labelpad=10)\n",
    "g.tick_params(axis='both', which='major', labelsize=20)\n",
    "g.axvline(x=1.5 ,c=\"black\", ls='--', linewidth=1)\n",
    "sns.despine(bottom=True, left=True)\n",
    "plt.savefig('figures/accuracy_experiments.png')"
   ]
  },
  {
   "cell_type": "code",
   "execution_count": null,
   "id": "0cff513b-b513-4db8-90fa-d3e4573bc14f",
   "metadata": {},
   "outputs": [],
   "source": [
    "sns.set_context('poster')\n",
    "f, ax = plt.subplots(figsize=(12,8))\n",
    "g = sns.boxplot(data = fig_data, x='exp_name', y='model_fairness', palette='tab20', linewidth=1)\n",
    "g.set_title('Reliability bias across experiments', fontsize='large', pad=20)\n",
    "g.set_xlabel('Experiments', fontsize='large', labelpad=10)\n",
    "g.set_ylabel('Reliability bias (lower is better)', fontsize='large', labelpad=10)\n",
    "g.tick_params(axis='both', which='major', labelsize=20)\n",
    "g.axvline(x=1.5 ,c=\"black\", ls='--', linewidth=1)\n",
    "sns.despine(bottom=True, left=True)\n",
    "plt.savefig('figures/fairness_experiments.png')"
   ]
  },
  {
   "cell_type": "code",
   "execution_count": null,
   "id": "29e542bd-222c-4141-87d3-750f4dfcff52",
   "metadata": {},
   "outputs": [],
   "source": [
    "results_fairness[results_fairness['exp_name'].isin(['sc8_cnn','sc16_cnn','sc8_llcnn','sc16_llcnn'])\n",
    "                ].groupby('exp_name').agg({'female_fairness': [lambda c: c.abs().mean(),\n",
    "                                                               lambda c: c.abs().std()],\n",
    "                                           'male_fairness': [lambda c: c.abs().mean(),\n",
    "                                                             lambda c: c.abs().std()]})"
   ]
  },
  {
   "cell_type": "code",
   "execution_count": null,
   "id": "07e3f43a-ac45-4a39-98b6-4147b1907f1b",
   "metadata": {},
   "outputs": [],
   "source": [
    "sns.set_theme(style=\"whitegrid\", font_scale=2.2)\n",
    "\n",
    "g = sns.relplot(data=results_mcc[results_mcc['exp_name'].isin(['sc16_cnn','sc8_cnn','sc16_llcnn','sc8_llcnn'])\n",
    "                                ].sort_values(by=['model_arch','exp_name']).replace({'domain': {'male_mcc': 'male  ', 'female_mcc': 'female  '}}), \n",
    "                x='all_mcc', y='domain_mcc', hue='domain', col=\"exp_name\", col_wrap=4, palette=['green', 'fuchsia'], height=6, aspect=1.1)\n",
    "for ax in g.axes.flat:\n",
    "    ax_title = ax.get_title().split(' = ')[-1]\n",
    "    arch = ax_title.split('_')[-1]\n",
    "    train_sr = ax_title.split('-')[0].split('_')[0].strip('sc')\n",
    "    input_sr = ax_title.split('-')[-1].strip('sc')\n",
    "    ax.axline((0.89,0.89), (0.9,0.9), c=\"black\", ls='--', linewidth=2)\n",
    "    ax.set_title('{}k {}{}'.format(train_sr, arch[:-3], arch[-3:].upper()), fontsize='large', pad=10)\n",
    "    ax.set_xlabel('Overall accuracy \\n $\\mathregular{(MCC_{all})}$', fontsize='large', labelpad=15)\n",
    "    ax.tick_params(axis='both', which='major', labelsize='medium')\n",
    "    ax.set_xlim([0.45,0.89])\n",
    "    ax.set_ylim([0.45,0.89])\n",
    "    ax.set_ylabel('Subgroup accuracy \\n $\\mathregular{(MCC_{i})}$', fontsize='large', labelpad=15)\n",
    "    legend = g._legend\n",
    "    legend.set_frame_on(True)\n",
    "    legend.set_bbox_to_anchor((0.96, 0.55))\n",
    "    legend.set_title('Subgroup')\n",
    "    legend.get_texts()\n",
    "    sns.despine(bottom=True, left=True)\n",
    "\n",
    "plt.suptitle('Accuracy scores for males and females', fontsize='x-large', ha='center', x=0.45, va='top', y=1.1)\n",
    "plt.savefig('figures/subgroup_performance.png',bbox_inches='tight')"
   ]
  },
  {
   "cell_type": "code",
   "execution_count": null,
   "id": "14ed6628-ebc6-4217-87e8-3bdfe6e5dc02",
   "metadata": {},
   "outputs": [],
   "source": [
    "sns.set_theme(style=\"whitegrid\", font_scale=2)\n",
    "\n",
    "g = sns.FacetGrid(results_mcc[results_mcc['exp_name'].isin(['sc16_cnn','sc8_cnn','sc16_llcnn','sc8_llcnn'])].sort_values(by=['model_arch','exp_name']), #'sc16_cnn','sc8_cnn','sc16_llcnn','sc8_llcnn'\n",
    "                  col=\"exp_name\", col_wrap=4, height=5, aspect=1.2, hue=\"domain\", palette=['green','fuchsia'])\n",
    "g.map(sns.kdeplot, \"domain_mcc\",)\n",
    "g.add_legend(title='Subgroup', bbox_to_anchor=(0.96, 0.58), frameon=True, borderpad=1.6)\n",
    "legend = g._legend\n",
    "legend.texts[0].set_text('male')\n",
    "legend.texts[1].set_text('female')\n",
    "g.map(sns.kdeplot, \"all_mcc\", color='black', ls='--')\n",
    "g.add_legend(title='', handles= [g._legend_data['male_mcc']], labels=['overall'], bbox_to_anchor=(0.94, 0.41))\n",
    "for ax in g.axes.flat:\n",
    "    ax_title = ax.get_title().split(' = ')[-1]\n",
    "    arch = ax_title.split('_')[-1]\n",
    "    train_sr = ax_title.split('-')[0].split('_')[0].strip('sc')\n",
    "    input_sr = ax_title.split('-')[-1].strip('sc')\n",
    "    ax.set_xlim([0.6,0.93])\n",
    "    ax.set_title('{}k {}{}'.format(train_sr, arch[:-3], arch[-3:].upper()), fontsize='large', pad=10)\n",
    "    ax.set_xlabel('Accuracy scores (MCC)', fontsize='large', labelpad=15)\n",
    "    ax.set_ylabel('Score density', fontsize='large', labelpad=15)\n",
    "    \n",
    "    sns.despine(left=True)\n",
    "    \n",
    "plt.suptitle('Accuracy score distributions for males and females', fontsize='x-large', va='top', y=1.1)\n",
    "plt.savefig('figures/subgroup_performance_density.png',bbox_inches='tight')"
   ]
  },
  {
   "cell_type": "markdown",
   "id": "60a9210c-afa7-4b32-a23e-832a7f6c7238",
   "metadata": {},
   "source": [
    "### Section 5.2: Impact of Pre-processing Parameters"
   ]
  },
  {
   "cell_type": "code",
   "execution_count": null,
   "id": "edc85358-b220-419a-aa98-b8c7ff0808f3",
   "metadata": {},
   "outputs": [],
   "source": [
    "pre_processing_params = ['mel_bins','frame_step','frame_length','mfccs','input_features','window_fn']\n",
    "dof_preprocessing, fcrit_preprocessing = results_analysis.fcrit(results, pre_processing_params, 0.01)\n",
    "print('dof:', dof_preprocessing, '\\nfcrit:', fcrit_preprocessing)"
   ]
  },
  {
   "cell_type": "code",
   "execution_count": null,
   "id": "bc7cc0f8-af9b-429f-8c14-4959e8a1e795",
   "metadata": {},
   "outputs": [],
   "source": [
    "sns.set_theme(style=\"whitegrid\", font_scale=1.8)\n",
    "results_plot.plot_param_importance(df=results_fairness,\n",
    "                      metrics={'all_mcc':'MCC','model_fairness':'bias'}, \n",
    "                      parameters=\"preprocessing\", \n",
    "                      select_tables=['8000_','16000_'],\n",
    "                      fcrit=fcrit_preprocessing,\n",
    "                      save_fig=False,\n",
    "                      plot_title = \"Pre-processing parameter importance for reliability bias and accuracy (MCC)\")\n",
    "plt.savefig('figures/metric_param_importance.png',bbox_inches='tight')"
   ]
  },
  {
   "cell_type": "code",
   "execution_count": null,
   "id": "770f66d2-5ee2-41b7-ae1f-878f4bb1a381",
   "metadata": {},
   "outputs": [],
   "source": [
    "results_plot.plot_param_importance(df=results_fairness,\n",
    "                      metrics={'male_mcc':'male','female_mcc':'female'}, \n",
    "                      parameters=\"preprocessing\", \n",
    "                      select_tables=['8000_','16000_'],\n",
    "                      fcrit=fcrit_preprocessing,\n",
    "                      save_fig=False,\n",
    "                      palette=['fuchsia', 'green'],\n",
    "                      plot_title = \"Pre-processing parameter importance for subgroup accuracy (MCC)\")"
   ]
  },
  {
   "cell_type": "code",
   "execution_count": null,
   "id": "cba2d178-be7f-4308-b790-5ca8e3068320",
   "metadata": {},
   "outputs": [],
   "source": [
    "results_plot.plot_param_importance(df=results_fairness,\n",
    "                      metrics={'male_fairness':'male','female_fairness':'female'}, \n",
    "                      parameters=\"preprocessing\", \n",
    "                      select_tables=['8000_','16000_'],\n",
    "                      fcrit=fcrit_preprocessing,\n",
    "                      save_fig=False,\n",
    "                      palette=['fuchsia', 'green'],\n",
    "                      plot_title = \"Pre-processing parameter importance for bias across groups\")"
   ]
  },
  {
   "cell_type": "markdown",
   "id": "56c1d2e2-b470-42db-934d-903379055c54",
   "metadata": {},
   "source": [
    "#### Input to Table 2"
   ]
  },
  {
   "cell_type": "code",
   "execution_count": null,
   "id": "f667bf39-cbd9-42ae-8d70-592982ffe58f",
   "metadata": {},
   "outputs": [],
   "source": [
    "results_analysis.generate_importance_tables(results_fairness[results_fairness.equal_weighted==True], \n",
    "                                            'model_fairness', parameters=\"preprocessing\", model_arch='cnn')['16000_']"
   ]
  },
  {
   "cell_type": "code",
   "execution_count": null,
   "id": "f2197cab-9702-4a90-9af7-702f784a2650",
   "metadata": {},
   "outputs": [],
   "source": [
    "results_analysis.generate_importance_tables(results_fairness[results_fairness.equal_weighted==True], \n",
    "                                            'model_fairness', parameters=\"preprocessing\", model_arch='low_latency_cnn')['16000_']"
   ]
  },
  {
   "cell_type": "code",
   "execution_count": null,
   "id": "54327778-7898-4e1d-8982-1442bcb5bc0c",
   "metadata": {},
   "outputs": [],
   "source": [
    "results_analysis.generate_importance_tables(results_fairness[results_fairness.equal_weighted==True], \n",
    "                                            'model_fairness', parameters=\"preprocessing\", model_arch='cnn')['8000_']"
   ]
  },
  {
   "cell_type": "code",
   "execution_count": null,
   "id": "552aa606-fb43-4759-953a-67d210b2e806",
   "metadata": {},
   "outputs": [],
   "source": [
    "results_analysis.generate_importance_tables(results_fairness[results_fairness.equal_weighted==True], \n",
    "                                            'model_fairness', parameters=\"preprocessing\", model_arch='low_latency_cnn')['8000_']"
   ]
  },
  {
   "cell_type": "markdown",
   "id": "6c6a0f31-fefc-4b1a-887a-8de62b93877d",
   "metadata": {},
   "source": [
    "#### Tables in Appendix"
   ]
  },
  {
   "cell_type": "code",
   "execution_count": null,
   "id": "28dfafc4-bb80-46bf-8d19-79720e5ee92d",
   "metadata": {},
   "outputs": [],
   "source": [
    "results_fairness[results_fairness['exp_name'].isin(['sc16_cnn','sc16_llcnn']) \n",
    "                 & (results_fairness['input_features']=='log_mel_spectrogram')\n",
    "                ].groupby(['exp_name','mel_bins'])[['all_mcc','model_fairness']\n",
    "                                                  ].agg(['mean','std']).T#.style.format('{:.1e}')"
   ]
  },
  {
   "cell_type": "code",
   "execution_count": null,
   "id": "427fcd18-b55f-4a5c-bb9d-2e63c92eef98",
   "metadata": {},
   "outputs": [],
   "source": [
    "results_fairness[results_fairness['exp_name'].isin(['sc8_cnn','sc8_llcnn']) \n",
    "                 & (results_fairness['input_features']=='log_mel_spectrogram')\n",
    "                ].groupby(['exp_name','mel_bins'])[['all_mcc','model_fairness']\n",
    "                                                  ].agg(['mean','std']).T#.style.format('{:.1e}')"
   ]
  },
  {
   "cell_type": "code",
   "execution_count": null,
   "id": "9bcf5300-2c5e-43b0-8173-d59b88cbfa51",
   "metadata": {},
   "outputs": [],
   "source": [
    "results_fairness[results_fairness['exp_name'].isin(['sc16_cnn','sc16_llcnn']) \n",
    "                 & (results_fairness['input_features']=='mfcc')\n",
    "                ].groupby(['exp_name','mfccs'])[['all_mcc','model_fairness']\n",
    "                                                  ].agg(['mean','std']).T#.style.format('{:.1e}')"
   ]
  },
  {
   "cell_type": "code",
   "execution_count": null,
   "id": "4ed8667b-b071-4dd4-b912-8663cb9940d7",
   "metadata": {},
   "outputs": [],
   "source": [
    "results_fairness[results_fairness['exp_name'].isin(['sc8_cnn','sc8_llcnn']) \n",
    "                 & (results_fairness['input_features']=='mfcc')\n",
    "                ].groupby(['exp_name','mfccs'])[['all_mcc','model_fairness']\n",
    "                                                  ].agg(['mean','std']).T#.style.format('{:.1e}')"
   ]
  },
  {
   "cell_type": "code",
   "execution_count": null,
   "id": "69322cb6-29d7-418c-8e60-c77e80328431",
   "metadata": {},
   "outputs": [],
   "source": [
    "# sc16_cnn: mfcc / log Mel spec | fairest for each\n",
    "0.016908/0.006664"
   ]
  },
  {
   "cell_type": "code",
   "execution_count": null,
   "id": "a4ad1a98-18f2-4288-9851-679aa00f5924",
   "metadata": {},
   "outputs": [],
   "source": [
    "# sc16_llcnn: mfcc / log Mel spec | fairest for each\n",
    "0.019317/0.013510"
   ]
  },
  {
   "cell_type": "code",
   "execution_count": null,
   "id": "93d7530a-8e44-4b2b-b09a-009cdc55dcc9",
   "metadata": {},
   "outputs": [],
   "source": [
    "# sc8_cnn: mfcc / log Mel spec | fairest for each\n",
    "0.028245/0.010909"
   ]
  },
  {
   "cell_type": "code",
   "execution_count": null,
   "id": "fd995979-b6ea-4929-8ad5-04768357a530",
   "metadata": {},
   "outputs": [],
   "source": [
    "# sc8_llcnn: mfcc / log Mel spec | fairest for each\n",
    "0.043740/0.017558"
   ]
  },
  {
   "cell_type": "code",
   "execution_count": null,
   "id": "ab42fdc9-4cf0-4466-9b63-3ad00e1164d3",
   "metadata": {},
   "outputs": [],
   "source": [
    "sns.set_theme(style=\"whitegrid\", font_scale=2.2)\n",
    "\n",
    "g = sns.relplot(data=results[results['exp_name'].isin(['sc16_cnn','sc8_cnn','sc16_llcnn','sc8_llcnn'])].sort_values(by=['model_arch','exp_name']), \n",
    "                x='male_mcc', y='female_mcc', hue='input_features', col=\"exp_name\", col_wrap=4, palette=['purple','aqua'], height=6, aspect=1.1)\n",
    "for ax in g.axes.flat:\n",
    "    ax_title = ax.get_title().split(' = ')[-1]\n",
    "    arch = ax_title.split('_')[-1]\n",
    "    train_sr = ax_title.split('-')[0].split('_')[0].strip('sc')\n",
    "    input_sr = ax_title.split('-')[-1].strip('sc')\n",
    "    ax.axline((0.89,0.89), (0.9,0.9), c=\"black\", ls='--', linewidth=0.8)\n",
    "    ax.set_title('{}k {}{}'.format(train_sr, arch[:-3], arch[-3:].upper()), fontsize='large', pad=10)\n",
    "#     ax.set_title('{}k {} model'.format(train_sr, arch), fontsize='large')\n",
    "    ax.set_xlabel('Male accuracy \\n $\\mathregular{(MCC_{male})}$', fontsize='large', labelpad=25)\n",
    "    ax.tick_params(axis='both', which='major', labelsize='medium')\n",
    "    ax.set_xlim([0.45,0.89])\n",
    "    ax.set_ylim([0.45,0.89])\n",
    "    ax.set_ylabel('Female accuracy \\n $\\mathregular{(MCC_{female})}$', fontsize='large', labelpad=25)\n",
    "    legend = g._legend\n",
    "    legend.set_bbox_to_anchor((0.93, 0.51))\n",
    "    legend.set_frame_on(True)\n",
    "    legend.set_title('Feature type')\n",
    "    legend.texts[0].set_text('MFCC')\n",
    "    legend.texts[1].set_text('log Mel spectrogram')\n",
    "    sns.despine(bottom=True, left=True)\n",
    "    \n",
    "plt.suptitle('Accuracy score distributions showing effect of feature type on accuracy for males and females', fontsize='x-large', ha='center', x=0.45, va='top', y=1.1)\n",
    "plt.savefig('figures/subgroup_performance_featuretype.png', bbox_inches='tight')"
   ]
  },
  {
   "cell_type": "markdown",
   "id": "be28d00e-fa95-4b75-a7a7-0d4b348e99bd",
   "metadata": {},
   "source": [
    "#### Input to Table 3"
   ]
  },
  {
   "cell_type": "code",
   "execution_count": null,
   "id": "aaf5f560-41bd-4367-a6c7-a8b162c91645",
   "metadata": {},
   "outputs": [],
   "source": [
    "the_best = results_analysis.get_top_result(results_fairness, 'all_mcc', best=1)\n",
    "the_best[the_best['exp_name'].isin(['sc8_cnn','sc16_cnn','sc8_llcnn','sc16_llcnn'])][\n",
    "    ['run_name','exp_id', 'exp_name','model_arch','input_features','frame_length','frame_step','mel_bins',\n",
    "     'mfccs','window_fn','all_mcc','model_fairness']].sort_values(['exp_name','all_mcc'], ascending=False)"
   ]
  },
  {
   "cell_type": "code",
   "execution_count": null,
   "id": "12fa8388-21a0-4e7c-b577-d26a60892b29",
   "metadata": {},
   "outputs": [],
   "source": [
    "the_fairest = results_analysis.get_top_result(results_fairness, 'model_fairness', best=1)\n",
    "the_fairest[the_fairest['exp_name'].isin(['sc8_cnn','sc16_cnn','sc8_llcnn','sc16_llcnn'])]"
   ]
  },
  {
   "cell_type": "code",
   "execution_count": null,
   "id": "4f17dfc6-1ea9-487a-8d2b-6707d397ddae",
   "metadata": {},
   "outputs": [],
   "source": [
    "results_analysis.select_models_in_mcc_range(results_fairness, 'sc16_cnn', best=1, min_percentage_of_mcc=0.99)"
   ]
  },
  {
   "cell_type": "code",
   "execution_count": null,
   "id": "a26ad1d2-4515-477f-804f-adbe31ae2ad5",
   "metadata": {},
   "outputs": [],
   "source": [
    "results_analysis.select_models_in_mcc_range(results_fairness, 'sc16_llcnn', best=1, min_percentage_of_mcc=0.99)"
   ]
  },
  {
   "cell_type": "code",
   "execution_count": null,
   "id": "90a760c4-77f7-40d9-b132-8757d3468268",
   "metadata": {},
   "outputs": [],
   "source": [
    "results_analysis.select_models_in_mcc_range(results_fairness, 'sc8_cnn', best=1, min_percentage_of_mcc=0.99)"
   ]
  },
  {
   "cell_type": "code",
   "execution_count": null,
   "id": "588d0ab4-5782-41f0-9035-1dda3e045a46",
   "metadata": {},
   "outputs": [],
   "source": [
    "results_analysis.select_models_in_mcc_range(results_fairness, 'sc8_llcnn', best=1, min_percentage_of_mcc=0.99)"
   ]
  },
  {
   "cell_type": "code",
   "execution_count": null,
   "id": "8e3e7a92-bd9b-4bea-be45-b3dcd42bf92b",
   "metadata": {},
   "outputs": [],
   "source": [
    "# Reduction in model bias when selecting for accuracy + fairness, rather than accuracy alone\n",
    "# 16k CNN\n",
    "print(0.012009 / 0.000765)\n",
    "\n",
    "# 16k llCNN\n",
    "print(0.000658 / 0.000658)\n",
    "\n",
    "# 8k CNN\n",
    "print(0.009773 / 0.005914)\n",
    "\n",
    "# 8k llCNN\n",
    "print(0.040717 / 0.001824)"
   ]
  },
  {
   "cell_type": "code",
   "execution_count": null,
   "id": "3fb988bd-27c5-4e1c-8899-8782668b7235",
   "metadata": {},
   "outputs": [],
   "source": [
    "# Cost to accuracy when selecting for fairness only\n",
    "# 16k CNN\n",
    "# print(0.877 / 0.849)\n",
    "print(0.849/0.877)\n",
    "\n",
    "# 16k llCNN\n",
    "# print(0.868 / 0.815)\n",
    "print(0.815 / 0.868)\n",
    "\n",
    "# 8k CNN\n",
    "# print(0.804 / 0.762)\n",
    "print(0.762 / 0.804)\n",
    "\n",
    "# 8k llCNN\n",
    "# print(0.778 / 0.740)\n",
    "print(0.740 / 0.778)"
   ]
  },
  {
   "cell_type": "markdown",
   "id": "b6ea8848-9e16-4c17-b70a-443089e40df2",
   "metadata": {},
   "source": [
    "### Section 5.3: Impact of Pruning Hyperparameters"
   ]
  },
  {
   "cell_type": "code",
   "execution_count": null,
   "id": "36b5a977-a1b1-424f-8537-140ff9155acb",
   "metadata": {},
   "outputs": [],
   "source": [
    "best_runs = ['run-1628708435','run-1628757640','run-1628732129','run-1628728028','run-1628733620','run-1628787124','run-1628745492','run-1628778770','run-1628729675','run-1628795284','run-1628762389','run-1628794609']\n",
    "fairest_runs = ['run-1628769835','run-1628786232','run-1628785897','run-1628742549','run-1628765724','run-1628793147','run-1628763273','run-1628776241','run-1628796466','run-1628758822','run-1628753364','run-1628809058']\n",
    "accurate_fair_runs = ['run-1628726178','run-1628729666','run-1628733199','run-1628743272','run-1628759090','run-1628715119','run-1628737906','run-1628782987','run-1628799888','run-1628735838','run-1628806790']"
   ]
  },
  {
   "cell_type": "code",
   "execution_count": null,
   "id": "9f93fe19-b784-43e5-902f-2f10092f9370",
   "metadata": {},
   "outputs": [],
   "source": [
    "len(best_runs)+len(fairest_runs)+len(accurate_fair_runs)"
   ]
  },
  {
   "cell_type": "code",
   "execution_count": null,
   "id": "efa10c62-142a-4bca-a2f8-27718ae02360",
   "metadata": {},
   "outputs": [],
   "source": [
    "results_compress = pd.merge(compression_results, results[results['exp_name'].isin(exp_names['sc_train'])].iloc[:,6:22], \n",
    "                            how='left',left_on='trained_model_path', right_on='run_name', suffixes=[None,'_trained'])\n",
    "# results_compress['equal_weighted'].fillna(False, inplace=True)\n",
    "results_compress['model_fairness'] = results_compress.apply(lambda x: model_unfairness([x['female_mcc'], x['male_mcc']],x['all_mcc']), axis=1)\n",
    "results_compress['model_fairness_trained'] = results_compress.apply(lambda x: model_unfairness([x['female_mcc_trained'], x['male_mcc_trained']],x['all_mcc_trained']), axis=1)\n",
    "results_compress['delta_all_mcc'] = results_compress['all_mcc'] - results_compress['all_mcc_trained']\n",
    "results_compress['delta_male_mcc'] = results_compress['male_mcc'] - results_compress['male_mcc_trained']\n",
    "results_compress['delta_female_mcc'] = results_compress['female_mcc'] - results_compress['female_mcc_trained']\n",
    "results_compress['delta_model_fairness'] = results_compress['model_fairness'] - results_compress['model_fairness_trained']\n",
    "results_compress['model_selected_because'] = np.where(results_compress['trained_model_path'].isin(best_runs), 'best', \n",
    "                                                    np.where(results_compress['trained_model_path'].isin(fairest_runs), 'fairest',\n",
    "                                                             # np.where(results_compress['trained_model_path'].isin(ignorant_runs), 'ignorant', \n",
    "                                                                      np.where(results_compress['trained_model_path'].isin(accurate_fair_runs), \n",
    "                                                                               'accurate_fair_runs', np.nan)))#)"
   ]
  },
  {
   "cell_type": "code",
   "execution_count": null,
   "id": "357e55bc-1c32-48b0-bc7d-64ef1adf1985",
   "metadata": {},
   "outputs": [],
   "source": [
    "results_compress.drop_duplicates(subset=['exp_name','trained_model_path','pruning_schedule','pruning_learning_rate','pruning_frequency','pruning_final_sparsity','quantize','quantization_optimization'], \n",
    "    keep='last', inplace=True)"
   ]
  },
  {
   "cell_type": "code",
   "execution_count": null,
   "id": "e15c196a-f7e7-4410-9ede-7d98e6ed1465",
   "metadata": {},
   "outputs": [],
   "source": [
    "pruning_params = ['trained_model_path','pruning_learning_rate','pruning_schedule', 'pruning_frequency', 'pruning_final_sparsity','model_arch']\n",
    "pruning_params_pretty = ['trained model','learning rate','schedule', 'frequency', 'final sparsity','architecture']\n",
    "dof_pruning_all_arch, fcrit_pruning_all_arch = results_analysis.fcrit(results_compress, pruning_params, 0.01)\n",
    "dof_pruning, fcrit_pruning = results_analysis.fcrit(results_compress, pruning_params[:-1], 0.01)\n",
    "print('dof:', dof_pruning, '\\nfcrit:', fcrit_pruning)"
   ]
  },
  {
   "cell_type": "code",
   "execution_count": null,
   "id": "ad9c3b8d-69f4-4637-8bbd-34442a646ddb",
   "metadata": {},
   "outputs": [],
   "source": [
    "results_analysis.generate_importance_tables(results_compress[results_compress.equal_weighted==True], \n",
    "                                            'model_fairness', parameters=\"compression\", model_arch='cnn')['16000_prune']"
   ]
  },
  {
   "cell_type": "code",
   "execution_count": null,
   "id": "c8884af3-4a6f-4961-8625-cd19cb625b09",
   "metadata": {},
   "outputs": [],
   "source": [
    "results_analysis.generate_importance_tables(results_compress[results_compress.equal_weighted==True], \n",
    "                                            'model_fairness', parameters=\"compression\", model_arch='cnn')['8000_prune']"
   ]
  },
  {
   "cell_type": "code",
   "execution_count": null,
   "id": "1b9b68cf-f082-4fb7-82de-039d9877c79d",
   "metadata": {},
   "outputs": [],
   "source": [
    "results_analysis.generate_importance_tables(results_compress[results_compress.equal_weighted==True], \n",
    "                                            'model_fairness', parameters=\"compression\", model_arch='low_latency_cnn')['16000_prune']"
   ]
  },
  {
   "cell_type": "code",
   "execution_count": null,
   "id": "139a6065-29eb-4abe-9c06-1a44cd866162",
   "metadata": {},
   "outputs": [],
   "source": [
    "results_analysis.generate_importance_tables(results_compress[results_compress.equal_weighted==True], \n",
    "                                            'model_fairness', parameters=\"compression\", model_arch='low_latency_cnn')['8000_prune']"
   ]
  },
  {
   "cell_type": "code",
   "execution_count": null,
   "id": "20e16914-e85a-4bcb-ba5d-88d7d6615234",
   "metadata": {},
   "outputs": [],
   "source": [
    "sns.set_theme(style=\"whitegrid\", font_scale=1.8)\n",
    "results_plot.plot_param_importance(df=results_compress[(results_compress.equal_weighted==True)\n",
    "                                                       # & (results_compress.model_selected_because=='accurate_fair_runs') #select from: best, fairest, accurate_fair_runs\n",
    "                                                      ],\n",
    "                                   metrics={'all_mcc':'MCC','model_fairness':'bias'}, \n",
    "                                   parameters=\"compression\", \n",
    "                                   select_tables=['8000_prune','16000_prune'],\n",
    "                                   fcrit=fcrit_pruning, \n",
    "                                   save_fig=True,\n",
    "                                   pretty_params=dict(zip(pruning_params, pruning_params_pretty)),\n",
    "                                   plot_title = \"Pruning parameter importance for reliability bias and accuracy (MCC)\")\n",
    "plt.savefig('figures/pruning_param_importance.png',bbox_inches='tight')"
   ]
  },
  {
   "cell_type": "code",
   "execution_count": null,
   "id": "c94739ce-469e-4d8d-8cf8-845143d46e9f",
   "metadata": {},
   "outputs": [],
   "source": [
    "results_plot.plot_param_importance(df=results_compress[(results_compress.equal_weighted==True)\n",
    "                                                       # & (results_compress.model_selected_because=='best')\n",
    "                                                      ],\n",
    "                                   metrics={'delta_all_mcc':'delta MCC','delta_model_fairness':'delta bias'}, \n",
    "                                   parameters=\"compression\", \n",
    "                                   select_tables=['8000_prune','16000_prune'],\n",
    "                                   fcrit=fcrit_pruning,  \n",
    "                                   pretty_params=dict(zip(pruning_params, pruning_params_pretty)),\n",
    "                                   plot_title = \"Pruning parameter importance for change in accuracy and reliability bias\")"
   ]
  },
  {
   "cell_type": "code",
   "execution_count": null,
   "id": "8642a822-f4aa-4ce6-9d64-17e134f0843b",
   "metadata": {},
   "outputs": [],
   "source": [
    "sns.set_theme(style=\"whitegrid\", font_scale=2.2)\n",
    "\n",
    "g = sns.relplot(data=results_compress[(results_compress.equal_weighted==True)\n",
    "                                      # & (results_compress.exp_name.isin(['sc8_cnn-compress_ew','sc8_llcnn-compress_ew']))\n",
    "                                      # & (results_compress.model_selected_because=='fairest')\n",
    "                                     ].sort_values(by=['model_arch','exp_name']), \n",
    "                x='male_mcc', y='female_mcc', hue='pruning_learning_rate', \n",
    "                col=\"exp_name\", col_wrap=4, #, row=\"model_selected_because\"\n",
    "                palette=['red','purple','aqua'], \n",
    "                height=6, aspect=1.1)\n",
    "for ax in g.axes.flat:\n",
    "    ax_title = ax.get_title().split(' = ')[-1]\n",
    "    arch = ax_title.split('-')[0].split('_')[-1]\n",
    "    train_sr = ax_title.split('-')[0].split('_')[0].strip('sc')\n",
    "    input_sr = ax_title.split('-')[-1].strip('sc')\n",
    "    ax.axline((0.89,0.89), (0.9,0.9), c=\"black\", ls='--', linewidth=0.8)\n",
    "    ax.set_title('{}k {}{}'.format(train_sr, arch[:-3], arch[-3:].upper()), fontsize='large', pad=10)\n",
    "#     ax.set_title('{}k {} model'.format(train_sr, arch), fontsize='large')\n",
    "    ax.set_xlabel('Male accuracy \\n $\\mathregular{(MCC_{male})}$', fontsize='large', labelpad=25)\n",
    "    ax.tick_params(axis='both', which='major', labelsize='medium')\n",
    "    ax.set_xlim([0.73,0.91])\n",
    "    ax.set_ylim([0.73,0.91])\n",
    "    ax.set_ylabel('Female accuracy \\n $\\mathregular{(MCC_{female})}$', fontsize='large', labelpad=25)\n",
    "    legend = g._legend\n",
    "    legend.set_bbox_to_anchor((0.95, 0.56))\n",
    "    legend.set_frame_on(True)\n",
    "    legend.set_title('Pruning \\nLearning Rate')\n",
    "    # legend.texts[0].set_text('MFCC')\n",
    "    # legend.texts[1].set_text('log Mel spectrogram')\n",
    "    sns.despine(bottom=True, left=True)\n",
    "    \n",
    "plt.suptitle(\"Accuracy scores showing effect of pruning learning rate on males and females\", fontsize='large', ha='center', x=0.42, va='top', y=1.15)\n",
    "plt.savefig('figures/subgroup_performance_pruning_learning_rate.png', bbox_inches='tight')"
   ]
  },
  {
   "cell_type": "code",
   "execution_count": null,
   "id": "61784115-dc0a-4896-9bc9-225b02a6ade8",
   "metadata": {},
   "outputs": [],
   "source": [
    "sns.set_theme(style=\"whitegrid\", font_scale=2.2)\n",
    "\n",
    "g = sns.relplot(data=results_compress[(results_compress.equal_weighted==True)\n",
    "                                      # & (results_compress.model_selected_because=='fairest')\n",
    "                                     ].sort_values(by=['model_arch','exp_name']), \n",
    "                x='delta_all_mcc', y='delta_model_fairness', hue='all_mcc', size='all_mcc',\n",
    "                col=\"exp_name\", col_wrap=4, #, row=\"model_selected_because\"\n",
    "                palette='hsv',\n",
    "                style='model_selected_because',\n",
    "                markers=['o','*','^'],\n",
    "                height=6, aspect=1.1)\n",
    "for ax in g.axes.flat:\n",
    "    ax_title = ax.get_title().split(' = ')[-1]\n",
    "    arch = ax_title.split('-')[0].split('_')[-1]\n",
    "    train_sr = ax_title.split('-')[0].split('_')[0].strip('sc')\n",
    "    input_sr = ax_title.split('-')[-1].strip('sc')\n",
    "    ax.axhline(y=0, color=\"black\", ls='-', linewidth=0.5)\n",
    "    ax.axvline(x=0, color=\"black\", ls='-', linewidth=0.5)\n",
    "    ax.set_title('{}k {}{}'.format(train_sr, arch[:-3], arch[-3:].upper()), fontsize='large', pad=10)\n",
    "#     ax.set_title('{}k {} model'.format(train_sr, arch), fontsize='large')\n",
    "    ax.set_xlabel('Male accuracy \\n $\\mathregular{(MCC_{male})}$', fontsize='large', labelpad=25)\n",
    "    ax.tick_params(axis='both', which='major', labelsize='medium')\n",
    "    # ax.set_xlim([0.73,0.91])\n",
    "    # ax.set_ylim([0.73,0.91])\n",
    "    ax.set_ylabel('Female accuracy \\n $\\mathregular{(MCC_{female})}$', fontsize='large', labelpad=25)\n",
    "    legend = g._legend\n",
    "    legend.set_bbox_to_anchor((0.98,0.56))\n",
    "    legend.set_frame_on(True)\n",
    "    legend.set_title('MCC score')\n",
    "    # legend.texts[0].set_text('MFCC')\n",
    "    # legend.texts[1].set_text('log Mel spectrogram')\n",
    "    sns.despine(bottom=True, left=True)\n",
    "    \n",
    "plt.suptitle(\"Accuracy score distributions showing effect of pruning learning rate on accuracy for males and females\", fontsize='x-large', ha='center', x=0.45, va='top', y=1.1)\n",
    "plt.savefig('figures/subgroup_performance_pruning_learning_rate.png', bbox_inches='tight')"
   ]
  },
  {
   "cell_type": "code",
   "execution_count": null,
   "id": "40e967ea-c620-4e9c-8f62-54f83a71f1b1",
   "metadata": {},
   "outputs": [],
   "source": [
    "g = sns.FacetGrid(results_compress[(results_compress.equal_weighted==True) \n",
    "                                   # & (results_compress.model_selected_because=='best')\n",
    "                                  ].sort_values(by=['model_arch','exp_name']), \n",
    "                  col=\"exp_name\", col_wrap=4, height=5, aspect=1.2, hue=\"model_selected_because\", palette=['red','blue','orange']\n",
    "                 )\n",
    "g.map(sns.kdeplot, \"delta_all_mcc\", cut=0.91, linewidth=2)\n",
    "# g.map(sns.kdeplot, \"model_fairness\")\n",
    "g.add_legend(title='Selection strategy', bbox_to_anchor=(0.96, 0.58), frameon=True, borderpad=0.6)\n",
    "legend = g._legend\n",
    "legend.texts[0].set_text('fairest')\n",
    "legend.texts[1].set_text('accurate & fair')\n",
    "legend.texts[2].set_text('best accuracy')\n",
    "for ax in g.axes.flat:\n",
    "    ax_title = ax.get_title().split(' = ')[-1]\n",
    "    arch = ax_title.split('-')[0].split('_')[-1]\n",
    "    train_sr = ax_title.split('-')[0].split('_')[0].strip('sc')\n",
    "    input_sr = ax_title.split('-')[-1].strip('sc')\n",
    "    # ax.set_xlim([0.7,0.91])\n",
    "    ax.set_title('{}k {}{}'.format(train_sr, arch[:-3], arch[-3:].upper()), fontsize='large', pad=10)\n",
    "    ax.set_xlabel('Change in accuracy (MCC)', labelpad=15)\n",
    "    ax.set_ylabel('Density', labelpad=15)\n",
    "    \n",
    "    sns.despine(left=True)\n",
    "    \n",
    "title = plt.suptitle('Score distributions', fontsize='x-large', va='top', y=1.1)\n",
    "plt.savefig('figures/model_selection_delta_mcc_density.png',bbox_inches='tight')"
   ]
  },
  {
   "cell_type": "code",
   "execution_count": null,
   "id": "e6e05299-6007-4664-b5b3-7598a93ad047",
   "metadata": {},
   "outputs": [],
   "source": [
    "g = sns.FacetGrid(results_compress[(results_compress.equal_weighted==True) \n",
    "                                      # & (results_compress.exp_name.isin(['sc8_cnn-compress_ew','sc8_llcnn-compress_ew']))\n",
    "                                   # & (results_compress.model_selected_because=='best')\n",
    "                                  ].sort_values(by=['model_arch','exp_name','model_selected_because']), \n",
    "                  col=\"exp_name\", col_wrap=4, height=6, aspect=1.1, hue=\"model_selected_because\", palette=['red','blue','orange']\n",
    "                 )\n",
    "# g.map(sns.kdeplot, \"male_mcc\", cut=0.91, linewidth=2)\n",
    "g.map(sns.kdeplot, \"delta_model_fairness\")\n",
    "g.add_legend(title='Selection strategy', bbox_to_anchor=(0.95, 0.58), frameon=True, borderpad=0.6)\n",
    "legend = g._legend\n",
    "legend.texts[0].set_text('accurate + inclusive')\n",
    "legend.texts[1].set_text('accuracy')\n",
    "legend.texts[2].set_text('inclusion')\n",
    "for ax in g.axes.flat:\n",
    "    ax.vlines(x=0, ymin=0, ymax=80, color=\"black\", ls='--', linewidth=2)\n",
    "    ax_title = ax.get_title().split(' = ')[-1]\n",
    "    arch = ax_title.split('-')[0].split('_')[-1]\n",
    "    train_sr = ax_title.split('-')[0].split('_')[0].strip('sc')\n",
    "    input_sr = ax_title.split('-')[-1].strip('sc')\n",
    "    # ax.set_xlim([0.7,0.91])\n",
    "    ax.set_title('{}k {}{}'.format(train_sr, arch[:-3], arch[-3:].upper()), fontsize='large', pad=10)\n",
    "    ax.set_xlabel('$\\Delta$ reliability bias \\n', labelpad=15)\n",
    "    ax.set_ylabel('Density', labelpad=15)\n",
    "    \n",
    "    sns.despine(left=True)\n",
    "    \n",
    "title = plt.suptitle('Density distributions of $\\Delta$ reliability bias for model selection strategies', fontsize='large', ha='center', va='top', y=1.15)\n",
    "plt.savefig('figures/model_selection_delta_fairness_density.png',bbox_inches='tight')"
   ]
  },
  {
   "cell_type": "code",
   "execution_count": null,
   "id": "51169cb7-2cea-4f3d-8dc9-13b0468e7950",
   "metadata": {},
   "outputs": [],
   "source": [
    "results_sparsity = results_compress.loc[:,['equal_weighted','exp_name','pruning_final_sparsity',\n",
    "                                     'pruning_learning_rate','pruning_schedule','pruning_frequency',\n",
    "                                     'trained_model_path','model_selected_because','all_mcc','model_fairness']]\n",
    "results_sparsity.loc[:,'sparsity_max_mcc'] = results_sparsity.groupby(['equal_weighted','exp_name','pruning_final_sparsity'])['all_mcc'].transform('max')#agg({'all_mcc':'max', 'model_fairness':'min'})\n",
    "results_sparsity.loc[:,'sparsity_min_fairness'] = results_sparsity.groupby(['equal_weighted','exp_name','pruning_final_sparsity'])['model_fairness'].transform('min')#agg({'all_mcc':'max', 'model_fairness':'min'})"
   ]
  },
  {
   "cell_type": "code",
   "execution_count": null,
   "id": "5e6affa8-b574-466b-9231-76f65dcb8b9f",
   "metadata": {},
   "outputs": [],
   "source": [
    "def fairest_pruned_model_in_mcc_range(df, exp_name, pruning_final_sparsity, min_percentage_of_mcc=0.99):\n",
    "        \n",
    "    min_mcc = df.where((df.exp_name == exp_name)\n",
    "                       & (df.pruning_final_sparsity == pruning_final_sparsity)\n",
    "                      )['all_mcc'].dropna(how='all').nlargest(1).values[0]*min_percentage_of_mcc\n",
    "\n",
    "    selected_models = df[(df.all_mcc >= min_mcc)\n",
    "                         & (df.exp_name == exp_name)\n",
    "                         & (df.pruning_final_sparsity == pruning_final_sparsity)\n",
    "                        ].dropna(how='all').reset_index(drop=True)\n",
    "    \n",
    "    selected_models = selected_models.iloc[selected_models['model_fairness'].idxmin(),:]\n",
    "        \n",
    "    return selected_models"
   ]
  },
  {
   "cell_type": "code",
   "execution_count": null,
   "id": "1c20699a-a7ee-4ee2-acf8-bc0735d8a2ce",
   "metadata": {},
   "outputs": [],
   "source": [
    "def pruned_model_selection(df, min_percentage_of_mcc):\n",
    "    df_mod = pd.DataFrame()\n",
    "\n",
    "    for a in ['sc8_', 'sc8_ll','sc16_','sc16_ll']:\n",
    "        arch = a+'cnn-compress_ew'\n",
    "        for s in [0.2, 0.5, 0.75, 0.8, 0.85, 0.9]:\n",
    "            df_s = fairest_pruned_model_in_mcc_range(df[df.equal_weighted==True], arch, s, min_percentage_of_mcc)\n",
    "            df_mod = df_mod.append(df_s)\n",
    "                \n",
    "    return df_mod"
   ]
  },
  {
   "cell_type": "code",
   "execution_count": null,
   "id": "b5460816-4416-4938-a078-39e860c42feb",
   "metadata": {},
   "outputs": [],
   "source": [
    "pruned_model_selection(results_sparsity, 1).groupby('exp_name').agg({'all_mcc':['mean','std'],'model_fairness':['mean','std']})"
   ]
  },
  {
   "cell_type": "code",
   "execution_count": null,
   "id": "3f79c166-a0fe-4f01-a5cb-3c31a3dd99f2",
   "metadata": {},
   "outputs": [],
   "source": [
    "pruned_model_selection(results_sparsity, 0.995).groupby('exp_name').agg({'all_mcc':['mean','std'],'model_fairness':['mean','std']})"
   ]
  },
  {
   "cell_type": "code",
   "execution_count": null,
   "id": "4ee6782f-65bb-42ce-ba15-fc43207ce625",
   "metadata": {},
   "outputs": [],
   "source": [
    "# pd.set_option('display.float_format', '{:.1e}'.format)\n",
    "pruned_model_selection(results_sparsity, 0.99).groupby('exp_name').agg({'all_mcc':['mean','std'],'model_fairness':['mean','std']})"
   ]
  },
  {
   "cell_type": "code",
   "execution_count": null,
   "id": "7bec269a-556b-4d8f-8ada-7d45131297c7",
   "metadata": {},
   "outputs": [],
   "source": [
    "pd.set_option('display.float_format', '{:.1e}'.format)\n",
    "pruned_model_selection(results_sparsity, 0).groupby('exp_name').agg({'all_mcc':['mean','std'],'model_fairness':['mean','std']})"
   ]
  },
  {
   "cell_type": "code",
   "execution_count": null,
   "id": "a5bd510b-7524-40f1-afff-11aae6a68820",
   "metadata": {},
   "outputs": [],
   "source": [
    "pd.set_option('display.float_format', '{:.4}'.format)\n",
    "\n",
    "acc_df = pruned_model_selection(results_sparsity, 0.99).sort_values(['exp_name','pruning_final_sparsity'])\n",
    "acc_df"
   ]
  },
  {
   "cell_type": "code",
   "execution_count": null,
   "id": "9c944fa6-1feb-40eb-a16c-52b63bb81356",
   "metadata": {},
   "outputs": [],
   "source": [
    "acc_df.groupby(['exp_name','pruning_learning_rate'])['all_mcc'].count()"
   ]
  },
  {
   "cell_type": "code",
   "execution_count": null,
   "id": "c5c2559c-3f07-4a91-b922-21193cf23d10",
   "metadata": {},
   "outputs": [],
   "source": [
    "acc_df.groupby(['exp_name','pruning_frequency'])['all_mcc'].count()"
   ]
  },
  {
   "cell_type": "code",
   "execution_count": null,
   "id": "57148d4a-95e4-427a-80a7-81e634c60cda",
   "metadata": {},
   "outputs": [],
   "source": [
    "acc_df.groupby(['exp_name','pruning_schedule'])['all_mcc'].count()"
   ]
  },
  {
   "cell_type": "code",
   "execution_count": null,
   "id": "61f9bd8d-e548-4003-a35e-daedfd607352",
   "metadata": {},
   "outputs": [],
   "source": [
    "acc_df.groupby(['exp_name','trained_model_path'])['all_mcc'].count()"
   ]
  },
  {
   "cell_type": "code",
   "execution_count": null,
   "id": "87bfb7f5-427e-4537-8733-204e26c924b2",
   "metadata": {},
   "outputs": [],
   "source": [
    "acc_df.groupby(['model_selected_because'])['all_mcc'].count()"
   ]
  },
  {
   "cell_type": "code",
   "execution_count": null,
   "id": "27d1108d-f502-4bab-ad0b-4ed484e087d3",
   "metadata": {},
   "outputs": [],
   "source": []
  },
  {
   "cell_type": "code",
   "execution_count": null,
   "id": "934658f1-4ef9-444a-927c-5b432b7c486f",
   "metadata": {},
   "outputs": [],
   "source": []
  }
 ],
 "metadata": {
  "kernelspec": {
   "display_name": "Python 3 (ipykernel)",
   "language": "python",
   "name": "python3"
  },
  "language_info": {
   "codemirror_mode": {
    "name": "ipython",
    "version": 3
   },
   "file_extension": ".py",
   "mimetype": "text/x-python",
   "name": "python",
   "nbconvert_exporter": "python",
   "pygments_lexer": "ipython3",
   "version": "3.8.12"
  }
 },
 "nbformat": 4,
 "nbformat_minor": 5
}
