{
 "cells": [
  {
   "cell_type": "markdown",
   "id": "c2958e5c-4aa8-4161-8c21-1d455beaede5",
   "metadata": {},
   "source": [
    "# Results Analysis for TOSEM 2022 paper"
   ]
  },
  {
   "cell_type": "code",
   "execution_count": null,
   "id": "1c6a75a5-d9c8-4bd4-ade5-3ed18f66de3f",
   "metadata": {},
   "outputs": [],
   "source": [
    "%matplotlib inline\n",
    "import pandas as pd\n",
    "import numpy as np\n",
    "import scipy\n",
    "\n",
    "import seaborn as sns\n",
    "sns.set_context(\"paper\")\n",
    "sns.set_theme(style=\"whitegrid\")\n",
    "import matplotlib.pyplot as plt\n",
    "plt.show()\n",
    "import ipywidgets as widgets\n",
    "from ipywidgets import interact, interactive, fixed, interact_manual\n",
    "from IPython.display import display\n",
    "    \n",
    "from fair_embedded_ml.metrics import domain_bias, model_bias\n",
    "from fair_embedded_ml import results_analysis \n",
    "from fair_embedded_ml.results_analysis import exp_names\n",
    "from fair_embedded_ml import results_plot\n",
    "\n",
    "from scipy.stats import f, shapiro\n",
    "import statsmodels.api as sm\n",
    "import statsmodels.formula.api as smf\n",
    "from patsy import dmatrices\n",
    "\n",
    "x_dir = '~/Projects/fair_embedded_ml_results/' #'/data/experiments/'\n",
    "    \n",
    "class fixed_copy(fixed):\n",
    "    def get_interact_value(self):\n",
    "        return self.value.copy()"
   ]
  },
  {
   "cell_type": "code",
   "execution_count": null,
   "id": "0e4f84a1-a09a-4753-8ce2-d3bd73abd769",
   "metadata": {},
   "outputs": [],
   "source": [
    "results = results_analysis.get_results(x_dir)\n",
    "compression_results = results_analysis.get_compression_results(x_dir)\n",
    "results_mcc = results_analysis.get_results_for_domains(results)\n",
    "results_bias = results_analysis.get_bias_results(results_mcc)"
   ]
  },
  {
   "cell_type": "code",
   "execution_count": null,
   "id": "50157893-8c45-47d7-a054-b1c12d963523",
   "metadata": {},
   "outputs": [],
   "source": [
    "experiment_prefixes = ['sc','mswc35_de','mswc35_en','mswc35_fr','mswc35_rw']\n",
    "model_arches = ['8_cnn','16_cnn','8_llcnn','16_llcnn']\n",
    "experiment_names = [i + j for i in experiment_prefixes for j in model_arches]"
   ]
  },
  {
   "cell_type": "code",
   "execution_count": null,
   "id": "4760b769",
   "metadata": {},
   "outputs": [],
   "source": [
    "results_bias = results_bias[results_bias.exp_name.isin(experiment_names)]"
   ]
  },
  {
   "cell_type": "code",
   "execution_count": null,
   "id": "8d7c0a7a-90a0-4d6c-87d3-fd95f62f9c1f",
   "metadata": {},
   "outputs": [],
   "source": [
    "fig_data = pd.DataFrame()\n",
    "\n",
    "for x in experiment_names:\n",
    "    fig_data = pd.concat([fig_data, results_analysis.select_fairest_models_in_mcc_range(results_bias, \n",
    "                                                                                        x, best=3456, \n",
    "                                                                                        min_percentage_of_mcc=0)])\n",
    "\n",
    "fig_data['exp_cat'] = fig_data[['model_arch','resample_rate']\n",
    "                              ].apply(lambda row: ' '.join(row.astype(str)).replace('_',' ')[:-5]+'k', axis=1)\n",
    "cols = fig_data.columns.to_list()[-1:] + fig_data.columns.to_list()[:-1]\n",
    "fig_data = fig_data[cols]\n",
    "\n",
    "fig_data.rename(columns={'model_bias':'reliability bias', 'all_mcc':'MCC (accuracy)',\n",
    "                         'male_fairness':'male_bias','female_fairness':'female_bias'}, inplace=True)  \n",
    "fig_data.replace({'dataset_name': {'speech_commands_gender':'google_sc'}}, inplace=True)"
   ]
  },
  {
   "cell_type": "markdown",
   "id": "8d3667fe-b24c-433e-8ba2-94a33f14babf",
   "metadata": {},
   "source": [
    "# Statistical Analysis"
   ]
  },
  {
   "cell_type": "markdown",
   "id": "92132347-eb6c-48ec-abe2-c630970d6a70",
   "metadata": {},
   "source": [
    "Note: we have a balanced study desig - by design (we set our experiments up to iterate through parameters)  \n",
    "Read more about factorial anova: https://learningstatisticswithr.com/book/anova2.html   \n",
    "Read more about how to do a factorial anova analysis: https://www.pythonfordatascience.org/factorial-anova-python/#test_with_python  \n",
    "Check if assumptions hold for model before doing anova: Levene test (homogeneity of variancy), normality of residuals, independence of observations\n",
    "1. check overall effect (H0: overall model is significant)\n",
    "2. check interaction effect (only if overall effect is significant)\n",
    "3. check main effect (only if interaction effect is insignificant)"
   ]
  },
  {
   "cell_type": "markdown",
   "id": "21e76b8c-3cf0-4946-9cf3-3d0f460a886a",
   "metadata": {
    "jp-MarkdownHeadingCollapsed": true,
    "tags": []
   },
   "source": [
    "## Effect of pre-processing parameters on MCC (accuracy)"
   ]
  },
  {
   "cell_type": "code",
   "execution_count": null,
   "id": "f2cfe266-b83d-43c2-8a10-63c7752794e3",
   "metadata": {},
   "outputs": [],
   "source": [
    "results_bias.groupby(['dataset_name','model_arch','resample_rate'])['all_mcc'].agg(['mean','std','var']).describe()"
   ]
  },
  {
   "cell_type": "markdown",
   "id": "c7579146-1950-4c3c-bfe9-bfd719c31e45",
   "metadata": {
    "tags": []
   },
   "source": [
    "### Factorial Anova Tests"
   ]
  },
  {
   "cell_type": "code",
   "execution_count": null,
   "id": "f06b10ef-562c-4650-98dc-273a5cb7e1b5",
   "metadata": {},
   "outputs": [],
   "source": [
    "def model_stats(model):\n",
    "    print('R_squared: {}\\nR_squared_adj: {}\\nF_val: {}\\np_val: {}\\ndof: {}'.format(\n",
    "        model.rsquared, model.rsquared_adj, model.fvalue, model.f_pvalue, model.df_model))\n",
    "\n",
    "formula = 'all_mcc ~ C(dataset_name, Sum) + C(model_arch, Sum) + C(resample_rate, Sum)\\\n",
    "+ C(mfccs, Sum) + C(mel_bins, Sum)\\\n",
    "+ C(frame_length, Sum) + C(frame_step, Sum) + C(window_fn, Sum)'\n",
    "\n",
    "f_modx1 = 'all_mcc ~ C(dataset_name, Sum) + C(model_arch, Sum) + C(resample_rate, Sum) +\\\n",
    "+ C(mfccs, Sum) + C(mel_bins, Sum) \\\n",
    "+ C(dataset_name, Sum)*C(model_arch, Sum)*C(resample_rate, Sum)*C(mfccs, Sum)*C(mel_bins, Sum)\\\n",
    "+ C(frame_length, Sum) + C(frame_step, Sum) + C(window_fn, Sum) \\\n",
    "+ C(dataset_name, Sum)*C(model_arch, Sum)*C(resample_rate, Sum)*C(frame_length, Sum)*C(frame_step, Sum)*C(window_fn, Sum)'\n",
    "\n",
    "#### These models result in more complex interaction effects ~~~~~~~~~~~~~~~~~~~~~~~\n",
    "\n",
    "f_modx2a = 'all_mcc ~ C(dataset_name, Sum) + C(model_arch, Sum) + C(resample_rate, Sum) +\\\n",
    "+ C(mfccs, Sum) + C(mel_bins, Sum) \\\n",
    "+ C(model_arch, Sum)*C(resample_rate, Sum)*C(mfccs, Sum)*C(mel_bins, Sum) \\\n",
    "+ C(dataset_name, Sum)*C(model_arch, Sum)*C(mfccs, Sum)*C(mel_bins, Sum) \\\n",
    "+ C(dataset_name, Sum)*C(model_arch, Sum)*C(resample_rate, Sum)*C(mfccs, Sum) \\\n",
    "+ C(frame_length, Sum) + C(frame_step, Sum) + C(window_fn, Sum) \\\n",
    "+ C(model_arch, Sum)*C(resample_rate, Sum)*C(frame_length, Sum)*C(frame_step, Sum) + C(model_arch, Sum)*C(window_fn, Sum)*C(frame_length, Sum)*C(frame_step, Sum)'\n",
    "# dataset_name * model_arch * mfccs * mel_bins interaction significant at 1% level\n",
    "# dataset_name * model_arch * resample_rate * mfccs interaction significant at 5% level\n",
    "\n",
    "f_modx2b = 'all_mcc ~ C(dataset_name, Sum) + C(model_arch, Sum) + C(resample_rate, Sum)\\\n",
    "+ C(mfccs, Sum) + C(mel_bins, Sum) \\\n",
    "+ C(dataset_name, Sum)*C(resample_rate, Sum)*C(mfccs, Sum)*C(mel_bins, Sum)\\\n",
    "+ C(frame_length, Sum) + C(frame_step, Sum) + C(window_fn, Sum) \\\n",
    "+ C(dataset_name, Sum)*C(resample_rate, Sum)*C(frame_length, Sum)*C(frame_step, Sum) + C(dataset_name, Sum)*C(window_fn, Sum)*C(frame_length, Sum)*C(frame_step, Sum)'\n",
    "# no significant interactions\n",
    "\n",
    "f_modx3a = 'all_mcc ~ C(dataset_name, Sum) + C(model_arch, Sum) + C(resample_rate, Sum) +\\\n",
    "+ C(mfccs, Sum) + C(mel_bins, Sum) \\\n",
    "+ C(dataset_name, Sum)*C(model_arch, Sum)*C(mfccs, Sum)*C(mel_bins, Sum) \\\n",
    "+ C(dataset_name, Sum)*C(resample_rate, Sum)*C(mfccs, Sum)   \\\n",
    "+ C(frame_length, Sum) + C(frame_step, Sum) + C(window_fn, Sum) \\\n",
    "+ C(model_arch, Sum)*C(frame_length, Sum)*C(frame_step, Sum) + C(window_fn, Sum)*C(frame_length, Sum)*C(frame_step, Sum)'\n",
    "# dataset_name * model_arch * mfccs * mel_bins interaction significant at 5% level only\n",
    "# dataset_name * resample_rate * mfccs interaction significant at 1% level\n",
    "# model_arch * frame_length * frame_step interaction significant at 1% level\n",
    "\n",
    "f_modx4a = 'all_mcc ~ C(dataset_name, Sum) + C(model_arch, Sum) + C(resample_rate, Sum) +\\\n",
    "+ C(mfccs, Sum) + C(mel_bins, Sum) \\\n",
    "+ C(dataset_name, Sum)*C(resample_rate, Sum)*C(mfccs, Sum) \\\n",
    "+ C(model_arch, Sum)*C(mfccs, Sum)*C(mel_bins, Sum) + C(dataset_name, Sum)*C(model_arch, Sum)*C(mfccs, Sum) \\\n",
    "+ C(dataset_name, Sum)*C(mfccs, Sum)*C(mel_bins, Sum) + C(dataset_name, Sum)*C(model_arch, Sum)*C(mel_bins, Sum) \\\n",
    "+ C(frame_length, Sum) + C(frame_step, Sum) + C(window_fn, Sum) \\\n",
    "+ C(model_arch, Sum)*C(frame_length, Sum)*C(frame_step, Sum)'\n",
    "# dataset_name * model_arch * mfccs interaction significant at 1% level\n",
    "# model_arch * mfccs * mel_bins interaction significant at 1% level\n",
    "# dataset_name * model_arch * mel_bins interaction significant at 5% level only\n",
    "# dataset_name * mfccs * mel_bins interaction significant at 5% level only\n",
    "\n",
    "f_modx5a = 'all_mcc ~ C(dataset_name, Sum) + C(model_arch, Sum) + C(resample_rate, Sum) +\\\n",
    "+ C(dataset_name, Sum)*C(model_arch, Sum)*C(resample_rate, Sum)\\\n",
    "+ C(mfccs, Sum) + C(mel_bins, Sum) \\\n",
    "+ C(dataset_name, Sum)*C(resample_rate, Sum)*C(mfccs, Sum) + C(model_arch, Sum)*C(mfccs, Sum)*C(mel_bins, Sum) + C(dataset_name, Sum)*C(model_arch, Sum)*C(mfccs, Sum) \\\n",
    "+ C(frame_length, Sum) + C(frame_step, Sum) + C(window_fn, Sum) \\\n",
    "+ C(model_arch, Sum)*C(frame_length, Sum)*C(frame_step, Sum)'\n",
    "# dataset_name * model_arch * resample_rate interaction significant at 5%\n",
    "\n",
    "f_modx6a = 'all_mcc ~ C(dataset_name, Sum) + C(model_arch, Sum) + C(resample_rate, Sum) +\\\n",
    "+ C(model_arch, Sum)*C(resample_rate, Sum)\\\n",
    "+ C(mfccs, Sum) + C(mel_bins, Sum) \\\n",
    "+ C(dataset_name, Sum)*C(resample_rate, Sum)*C(mfccs, Sum) + C(model_arch, Sum)*C(mfccs, Sum)*C(mel_bins, Sum) + C(dataset_name, Sum)*C(model_arch, Sum)*C(mfccs, Sum) \\\n",
    "+ C(frame_length, Sum) + C(frame_step, Sum) + C(window_fn, Sum) \\\n",
    "+ C(model_arch, Sum)*C(frame_length, Sum)*C(frame_step, Sum)'\n",
    "# no significant interactions \n",
    "\n",
    "f_modx7a = 'all_mcc ~ C(dataset_name, Sum) + C(model_arch, Sum) + C(resample_rate, Sum) +\\\n",
    "+ C(mfccs, Sum) + C(mel_bins, Sum) \\\n",
    "+ C(dataset_name, Sum)*C(resample_rate, Sum)*C(mfccs, Sum) + C(model_arch, Sum)*C(mfccs, Sum)*C(mel_bins, Sum) + C(dataset_name, Sum)*C(model_arch, Sum)*C(mfccs, Sum) \\\n",
    "+ C(frame_length, Sum) + C(frame_step, Sum) + C(window_fn, Sum) \\\n",
    "+ C(model_arch, Sum)*C(frame_length, Sum)*C(frame_step, Sum)'\n",
    "# window_fn no statistically significant effect\n",
    "\n",
    "f_modx8a = 'all_mcc ~ C(dataset_name, Sum) + C(model_arch, Sum) + C(resample_rate, Sum) +\\\n",
    "+ C(mfccs, Sum) + C(mel_bins, Sum) \\\n",
    "+ C(dataset_name, Sum)*C(resample_rate, Sum)*C(mfccs, Sum) + C(model_arch, Sum)*C(mfccs, Sum)*C(mel_bins, Sum) + C(dataset_name, Sum)*C(model_arch, Sum)*C(mfccs, Sum) \\\n",
    "+ C(frame_length, Sum) + C(frame_step, Sum) \\\n",
    "+ C(model_arch, Sum)*C(frame_length, Sum)*C(frame_step, Sum)'\n",
    "# final model of interaction effects of pre-processing parameters on MCC at 1% significance level\n",
    "\n",
    "#### These models result in less complex interaction effects ~~~~~~~~~~~~~~\n",
    "\n",
    "f_modx2 = 'all_mcc ~ C(dataset_name, Sum) + C(model_arch, Sum) + C(resample_rate, Sum)\\\n",
    "+ C(mfccs, Sum) + C(mel_bins, Sum) \\\n",
    "+ C(model_arch, Sum)*C(resample_rate, Sum)*C(mfccs, Sum)*C(mel_bins, Sum)\\\n",
    "+ C(frame_length, Sum) + C(frame_step, Sum) + C(window_fn, Sum) \\\n",
    "+ C(model_arch, Sum)*C(resample_rate, Sum)*C(frame_length, Sum)*C(frame_step, Sum) + C(model_arch, Sum)*C(window_fn, Sum)*C(frame_length, Sum)*C(frame_step, Sum)'\n",
    "# no significant interactions\n",
    "\n",
    "f_modx3 = 'all_mcc ~ C(dataset_name, Sum) + C(model_arch, Sum) + C(resample_rate, Sum)\\\n",
    "+ C(mfccs, Sum) + C(mel_bins, Sum) \\\n",
    "+ C(model_arch, Sum)*C(mfccs, Sum)*C(mel_bins, Sum) + C(resample_rate, Sum)*C(mfccs, Sum)*C(mel_bins, Sum)\\\n",
    "+ C(frame_length, Sum) + C(frame_step, Sum) + C(window_fn, Sum) \\\n",
    "+ C(model_arch, Sum)*C(frame_length, Sum)*C(frame_step, Sum) + C(window_fn, Sum)*C(frame_length, Sum)*C(frame_step, Sum)'\n",
    "# model_arch * mfccs * mel_bins interaction significant at 1% level\n",
    "\n",
    "f_modx4 = 'all_mcc ~ C(dataset_name, Sum) + C(model_arch, Sum) + C(resample_rate, Sum)\\\n",
    "+ C(mfccs, Sum) + C(mel_bins, Sum) \\\n",
    "+ C(model_arch, Sum)*C(mfccs, Sum)*C(mel_bins, Sum) \\\n",
    "+ C(resample_rate, Sum)*C(mfccs, Sum) + C(resample_rate, Sum)*C(mel_bins, Sum)\\\n",
    "+ C(frame_length, Sum) + C(frame_step, Sum) + C(window_fn, Sum)\\\n",
    "+ C(frame_length, Sum)*C(frame_step, Sum) + C(model_arch, Sum)*C(frame_step, Sum) + C(model_arch, Sum)*C(frame_length, Sum)\\\n",
    "+ C(window_fn, Sum)*C(frame_step, Sum) + C(window_fn, Sum)*C(frame_length, Sum)'\n",
    "# frame_length * frame_step interaction significant at 5% level\n",
    "# resample_rate * mfccs interaction significant at 1% level\n",
    "\n",
    "f_modx5 = 'all_mcc ~ C(dataset_name, Sum) + C(model_arch, Sum) + C(resample_rate, Sum)\\\n",
    "+ C(dataset_name, Sum)*C(model_arch, Sum)*C(resample_rate, Sum)\\\n",
    "+ C(mfccs, Sum) + C(mel_bins, Sum) \\\n",
    "+ C(model_arch, Sum)*C(mfccs, Sum)*C(mel_bins, Sum) \\\n",
    "+ C(resample_rate, Sum)*C(mfccs, Sum)\\\n",
    "+ C(frame_length, Sum) + C(frame_step, Sum) + C(window_fn, Sum)'\n",
    "#+ C(frame_length, Sum)*C(frame_step, Sum)'\n",
    "# dataset_name * model_arch * resample_rate interaction significant at 5%\n",
    "\n",
    "f_modx6 = 'all_mcc ~ C(dataset_name, Sum) + C(model_arch, Sum) + C(resample_rate, Sum)\\\n",
    "+ C(model_arch, Sum)*C(resample_rate, Sum) + C(dataset_name, Sum)*C(resample_rate, Sum) + C(dataset_name, Sum)*C(model_arch, Sum)\\\n",
    "+ C(mfccs, Sum) + C(mel_bins, Sum) \\\n",
    "+ C(model_arch, Sum)*C(mfccs, Sum)*C(mel_bins, Sum) \\\n",
    "+ C(resample_rate, Sum)*C(mfccs, Sum)\\\n",
    "+ C(frame_length, Sum) + C(frame_step, Sum) + C(window_fn, Sum)'\n",
    "#+ C(frame_length, Sum)*C(frame_step, Sum)'\n",
    "# dataset_name * model_arch interaction significant at 1%\n",
    "# dataset_name * resample_rate interaction significant at 1%\n",
    "\n",
    "f_modx6_5percent = 'all_mcc ~ C(dataset_name, Sum) + C(model_arch, Sum) + C(resample_rate, Sum)\\\n",
    "+ C(dataset_name, Sum)*C(model_arch, Sum)*C(resample_rate, Sum)\\\n",
    "+ C(mfccs, Sum) + C(mel_bins, Sum) \\\n",
    "+ C(model_arch, Sum)*C(mfccs, Sum)*C(mel_bins, Sum) \\\n",
    "+ C(resample_rate, Sum)*C(mfccs, Sum)\\\n",
    "+ C(frame_length, Sum) + C(frame_step, Sum) + C(window_fn, Sum)\\\n",
    "+ C(frame_length, Sum)*C(frame_step, Sum)'\n",
    "# window_fn no statistically significant effect\n",
    "\n",
    "f_modx7 = 'all_mcc ~ C(dataset_name, Sum) + C(model_arch, Sum) + C(resample_rate, Sum)\\\n",
    "+ C(dataset_name, Sum)*C(resample_rate, Sum) + C(dataset_name, Sum)*C(model_arch, Sum)\\\n",
    "+ C(mfccs, Sum) + C(mel_bins, Sum) \\\n",
    "+ C(model_arch, Sum)*C(mfccs, Sum)*C(mel_bins, Sum) \\\n",
    "+ C(resample_rate, Sum)*C(mfccs, Sum)\\\n",
    "+ C(frame_length, Sum) + C(frame_step, Sum) + C(window_fn, Sum)'\n",
    "#+ C(frame_length, Sum)*C(frame_step, Sum)'\n",
    "# window_fn & frame_length no statistically significant effect\n",
    "\n",
    "f_modx7_5percent = 'all_mcc ~ C(dataset_name, Sum) + C(model_arch, Sum) + C(resample_rate, Sum)\\\n",
    "+ C(dataset_name, Sum)*C(model_arch, Sum)*C(resample_rate, Sum)\\\n",
    "+ C(mfccs, Sum) + C(mel_bins, Sum) \\\n",
    "+ C(model_arch, Sum)*C(mfccs, Sum)*C(mel_bins, Sum) \\\n",
    "+ C(resample_rate, Sum)*C(mfccs, Sum)\\\n",
    "+ C(frame_length, Sum) + C(frame_step, Sum)\\\n",
    "+ C(frame_length, Sum)*C(frame_step, Sum)'\n",
    "# final model of interaction effects of pre-processing parameters on MCC at 5% significance level\n",
    "\n",
    "f_modx8 = 'all_mcc ~ C(dataset_name, Sum) + C(model_arch, Sum) + C(resample_rate, Sum)\\\n",
    "+ C(dataset_name, Sum)*C(resample_rate, Sum) + C(dataset_name, Sum)*C(model_arch, Sum)\\\n",
    "+ C(mfccs, Sum) + C(mel_bins, Sum) \\\n",
    "+ C(model_arch, Sum)*C(mfccs, Sum)*C(mel_bins, Sum) \\\n",
    "+ C(resample_rate, Sum)*C(mfccs, Sum)\\\n",
    "+ C(frame_step, Sum)'\n",
    "# final model of interaction effects of pre-processing parameters on MCC at 1% significance level\n",
    "\n",
    "lm = smf.ols(formula, data = results_bias).fit() #[results_bias.dataset_name=='mswc_de']\n",
    "# lm_X1 = smf.ols(f_modx1, data = results_bias).fit()\n",
    "# lm_X2 = smf.ols(f_modx2, data = results_bias).fit()\n",
    "# lm_X2a = smf.ols(f_modx2a, data = results_bias).fit()\n",
    "# lm_X3 = smf.ols(f_modx3, data = results_bias).fit()\n",
    "# lm_X3a = smf.ols(f_modx3a, data = results_bias).fit()\n",
    "# lm_X4 = smf.ols(f_modx4, data = results_bias).fit()\n",
    "# lm_X4a = smf.ols(f_modx4a, data = results_bias).fit()\n",
    "# lm_X5 = smf.ols(f_modx5, data = results_bias).fit()\n",
    "# lm_X5a = smf.ols(f_modx5a, data = results_bias).fit()\n",
    "# lm_X6 = smf.ols(f_modx6, data = results_bias).fit()\n",
    "# lm_X6a = smf.ols(f_modx6a, data = results_bias).fit()\n",
    "# lm_X6_5percent = smf.ols(f_modx6_5percent, data = results_bias).fit()\n",
    "# lm_X7 = smf.ols(f_modx7, data = results_bias).fit()\n",
    "# lm_X7a = smf.ols(f_modx7a, data = results_bias).fit()\n",
    "# lm_X7_5percent = smf.ols(f_modx7_5percent, data = results_bias).fit()\n",
    "lm_X8 = smf.ols(f_modx8, data = results_bias).fit()\n",
    "lm_X8a = smf.ols(f_modx8a, data = results_bias).fit()\n",
    "# print(lm_X.summary())"
   ]
  },
  {
   "cell_type": "code",
   "execution_count": null,
   "id": "6e360fc4-f511-439d-bd79-f76b2c9ef547",
   "metadata": {},
   "outputs": [],
   "source": [
    "aov_table = sm.stats.anova_lm(lm_X8a, typ=3)\n",
    "aov_table_sig = aov_table.reset_index().merge(sig_f_df, on='df')\n",
    "aov_table_sig['factors'] = aov_table_sig['index'].apply(lambda x : len(x.split(':')))\n",
    "aov_table_sig.set_index('index', inplace=True)\n",
    "aov_table_sig = aov_table_sig[(aov_table_sig['PR(>F)']<=0.05) & (aov_table_sig['F']>=aov_table_sig['F_0.05'])].sort_values(by='factors')\n",
    "pd.concat([aov_table_sig, aov_table.loc[['Residual']]])"
   ]
  },
  {
   "cell_type": "code",
   "execution_count": null,
   "id": "fdc42346-f31b-4cf2-8386-a9aab7ad455c",
   "metadata": {},
   "outputs": [],
   "source": [
    "model_stats(lm_X8a)"
   ]
  },
  {
   "cell_type": "code",
   "execution_count": null,
   "id": "a836eefb-fd3a-403b-a0c8-ca40c477901a",
   "metadata": {},
   "outputs": [],
   "source": [
    "model_stats(lm_X8a)"
   ]
  },
  {
   "cell_type": "code",
   "execution_count": null,
   "id": "2418e229-43da-4ae0-995c-c1a81af88100",
   "metadata": {},
   "outputs": [],
   "source": [
    "f.ppf(q=1-0.05, dfn=1, dfd=1)"
   ]
  },
  {
   "cell_type": "code",
   "execution_count": null,
   "id": "5b98c18a-c2cb-46d7-90a8-2673fa1ffc94",
   "metadata": {},
   "outputs": [],
   "source": [
    "sm.stats.anova_lm(lm, lm_X8)"
   ]
  },
  {
   "cell_type": "code",
   "execution_count": null,
   "id": "d6b3b181-c9e9-4a53-afee-332b1db54f79",
   "metadata": {},
   "outputs": [],
   "source": [
    "# An ANOVA requires 3 assumptions:\n",
    "# https://www.spss-tutorials.com/spss-anova-levenes-test-significant/\n",
    "\n",
    "# 1. independent observations (groups are mutually exclusive, no longitudinal measures) \n",
    "# 2. normality: the dependent variable must follow a normal distribution within each subpopulation (check normality of residuals)\n",
    "# 3. homogeneity: the variance of the dependent variable must be equal over all subpopulations.\n",
    "# Normality is only needed for small sample sizes of, say, N < 25 per subgroup.\n",
    "# Homogeneity is only needed if sample sizes are sharply unequal. If so, run Levene's test. \n",
    "\n",
    "# 1. independence [x]\n",
    "# 2. normality [x]\n",
    "# 3. homogeneity\n",
    "\n",
    "sns.histplot(lm_X8a.resid)\n",
    "\n",
    "fig = plt.figure(figsize= (5, 5))\n",
    "ax = fig.add_subplot(111)\n",
    "\n",
    "normality_plot, stat = scipy.stats.probplot(lm_X8a.resid, plot= plt, rvalue= True)\n",
    "ax.set_title(\"Probability plot of model residual's\", fontsize= 20)\n",
    "ax.set\n",
    "\n",
    "plt.show()"
   ]
  },
  {
   "cell_type": "markdown",
   "id": "8d416a17-9f4e-45f9-9245-7ece27769419",
   "metadata": {
    "jp-MarkdownHeadingCollapsed": true,
    "tags": []
   },
   "source": [
    "### Plots"
   ]
  },
  {
   "cell_type": "code",
   "execution_count": null,
   "id": "cb985f94-2505-4332-9c71-9380cc099886",
   "metadata": {},
   "outputs": [],
   "source": [
    "sns.set_context('paper', font_scale=1.6)\n",
    "df = fig_data.melt(id_vars=fig_data.columns.to_list()[:-2], \n",
    "                            value_vars=['MCC (accuracy)','reliability bias'], var_name='metric')\n",
    "df['mel_bins'] = df['mel_bins'].astype(int)\n",
    "df['mfccs'] = df['mfccs'].astype(int)"
   ]
  },
  {
   "cell_type": "markdown",
   "id": "9ad6742f-fbe9-4ab4-b591-e8c66a4d1971",
   "metadata": {
    "tags": []
   },
   "source": [
    "#### Interaction of Dataset, Sample rate and MFCC dimensions --> Accuracy"
   ]
  },
  {
   "cell_type": "code",
   "execution_count": null,
   "id": "be7ca54c",
   "metadata": {},
   "outputs": [],
   "source": [
    "g = sns.FacetGrid(df, height=4, aspect=3, col=\"resample_rate\", row='metric', sharey=False, sharex=False)\n",
    "g.map(sns.boxplot, \"dataset_name\", \"value\", \"mfccs\", palette=\"tab10\", showfliers=False,\n",
    "      hue_order=df[\"exp_cat\"].unique().sort(), \n",
    "      order=df.dataset_name.unique(), \n",
    "      showmeans=False, meanline=True, meanprops=dict(color=\"black\"),\n",
    "      saturation=0.7,boxprops=dict(alpha=.3))\n",
    "\n",
    "g.map(sns.stripplot, \"dataset_name\", \"value\", \"mfccs\", palette=\"tab10\", dodge=True,\n",
    "      hue_order=df[\"exp_cat\"].unique().sort(), \n",
    "      order=df.dataset_name.unique(), size=1.5)\n",
    "\n",
    "plt.suptitle('Effect of MFCC dimensions on MCC (accuracy) and reliability bias')\n",
    "plt.xlabel('dataset name', labelpad=10)\n",
    "g.fig.axes[0].set_ylabel('MCC (accuracy)\\n(higher is better)')\n",
    "g.fig.axes[2].set_ylabel('reliability bias \\n(lower is better)')\n",
    "g.fig.tight_layout()\n",
    "g.add_legend()\n",
    "display(g)"
   ]
  },
  {
   "cell_type": "code",
   "execution_count": null,
   "id": "62aa5f2b-1205-4fcd-a0b0-c44dd2e87986",
   "metadata": {},
   "outputs": [],
   "source": [
    "g = sns.catplot(\n",
    "    data=df[df.metric=='MCC (accuracy)'], x=\"mfccs\", y=\"value\", col=\"dataset_name\", row=\"resample_rate\",\n",
    "    kind=\"box\", showfliers=True, flierprops=dict(marker='.', markersize=3), height=4, aspect=1, palette='tab10')\n",
    "for ax in g.fig.axes:\n",
    "    ax.set_title(ax.title.get_text().split('|')[-1])\n",
    "g.fig.axes[0].set_ylabel('8kHz')\n",
    "g.fig.axes[5].set_ylabel('16kHz')\n",
    "g.fig.tight_layout()"
   ]
  },
  {
   "cell_type": "markdown",
   "id": "fb10d818-c313-4fdb-a8f7-812e9b94933c",
   "metadata": {
    "tags": []
   },
   "source": [
    "#### Interaction of architecture, Mel bins and MFCC dimensions --> Accuracy"
   ]
  },
  {
   "cell_type": "code",
   "execution_count": null,
   "id": "3dee48fb",
   "metadata": {},
   "outputs": [],
   "source": [
    "sns.set_context('paper', font_scale=1.6)\n",
    "df = fig_data.melt(id_vars=fig_data.columns.to_list()[:-2], \n",
    "                            value_vars=['MCC (accuracy)','reliability bias'], var_name='metric')\n",
    "df['mel_bins'] = df['mel_bins'].astype(int)\n",
    "df['mfccs'] = df['mfccs'].astype(int)\n",
    "               \n",
    "g = sns.FacetGrid(df[df.metric=='MCC (accuracy)'], height=4, aspect=1, col='mfccs', row='model_arch', sharey=False, sharex=False)\n",
    "g.map(sns.boxplot, \"dataset_name\", \"value\", \"mel_bins\", palette=\"tab10\", showfliers=False,\n",
    "      hue_order=df[\"exp_cat\"].unique().sort(), \n",
    "      order=df.dataset_name.unique(), \n",
    "      showmeans=False, meanline=True, meanprops=dict(color=\"black\"),\n",
    "      saturation=0.7,boxprops=dict(alpha=.3))\n",
    "\n",
    "g.map(sns.stripplot, \"dataset_name\", \"value\", \"mel_bins\", palette=\"tab10\", dodge=True,\n",
    "      hue_order=df[\"exp_cat\"].unique().sort(), \n",
    "      order=df.dataset_name.unique(), size=1.5)\n",
    "\n",
    "for ax in g.fig.axes:\n",
    "    ax.set_title(ax.title.get_text().split('|')[-1])\n",
    "    xlabels = [x.get_text() for x in ax.get_xticklabels()]\n",
    "    ax.set_xticklabels(xlabels, rotation=45, horizontalalignment='right')\n",
    "# plt.xlabel('dataset name', labelpad=10)\n",
    "g.fig.axes[0].set_ylabel('CNN')\n",
    "g.fig.axes[6].set_ylabel('low latency CNN')\n",
    "g.fig.tight_layout()\n",
    "g.add_legend()\n",
    "display(g)"
   ]
  },
  {
   "cell_type": "code",
   "execution_count": null,
   "id": "22775b56-2abf-42be-90a8-570a520d3081",
   "metadata": {},
   "outputs": [],
   "source": [
    "g = sns.catplot(\n",
    "    data=df[df.metric=='MCC (accuracy)'], x=\"mel_bins\", y=\"value\", col=\"mfccs\", row=\"model_arch\",\n",
    "    kind=\"box\", showfliers=True, flierprops=dict(marker='.', markersize=1.5), height=4, aspect=1, palette='tab10')\n",
    "for ax in g.fig.axes:\n",
    "    ax.set_title(ax.title.get_text().split('|')[-1])\n",
    "g.fig.axes[0].set_ylabel('CNN')\n",
    "g.fig.axes[6].set_ylabel('low latency CNN')\n",
    "g.fig.tight_layout()"
   ]
  },
  {
   "cell_type": "markdown",
   "id": "fec78e15-bb3e-4d16-a919-8efba4c33565",
   "metadata": {
    "tags": []
   },
   "source": [
    "#### Interaction of dataset, architecture and MFCC dimensions --> Accuracy"
   ]
  },
  {
   "cell_type": "code",
   "execution_count": null,
   "id": "5631e94d-a57f-4544-803c-4a0c3c403530",
   "metadata": {},
   "outputs": [],
   "source": [
    "g = sns.catplot(\n",
    "    data=df[df.metric=='MCC (accuracy)'], x=\"mfccs\", y=\"value\", col=\"dataset_name\", row=\"model_arch\",\n",
    "    kind=\"box\", showfliers=True, flierprops=dict(marker='.', markersize=1.5), height=4, aspect=1, palette='tab10')\n",
    "for ax in g.fig.axes:\n",
    "    ax.set_title(ax.title.get_text().split('|')[-1])\n",
    "g.fig.axes[0].set_ylabel('CNN')\n",
    "g.fig.axes[5].set_ylabel('low latency CNN')\n",
    "g.fig.tight_layout()"
   ]
  },
  {
   "cell_type": "markdown",
   "id": "369520d1-f3df-4e89-a10d-0d01d8f76298",
   "metadata": {
    "tags": []
   },
   "source": [
    "#### Interaction of architecture, frame length and frame step --> Accuracy"
   ]
  },
  {
   "cell_type": "code",
   "execution_count": null,
   "id": "46990098-8ad2-4184-9698-0e4a3eab43e0",
   "metadata": {},
   "outputs": [],
   "source": [
    "g = sns.catplot(\n",
    "    data=df[df.metric=='MCC (accuracy)'], x=\"frame_length\", y=\"value\", col=\"frame_step\", row=\"model_arch\",\n",
    "    kind=\"box\", showfliers=True, flierprops=dict(marker='.', markersize=1.5), height=4, aspect=1, palette='tab10')\n",
    "for ax in g.fig.axes:\n",
    "    ax.set_title(ax.title.get_text().split('|')[-1])\n",
    "g.fig.axes[0].set_ylabel('CNN')\n",
    "g.fig.axes[3].set_ylabel('low latency CNN')\n",
    "g.fig.tight_layout()"
   ]
  },
  {
   "cell_type": "code",
   "execution_count": null,
   "id": "6f60fdd9-3715-412c-8662-8edb0fb55525",
   "metadata": {},
   "outputs": [],
   "source": [
    "g = sns.catplot(\n",
    "    data=df[df.metric=='MCC (accuracy)'], x=\"frame_step\", y=\"value\", col=\"frame_length\", row=\"model_arch\",\n",
    "    kind=\"box\", showfliers=True, flierprops=dict(marker='.', markersize=3), height=4, aspect=1, palette='tab10')\n",
    "for ax in g.fig.axes:\n",
    "    ax.set_title(ax.title.get_text().split('|')[-1])\n",
    "g.fig.axes[0].set_ylabel('CNN')\n",
    "g.fig.axes[4].set_ylabel('low latency CNN')\n",
    "g.fig.tight_layout()"
   ]
  },
  {
   "cell_type": "markdown",
   "id": "1123b9f0-f207-4387-bb0f-ed176836c860",
   "metadata": {
    "tags": []
   },
   "source": [
    "## Effect of Pre-processing Parameters on Reliability Bias"
   ]
  },
  {
   "cell_type": "code",
   "execution_count": null,
   "id": "5966774d-3df6-4472-a6eb-6e3dbb30039a",
   "metadata": {},
   "outputs": [],
   "source": [
    "results_bias.groupby(['dataset_name','model_arch','resample_rate'])['model_bias'].agg(['mean','std', 'var']).describe()"
   ]
  },
  {
   "cell_type": "markdown",
   "id": "0f21143b-e644-4931-ad89-73ddb24d885e",
   "metadata": {
    "tags": []
   },
   "source": [
    "### Factorial Anova Tests"
   ]
  },
  {
   "cell_type": "code",
   "execution_count": null,
   "id": "4a54522b-cded-45db-9036-b8756a50fd79",
   "metadata": {},
   "outputs": [],
   "source": [
    "def model_stats(model):\n",
    "    print('R_squared: {}\\nR_squared_adj: {}\\nF_val: {}\\np_val: {}\\ndof: {}'.format(\n",
    "        model.rsquared, model.rsquared_adj, model.fvalue, model.f_pvalue, model.df_model))\n",
    "\n",
    "f_b = 'model_bias ~ C(dataset_name, Sum) + C(model_arch, Sum) + C(resample_rate, Sum)\\\n",
    "+ C(mfccs, Sum) + C(mel_bins, Sum)\\\n",
    "+ C(frame_length, Sum) + C(frame_step, Sum) + C(window_fn, Sum)'\n",
    "\n",
    "f_bmodx1 = 'model_bias ~ C(dataset_name, Sum) + C(model_arch, Sum) + C(resample_rate, Sum) +\\\n",
    "+ C(mfccs, Sum) + C(mel_bins, Sum) \\\n",
    "+ C(dataset_name, Sum)*C(model_arch, Sum)*C(resample_rate, Sum)*C(mfccs, Sum)*C(mel_bins, Sum)\\\n",
    "+ C(frame_length, Sum) + C(frame_step, Sum) + C(window_fn, Sum) \\\n",
    "+ C(dataset_name, Sum)*C(model_arch, Sum)*C(resample_rate, Sum)*C(frame_length, Sum)*C(frame_step, Sum)*C(window_fn, Sum)'\n",
    "# No significant interactions\n",
    "\n",
    "f_bmodx2 = 'model_bias ~ C(dataset_name, Sum) + C(model_arch, Sum) + C(resample_rate, Sum)\\\n",
    "+ C(mfccs, Sum) + C(mel_bins, Sum) \\\n",
    "+ C(dataset_name, Sum)*C(mfccs, Sum)*C(mel_bins, Sum) + C(dataset_name, Sum)*C(model_arch, Sum)*C(mel_bins, Sum) \\\n",
    "+ C(dataset_name, Sum)*C(resample_rate, Sum)*C(mfccs, Sum) + C(dataset_name, Sum)*C(model_arch, Sum)*C(mfccs, Sum)\\\n",
    "+ C(frame_length, Sum) + C(frame_step, Sum) + C(window_fn, Sum)'\n",
    "# C(dataset_name, Sum):C(model_arch, Sum):C(mfccs, Sum) --> significant at 1%\n",
    "# C(dataset_name, Sum):C(mfccs, Sum):C(mel_bins, Sum) --> significant at 5%\n",
    "# C(dataset_name, Sum):C(model_arch, Sum):C(mel_bins, Sum) --> significant at 5%  \n",
    "# C(dataset_name, Sum):C(resample_rate, Sum):C(mfccs, Sum) --> significant at 5%\n",
    "\n",
    "f_bmodx3 = 'model_bias ~ C(dataset_name, Sum) + C(model_arch, Sum) + C(resample_rate, Sum)\\\n",
    "+ C(dataset_name, Sum)*C(resample_rate, Sum) \\\n",
    "+ C(mfccs, Sum) + C(mel_bins, Sum) \\\n",
    "+ C(dataset_name, Sum)*C(model_arch, Sum)*C(mfccs, Sum) \\\n",
    "+ C(dataset_name, Sum)*C(mel_bins, Sum) \\\n",
    "+ C(frame_length, Sum) + C(frame_step, Sum) + C(window_fn, Sum)'\n",
    "# C(dataset_name, Sum):C(resample_rate, Sum) --> significant at 1%\n",
    "# C(dataset_name, Sum):C(mel_bins, Sum) --> significant at 1%\n",
    "\n",
    "f_bmodx4 = 'model_bias ~ C(dataset_name, Sum) + C(model_arch, Sum) + C(resample_rate, Sum)\\\n",
    "+ C(dataset_name, Sum)*C(resample_rate, Sum) \\\n",
    "+ C(mfccs, Sum) + C(mel_bins, Sum) \\\n",
    "+ C(dataset_name, Sum)*C(model_arch, Sum)*C(mfccs, Sum) \\\n",
    "+ C(dataset_name, Sum)*C(mel_bins, Sum) \\\n",
    "+ C(frame_length, Sum)'\n",
    "# frame_length significant at 5% level only\n",
    "# window_fn no statistically significant effect\n",
    "# frame_step no statistically significant effect\n",
    "\n",
    "lmb = smf.ols(f_b, data = results_bias).fit() #[results_bias.dataset_name=='mswc_de']\n",
    "# lmb_X1 = smf.ols(f_bmodx1, data = results_bias).fit()\n",
    "# lmb_X2 = smf.ols(f_bmodx2, data = results_bias).fit()\n",
    "# lmb_X3 = smf.ols(f_bmodx3, data = results_bias).fit()\n",
    "lmb_X4 = smf.ols(f_bmodx4, data = results_bias).fit()\n",
    "# print(lmb_X4.summary())\n",
    "# print('lmb_X1'), model_stats(lmb_X1)\n",
    "# print('lmb_X2'), model_stats(lmb_X2)\n",
    "# print('lmb_X3'),model_stats(lmb_X3)\n",
    "print('lmb_X4'),model_stats(lmb_X4)"
   ]
  },
  {
   "cell_type": "code",
   "execution_count": null,
   "id": "ed0cd190-81a6-4d4d-a8a2-bca8b184e4ee",
   "metadata": {},
   "outputs": [],
   "source": [
    "aov_table = sm.stats.anova_lm(lmb_X4, typ=3)\n",
    "aov_table_sig = aov_table.reset_index().merge(sig_f_df, on='df')\n",
    "aov_table_sig['factors'] = aov_table_sig['index'].apply(lambda x : len(x.split(':')))\n",
    "aov_table_sig.set_index('index', inplace=True)\n",
    "aov_table_sig = aov_table_sig[(aov_table_sig['PR(>F)']<=0.05) & (aov_table_sig['F']>=aov_table_sig['F_0.05'])].sort_values(by='factors')\n",
    "pd.concat([aov_table_sig, aov_table.loc[['Residual']]])"
   ]
  },
  {
   "cell_type": "code",
   "execution_count": null,
   "id": "be9b8134-f2ad-4940-9fba-2c59617712a7",
   "metadata": {},
   "outputs": [],
   "source": [
    "f.ppf(q=1-0.01, dfn=1, dfd=3)"
   ]
  },
  {
   "cell_type": "code",
   "execution_count": null,
   "id": "1ceb02f1-9cdc-4a82-b215-60d57e697290",
   "metadata": {},
   "outputs": [],
   "source": [
    "sm.stats.anova_lm(lmb, lmb_X4)"
   ]
  },
  {
   "cell_type": "code",
   "execution_count": null,
   "id": "0bf24528-6519-4b79-96b9-fcd768f2b970",
   "metadata": {},
   "outputs": [],
   "source": [
    "# Assumptions check\n",
    "# 1. independence [x]\n",
    "# 2. normality [x]\n",
    "# 3. homogeneity\n",
    "\n",
    "sns.histplot(lmb_X4.resid)\n",
    "\n",
    "fig = plt.figure(figsize= (5, 5))\n",
    "ax = fig.add_subplot(111)\n",
    "\n",
    "normality_plot, stat = scipy.stats.probplot(lmb_X4.resid, plot= plt, rvalue= True)\n",
    "ax.set_title(\"Probability plot of model residual's\", fontsize= 20)\n",
    "ax.set\n",
    "\n",
    "plt.show()"
   ]
  },
  {
   "cell_type": "markdown",
   "id": "1ccb4e2f-67ed-4343-aabf-f5dcba3784c3",
   "metadata": {
    "tags": []
   },
   "source": [
    "### Plots"
   ]
  },
  {
   "cell_type": "code",
   "execution_count": null,
   "id": "8b009458-3a85-4b06-91cd-3392a0aa6d02",
   "metadata": {},
   "outputs": [],
   "source": [
    "sns.set_context('paper', font_scale=1.6)\n",
    "df = fig_data.melt(id_vars=fig_data.columns.to_list()[:-2], \n",
    "                            value_vars=['MCC (accuracy)','reliability bias'], var_name='metric')\n",
    "df['mel_bins'] = df['mel_bins'].astype(int)\n",
    "df['mfccs'] = df['mfccs'].astype(int)"
   ]
  },
  {
   "cell_type": "markdown",
   "id": "51bd7569-d51b-4770-8cf5-963327cf614b",
   "metadata": {
    "tags": []
   },
   "source": [
    "#### Interaction of Dataset, architecture and MFCC dimensions --> Reliablity Bias"
   ]
  },
  {
   "cell_type": "code",
   "execution_count": null,
   "id": "511657c0-c1d7-45dc-bbd3-170208179257",
   "metadata": {},
   "outputs": [],
   "source": [
    "g = sns.catplot(\n",
    "    data=df[df.metric=='reliability bias'], x=\"mfccs\", y=\"value\", col=\"dataset_name\", row=\"model_arch\",\n",
    "    kind=\"box\", showfliers=True, flierprops=dict(marker='.', markersize=1.5), height=4, aspect=1, palette='tab10')\n",
    "for ax in g.fig.axes:\n",
    "    ax.set_title(ax.title.get_text().split('|')[-1])\n",
    "g.fig.axes[0].set_ylabel('CNN')\n",
    "g.fig.axes[5].set_ylabel('low latency CNN')\n",
    "g.fig.tight_layout()"
   ]
  },
  {
   "cell_type": "markdown",
   "id": "62f308ad-5361-4660-8529-970f86d89c88",
   "metadata": {
    "tags": []
   },
   "source": [
    "#### Interaction of dataset and Mel bins --> Reliablity Bias"
   ]
  },
  {
   "cell_type": "code",
   "execution_count": null,
   "id": "9d90377b-483c-4809-9973-88f9a73edc37",
   "metadata": {},
   "outputs": [],
   "source": [
    "g = sns.catplot(\n",
    "    data=df[df.metric=='reliability bias'], x=\"mel_bins\", y=\"value\", col=\"dataset_name\", #row=\"resample_rate\",\n",
    "    kind=\"box\", showfliers=True, flierprops=dict(marker='.', markersize=1.5), height=4, aspect=1, palette='tab10')\n",
    "for ax in g.fig.axes:\n",
    "    ax.set_title(ax.title.get_text().split('|')[-1])\n",
    "# g.fig.axes[0].set_ylabel('8kHz')\n",
    "# g.fig.axes[5].set_ylabel('16kHz')\n",
    "g.fig.tight_layout()"
   ]
  },
  {
   "cell_type": "markdown",
   "id": "39849e42-28f4-459a-a6b2-88eb9645856e",
   "metadata": {
    "tags": []
   },
   "source": [
    "#### Interaction of dataset and sample rate --> Reliablity Bias"
   ]
  },
  {
   "cell_type": "code",
   "execution_count": null,
   "id": "d60ea0bb-170b-4509-9d54-41d9705a3fdb",
   "metadata": {},
   "outputs": [],
   "source": [
    "#Similar to Figure 4\n",
    "\n",
    "g = sns.catplot(\n",
    "    data=df[df.metric=='reliability bias'], x=\"dataset_name\", y=\"value\", col=\"resample_rate\", #row=\"resample_rate\",\n",
    "    kind=\"box\", showfliers=True, flierprops=dict(marker='.', markersize=1.5), height=4, aspect=1.5, palette='tab10')\n",
    "for ax in g.fig.axes:\n",
    "    ax.set_title(ax.title.get_text().split('=')[-1][:-5]+'kHz')\n",
    "g.fig.tight_layout()"
   ]
  },
  {
   "cell_type": "code",
   "execution_count": null,
   "id": "e328fa84-809b-4c74-a917-607f026ce745",
   "metadata": {},
   "outputs": [],
   "source": [
    "g = sns.FacetGrid(data=df, height=8, aspect=1.8, col=\"resample_rate\", #col_order=[16000,8000],\n",
    "                  sharey=True, sharex=False)\n",
    "g.map(sns.boxplot, \"dataset_name\", \"domain_mcc\", \"domain\", palette=['green','fuchsia'], showfliers=False,\n",
    "      hue_order=hue_order, \n",
    "      order=df.dataset_name.unique(), \n",
    "      showmeans=False, meanline=True, meanprops=dict(color=\"black\"),\n",
    "      saturation=0.7,boxprops=dict(alpha=.3))\n",
    "\n",
    "g.map(sns.stripplot, \"dataset_name\", \"domain_mcc\", \"domain\", palette=['green','fuchsia'], dodge=True,\n",
    "      hue_order=hue_order, \n",
    "      order=df.dataset_name.unique(), size=1.5)\n",
    "\n",
    "g.fig.tight_layout()\n",
    "g.add_legend()\n",
    "for ax in g.fig.axes:\n",
    "    ax.xaxis.grid(True, which='major', linestyle='-')\n",
    "    ax.set_xticks([0.5, 1.5, 2.5, 3.5, 4.5])\n",
    "g.set_xticklabels(rotation=0, fontdict={'ha': 'right'})\n",
    "display(g)"
   ]
  },
  {
   "cell_type": "markdown",
   "id": "49edf24c-82cb-45d6-a1b8-37d074367719",
   "metadata": {
    "tags": []
   },
   "source": [
    "## Effect of Pruning Hyperparameters on Delta Reliability Bias"
   ]
  },
  {
   "cell_type": "markdown",
   "id": "ea56a880-94e1-43ef-aad1-99170b3c0cc3",
   "metadata": {
    "tags": []
   },
   "source": [
    "### Results setup"
   ]
  },
  {
   "cell_type": "code",
   "execution_count": null,
   "id": "e3548bd3-8412-442a-a776-06885df283e8",
   "metadata": {},
   "outputs": [],
   "source": [
    "# Google speech commands\n",
    "sc_best_runs = ['run-1628708435','run-1628757640','run-1628732129','run-1628728028','run-1628733620','run-1628787124','run-1628745492','run-1628778770','run-1628729675','run-1628795284','run-1628762389','run-1628794609']\n",
    "sc_fairest_runs = ['run-1628769835','run-1628786232','run-1628785897','run-1628742549','run-1628765724','run-1628793147','run-1628763273','run-1628776241','run-1628796466','run-1628758822','run-1628753364','run-1628809058']\n",
    "sc_accurate_fair_runs = ['run-1628726178','run-1628729666','run-1628733199','run-1628743272','run-1628759090','run-1628715119','run-1628737906','run-1628782987','run-1628799888','run-1628735838','run-1628806790']\n",
    "sc_results_compress = results_analysis.pruning_results(results, compression_results, 'compress_sc','sc_train',sc_best_runs,sc_fairest_runs,sc_accurate_fair_runs)\n",
    "sc_results_compress.fillna(value={'dataset_name':'speech_commands_gender'}, inplace=True) # for a mysterious reason some datasets show up as nan\n",
    "sc_results_compress.drop_duplicates(subset=['exp_name','trained_model_path','pruning_schedule','pruning_learning_rate','pruning_frequency','pruning_final_sparsity','quantize','quantization_optimization'], \n",
    "                                    keep='last', inplace=True)\n",
    "\n",
    "# mswc_de\n",
    "de_best_runs = ['run-1664180817','run-1664229064','run-1664250798','run-1664183108','run-1664261879','run-1664411664','run-1664181900','run-1664206013','run-1664214242','run-1664180873','run-1664184317','run-1664323171']\n",
    "de_fairest_runs = ['run-1664213870','run-1664280611','run-1664355580','run-1664269786','run-1664314689','run-1664316426','run-1664208514','run-1664302583','run-1664379577','run-1664193259','run-1664246067','run-1664329149',]\n",
    "de_accurate_fair_runs = ['run-1664186536','run-1664280930','run-1664195328','run-1664262566','run-1664265796','run-1664336740','run-1664318691','run-1664305528','run-1664304376','run-1664182005','run-1664182187','run-1664323528',]\n",
    "de_results_compress = results_analysis.pruning_results(results, compression_results, 'compress_mswc_de','mswc_de',de_best_runs,de_fairest_runs,de_accurate_fair_runs)\n",
    "de_results_compress.drop_duplicates(subset=['exp_name','trained_model_path','pruning_schedule','pruning_learning_rate','pruning_frequency','pruning_final_sparsity','quantize','quantization_optimization'], \n",
    "                                    keep='last', inplace=True)\n",
    "\n",
    "# mswc_fr\n",
    "fr_best_runs = ['run-1664062899','run-1664067479','run-1664122910','run-1664108246','run-1664108466','run-1664154522','run-1664021255','run-1664043976','run-1664090960','run-1664017583','run-1664116909','run-1664124001']\n",
    "fr_fairest_runs = ['run-1664051632','run-1664082316','run-1664134988','run-1664018358','run-1664032036','run-1664063647','run-1664085357','run-1664086441','run-1664096317','run-1664045404','run-1664097051','run-1664103387']\n",
    "fr_accurate_fair_runs = ['run-1664042826','run-1664049510','run-1664061342','run-1664121834','run-1664109926','run-1664096743','run-1664075625','run-1664028003','run-1664053130','run-1664118505','run-1664077198','run-1664118377']\n",
    "fr_results_compress = results_analysis.pruning_results(results, compression_results, 'compress_mswc_fr','mswc_fr',fr_best_runs,fr_fairest_runs,fr_accurate_fair_runs)\n",
    "fr_results_compress.drop_duplicates(subset=['exp_name','trained_model_path','pruning_schedule','pruning_learning_rate','pruning_frequency','pruning_final_sparsity','quantize','quantization_optimization'], \n",
    "                                    keep='last', inplace=True)\n",
    "\n",
    "# mswc_en\n",
    "en_best_runs = ['run-1664275396','run-1664386479','run-1664491179','run-1664201605','run-1664379390','run-1664508832','run-1664214160','run-1664253756','run-1664403188','run-1664378805','run-1664502091','run-1664512368']\n",
    "en_fairest_runs = ['run-1664188494','run-1664216627','run-1664494629','run-1664591096','run-1664634078','run-1664656518','run-1664313713','run-1664462393','run-1664492924','run-1664387434','run-1664569767','run-1664636409']\n",
    "en_accurate_fair_runs = ['run-1664215347','run-1664198161','run-1664487562','run-1664508099','run-1664378626','run-1664508446','run-1664186500','run-1664427588','run-1664268595','run-1664217620','run-1664185374','run-1664189422']\n",
    "en_results_compress = results_analysis.pruning_results(results, compression_results, 'compress_mswc_en','mswc_en',en_best_runs,en_fairest_runs,en_accurate_fair_runs)\n",
    "en_results_compress.drop_duplicates(subset=['exp_name','trained_model_path','pruning_schedule','pruning_learning_rate','pruning_frequency','pruning_final_sparsity','quantize','quantization_optimization'], \n",
    "                                    keep='last', inplace=True)\n",
    "\n",
    "# mswc_rw\n",
    "rw_best_runs = ['run-1664017217','run-1664034824','run-1664076207','run-1664031270','run-1664052670','run-1664060100','run-1664017072','run-1664034345','run-1664060358','run-1664057681','run-1664115743','run-1664115971']\n",
    "rw_fairest_runs = ['run-1664018113','run-1664036302','run-1664076284','run-1664040385','run-1664053265','run-1664104614','run-1664033769','run-1664038064','run-1664091561','run-1664042712','run-1664110816','run-1664127256']\n",
    "rw_accurate_fair_runs = ['run-1664048908','run-1664049806']\n",
    "rw_results_compress = results_analysis.pruning_results(results, compression_results, 'compress_mswc_rw','mswc_rw',rw_best_runs,rw_fairest_runs,rw_accurate_fair_runs)\n",
    "rw_results_compress.drop_duplicates(subset=['exp_name','trained_model_path','pruning_schedule','pruning_learning_rate','pruning_frequency','pruning_final_sparsity','quantize','quantization_optimization'], \n",
    "                                    keep='last', inplace=True)\n",
    "\n",
    "results_compress_compare = pd.concat([sc_results_compress, de_results_compress, fr_results_compress,\n",
    "                                     en_results_compress, rw_results_compress])\n",
    "\n",
    "results_compress_compare['exp_cat'] = results_compress_compare[['model_arch','resample_rate']\n",
    "                                                              ].apply(lambda row: ' '.join(row.astype(str)).replace('_',' ')[:-3]+'kHz', axis=1)"
   ]
  },
  {
   "cell_type": "markdown",
   "id": "aa7da303-370e-46f4-b306-5defa9ab30ea",
   "metadata": {
    "jp-MarkdownHeadingCollapsed": true,
    "tags": []
   },
   "source": [
    "### Factorial Anova Tests"
   ]
  },
  {
   "cell_type": "code",
   "execution_count": null,
   "id": "b3b4826b-77c7-4dc2-9524-5a74012efed3",
   "metadata": {},
   "outputs": [],
   "source": [
    "f_list = []\n",
    "for dof in [1, 2, 4, 5, 8, 10, 20, 40, 51, 55]:\n",
    "    f_list.append([dof, f.ppf(q=1-0.01, dfn=1, dfd=dof), f.ppf(q=1-0.05, dfn=1, dfd=dof)])\n",
    "\n",
    "sig_f_df = pd.DataFrame(f_list, columns=['df', 'F_0.01', 'F_0.05']) "
   ]
  },
  {
   "cell_type": "code",
   "execution_count": null,
   "id": "c693da7d-6e84-415c-80d1-6d5353b28460",
   "metadata": {},
   "outputs": [],
   "source": [
    "sig_f_df"
   ]
  },
  {
   "cell_type": "code",
   "execution_count": null,
   "id": "306ec0a2-3d6c-4fbd-8655-6175acb799f3",
   "metadata": {},
   "outputs": [],
   "source": [
    "def model_stats(model):\n",
    "    print('R_squared: {}\\nR_squared_adj: {}\\nF_val: {}\\np_val: {}\\ndof: {}'.format(\n",
    "        model.rsquared, model.rsquared_adj, model.fvalue, model.f_pvalue, model.df_model))\n",
    "\n",
    "hpformula = 'delta_model_bias ~ all_mcc_trained + model_bias_trained + C(dataset_name, Sum) + C(model_arch, Sum) + C(resample_rate, Sum) \\\n",
    "+ C(pruning_learning_rate, Sum) + C(pruning_schedule, Sum) + C(pruning_frequency, Sum) + C(pruning_final_sparsity, Sum)'\n",
    "\n",
    "hpf_modx1 = 'delta_model_bias ~ all_mcc_trained + model_bias_trained + C(dataset_name, Sum) + C(model_arch, Sum) + C(resample_rate, Sum) \\\n",
    "+ C(pruning_learning_rate, Sum) + C(pruning_schedule, Sum) + C(pruning_frequency, Sum) + C(pruning_final_sparsity, Sum)\\\n",
    "+ C(dataset_name, Sum)*C(model_arch, Sum)*C(resample_rate, Sum)*C(pruning_learning_rate, Sum)*C(pruning_schedule, Sum)*C(pruning_frequency, Sum)*C(pruning_final_sparsity, Sum)'\n",
    "# no significant interaction\n",
    "\n",
    "hpf_modx2 = 'delta_model_bias ~ all_mcc_trained + model_bias_trained + C(dataset_name, Sum) + C(model_arch, Sum) + C(resample_rate, Sum) \\\n",
    "+ C(pruning_learning_rate, Sum) + C(pruning_schedule, Sum) + C(pruning_frequency, Sum) + C(pruning_final_sparsity, Sum)\\\n",
    "+ C(dataset_name, Sum)*C(model_arch, Sum)*C(resample_rate, Sum)*C(pruning_learning_rate, Sum)*C(pruning_final_sparsity, Sum)\\\n",
    "+ C(dataset_name, Sum)*C(model_arch, Sum)*C(pruning_learning_rate, Sum)*C(pruning_schedule, Sum)\\\n",
    "+ C(dataset_name, Sum)*C(pruning_learning_rate, Sum)*C(pruning_schedule, Sum)*C(pruning_final_sparsity, Sum)\\\n",
    "+ C(model_arch, Sum)*C(pruning_learning_rate, Sum)*C(pruning_schedule, Sum)*C(pruning_final_sparsity, Sum)'\n",
    "# C(dataset_name, Sum):C(model_arch):C(resample_rate):C(pruning_learning_rate, Sum):C(pruning_final_sparsity, Sum) --> significant at 5%\n",
    "\n",
    "hpf_modx3a = 'delta_model_bias ~ all_mcc_trained + model_bias_trained + C(dataset_name, Sum) + C(model_arch, Sum) + C(resample_rate, Sum) \\\n",
    "+ C(pruning_learning_rate, Sum) + C(pruning_schedule, Sum) + C(pruning_frequency, Sum) + C(pruning_final_sparsity, Sum)\\\n",
    "+ C(dataset_name, Sum)*C(model_arch, Sum)*C(resample_rate, Sum)*C(pruning_learning_rate, Sum)*C(pruning_final_sparsity, Sum)\\\n",
    "+ C(dataset_name, Sum)*C(pruning_schedule, Sum)*C(pruning_final_sparsity, Sum) \\\n",
    "+ C(pruning_learning_rate, Sum)*C(pruning_schedule, Sum)*C(pruning_final_sparsity, Sum)'\n",
    "\n",
    "hpf_modx3 = 'delta_model_bias ~ all_mcc_trained + model_bias_trained + C(dataset_name, Sum) + C(model_arch, Sum) + C(resample_rate, Sum) \\\n",
    "+ C(pruning_learning_rate, Sum) + C(pruning_schedule, Sum) + C(pruning_frequency, Sum) + C(pruning_final_sparsity, Sum)\\\n",
    "+ C(dataset_name, Sum)*C(model_arch, Sum)*C(resample_rate, Sum)*C(pruning_learning_rate, Sum) \\\n",
    "+ C(model_arch, Sum)*C(resample_rate, Sum)*C(pruning_learning_rate, Sum)*C(pruning_final_sparsity, Sum)\\\n",
    "+ C(dataset_name, Sum)*C(pruning_learning_rate, Sum)*C(pruning_final_sparsity, Sum) \\\n",
    "+ C(dataset_name, Sum)*C(pruning_schedule, Sum)*C(pruning_final_sparsity, Sum) \\\n",
    "+ C(dataset_name, Sum)*C(model_arch, Sum)*C(pruning_final_sparsity, Sum)\\\n",
    "+ C(pruning_learning_rate, Sum)*C(pruning_schedule, Sum)*C(pruning_final_sparsity, Sum)'\n",
    "# C(dataset_name, Sum):C(model_arch):C(resample_rate):C(pruning_learning_rate, Sum) --> significant at 1%\n",
    "# C(dataset_name, Sum):C(pruning_learning_rate):C(pruning_final_sparsity, Sum) --> significant at 1%\n",
    "# C(dataset_name, Sum):C(model_arch):C(pruning_final_sparsity, Sum) --> significant at 1%\n",
    "# C(pruning_learning_rate, Sum):C(pruning_schedule, Sum):C(pruning_final_sparsity, Sum) --> significant at 5%\n",
    "\n",
    "hpf_modx4 = 'delta_model_bias ~ all_mcc_trained + model_bias_trained + C(dataset_name, Sum) + C(model_arch, Sum) + C(resample_rate, Sum) \\\n",
    "+ C(pruning_learning_rate, Sum) + C(pruning_schedule, Sum) + C(pruning_frequency, Sum) + C(pruning_final_sparsity, Sum)\\\n",
    "+ C(dataset_name, Sum)*C(model_arch, Sum)*C(resample_rate, Sum)*C(pruning_learning_rate, Sum) \\\n",
    "+ C(dataset_name, Sum)*C(pruning_learning_rate, Sum)*C(pruning_final_sparsity, Sum) \\\n",
    "+ C(dataset_name, Sum)*C(model_arch, Sum)*C(pruning_final_sparsity, Sum)\\\n",
    "+ C(model_arch, Sum)*C(pruning_learning_rate, Sum)*C(pruning_final_sparsity, Sum)\\\n",
    "+ C(pruning_learning_rate, Sum)*C(pruning_schedule, Sum)*C(pruning_final_sparsity, Sum)\\\n",
    "+ C(dataset_name, Sum)*C(pruning_schedule, Sum)*C(pruning_final_sparsity, Sum)'\n",
    "\n",
    "hpf_modx5 = 'delta_model_bias ~ all_mcc_trained + model_bias_trained + C(dataset_name, Sum) + C(model_arch, Sum) + C(resample_rate, Sum) \\\n",
    "+ C(pruning_learning_rate, Sum) + C(pruning_schedule, Sum) + C(pruning_frequency, Sum) + C(pruning_final_sparsity, Sum)\\\n",
    "+ C(dataset_name, Sum)*C(model_arch, Sum)*C(resample_rate, Sum)*C(pruning_learning_rate, Sum) \\\n",
    "+ C(dataset_name, Sum)*C(pruning_learning_rate, Sum)*C(pruning_final_sparsity, Sum) \\\n",
    "+ C(pruning_schedule, Sum)*C(pruning_final_sparsity, Sum)\\\n",
    "+ C(model_arch, Sum)*C(pruning_final_sparsity, Sum)\\\n",
    "+ C(dataset_name, Sum)*C(pruning_schedule, Sum)'\n",
    "\n",
    "hpf_modx6 = 'delta_model_bias ~ all_mcc_trained + model_bias_trained + C(dataset_name, Sum) + C(model_arch, Sum) + C(resample_rate, Sum) \\\n",
    "+ C(pruning_learning_rate, Sum) + C(pruning_schedule, Sum) + C(pruning_frequency, Sum) + C(pruning_final_sparsity, Sum)\\\n",
    "+ C(dataset_name, Sum)*C(model_arch, Sum)*C(resample_rate, Sum)*C(pruning_learning_rate, Sum)\\\n",
    "+ C(dataset_name, Sum)*C(pruning_learning_rate, Sum)*C(pruning_final_sparsity, Sum) \\\n",
    "+ C(pruning_schedule, Sum)*C(pruning_final_sparsity, Sum)\\\n",
    "+ C(model_arch, Sum)*C(pruning_final_sparsity, Sum)\\\n",
    "'\n",
    "\n",
    "hplm = smf.ols(hpformula, data = results_compress_compare).fit() #[results_bias.dataset_name=='mswc_de']\n",
    "hplm_X1 = smf.ols(hpf_modx1, data = results_compress_compare).fit()\n",
    "# hplm_X2 = smf.ols(hpf_modx2, data = results_compress_compare).fit()\n",
    "# hplm_X3 = smf.ols(hpf_modx3a, data = results_compress_compare).fit()\n",
    "# hplm_X4 = smf.ols(hpf_modx4, data = results_compress_compare).fit()\n",
    "# hplm_X5 = smf.ols(hpf_modx5, data = results_compress_compare).fit()\n",
    "hplm_X6 = smf.ols(hpf_modx6, data = results_compress_compare).fit()\n",
    "\n",
    "# print(hplm.summary())\n",
    "# print('hplm_X1'), model_stats(hplm_X1)\n",
    "# print('\\nhplm_X2'), model_stats(hplm_X2)\n",
    "# print('\\nhplm_X3'),model_stats(hplm_X3)\n",
    "# print('\\nhplm_X4'),model_stats(hplm_X4)\n",
    "# print('\\nhplm_X5'),model_stats(hplm_X5)\n",
    "print('\\nhplm_X6'),model_stats(hplm_X6)"
   ]
  },
  {
   "cell_type": "code",
   "execution_count": null,
   "id": "c5dc384c-c542-488a-b693-581f9f99ac9b",
   "metadata": {},
   "outputs": [],
   "source": [
    "aov_table = sm.stats.anova_lm(hplm_X6, typ=3)\n",
    "aov_table_sig = aov_table.reset_index().merge(sig_f_df, on='df')\n",
    "aov_table_sig['factors'] = aov_table_sig['index'].apply(lambda x : len(x.split(':')))\n",
    "aov_table_sig.set_index('index', inplace=True)\n",
    "aov_table_sig = aov_table_sig[(aov_table_sig['PR(>F)']<=0.05) & (aov_table_sig['F']>=aov_table_sig['F_0.05'])].sort_values(by='factors')\n",
    "pd.concat([aov_table_sig, aov_table.loc[['Residual']]])"
   ]
  },
  {
   "cell_type": "code",
   "execution_count": null,
   "id": "baa78f1f-ecda-494c-967e-7182b071cd0d",
   "metadata": {},
   "outputs": [],
   "source": [
    "sns.histplot(hplm_X6.resid)\n",
    "\n",
    "fig = plt.figure(figsize= (5, 5))\n",
    "ax = fig.add_subplot(111)\n",
    "\n",
    "normality_plot, stat = scipy.stats.probplot(hplm_X6.resid, plot= plt, rvalue= True)\n",
    "ax.set_title(\"Probability plot of model residual's\", fontsize= 20)\n",
    "ax.set\n",
    "\n",
    "plt.show()"
   ]
  },
  {
   "cell_type": "markdown",
   "id": "e81fbd20-0dc9-492c-8c39-242336d537f6",
   "metadata": {
    "jp-MarkdownHeadingCollapsed": true,
    "tags": []
   },
   "source": [
    "## Effect of Pruning Hyperparameters on Delta MCC (accuracy)"
   ]
  },
  {
   "cell_type": "markdown",
   "id": "22191a3e-e375-4dcc-8952-77407df5089f",
   "metadata": {
    "tags": []
   },
   "source": [
    "### Factorial Anova"
   ]
  },
  {
   "cell_type": "code",
   "execution_count": null,
   "id": "36327e83-a2fa-4c99-916d-b90848fbe615",
   "metadata": {},
   "outputs": [],
   "source": [
    "def model_stats(model):\n",
    "    print('R_squared: {}\\nR_squared_adj: {}\\nF_val: {}\\np_val: {}\\ndof: {}'.format(\n",
    "        model.rsquared, model.rsquared_adj, model.fvalue, model.f_pvalue, model.df_model))\n",
    "\n",
    "hp_adformula = 'delta_all_mcc ~ all_mcc_trained + model_bias_trained + C(dataset_name, Sum) + C(model_arch, Sum) + C(resample_rate, Sum) \\\n",
    "+ C(pruning_learning_rate, Sum) + C(pruning_schedule, Sum) + C(pruning_frequency, Sum) + C(pruning_final_sparsity, Sum)'\n",
    "\n",
    "hpf_admodx1 = 'delta_all_mcc ~ all_mcc_trained + model_bias_trained + C(dataset_name, Sum) + C(model_arch, Sum) + C(resample_rate, Sum) \\\n",
    "+ C(pruning_learning_rate, Sum) + C(pruning_schedule, Sum) + C(pruning_frequency, Sum) + C(pruning_final_sparsity, Sum)\\\n",
    "+ C(dataset_name, Sum)*C(model_arch, Sum)*C(resample_rate, Sum)*C(pruning_learning_rate, Sum)*C(pruning_schedule, Sum)*C(pruning_frequency, Sum)*C(pruning_final_sparsity, Sum)'\n",
    "# no significant interaction\n",
    "\n",
    "hpf_admodx2 = 'delta_all_mcc ~ all_mcc_trained + model_bias_trained + C(dataset_name, Sum) + C(model_arch, Sum) + C(resample_rate, Sum) \\\n",
    "+ C(pruning_learning_rate, Sum) + C(pruning_schedule, Sum) + C(pruning_frequency, Sum) + C(pruning_final_sparsity, Sum)\\\n",
    "+ C(dataset_name, Sum)*C(model_arch, Sum)*C(resample_rate, Sum)*C(pruning_learning_rate, Sum)*C(pruning_schedule, Sum)*C(pruning_frequency, Sum)\\\n",
    "+ C(dataset_name, Sum)*C(model_arch, Sum)*C(resample_rate, Sum)*C(pruning_learning_rate, Sum)*C(pruning_schedule, Sum)*C(pruning_final_sparsity, Sum)\\\n",
    "+ C(dataset_name, Sum)*C(model_arch, Sum)*C(resample_rate, Sum)*C(pruning_learning_rate, Sum)*C(pruning_frequency, Sum)*C(pruning_final_sparsity, Sum)\\\n",
    "+ C(dataset_name, Sum)*C(model_arch, Sum)*C(resample_rate, Sum)*C(pruning_schedule, Sum)*C(pruning_frequency, Sum)*C(pruning_final_sparsity, Sum)\\\n",
    "+ C(dataset_name, Sum)*C(pruning_learning_rate, Sum)*C(pruning_schedule, Sum)*C(pruning_frequency, Sum)*C(pruning_final_sparsity, Sum)'\n",
    "# no significant interaction\n",
    "\n",
    "hpf_admodx3 = 'delta_all_mcc ~ all_mcc_trained + model_bias_trained + C(dataset_name, Sum) + C(model_arch, Sum) + C(resample_rate, Sum) \\\n",
    "+ C(pruning_learning_rate, Sum) + C(pruning_schedule, Sum) + C(pruning_frequency, Sum) + C(pruning_final_sparsity, Sum)\\\n",
    "+ C(dataset_name, Sum)*C(pruning_learning_rate, Sum)*C(pruning_schedule, Sum)*C(pruning_final_sparsity, Sum)\\\n",
    "+ C(model_arch, Sum)*C(pruning_learning_rate, Sum)*C(pruning_schedule, Sum)*C(pruning_final_sparsity, Sum)\\\n",
    "+ C(resample_rate, Sum)*C(pruning_learning_rate, Sum)*C(pruning_schedule, Sum)*C(pruning_final_sparsity, Sum)\\\n",
    "+ C(dataset_name, Sum)*C(model_arch, Sum)*C(resample_rate, Sum)*C(pruning_final_sparsity, Sum)\\\n",
    "+ C(pruning_learning_rate, Sum)*C(pruning_schedule, Sum)*C(pruning_frequency, Sum)*C(pruning_final_sparsity, Sum)'\n",
    "# C(model_arch)*C(pruning_learning_rate, Sum)*C(pruning_schedule, Sum)*C(pruning_final_sparsity, Sum)  --> significant at 1%\n",
    "# C(dataset_name, Sum)*C(model_arch)*C(resample_rate)*C(pruning_final_sparsity, Sum) --> significant at 5%\n",
    "\n",
    "hpf_admodx4 = 'delta_all_mcc ~ all_mcc_trained + model_bias_trained + C(dataset_name, Sum) + C(model_arch, Sum) + C(resample_rate, Sum) \\\n",
    "+ C(pruning_learning_rate, Sum) + C(pruning_schedule, Sum) + C(pruning_frequency, Sum) + C(pruning_final_sparsity, Sum)\\\n",
    "+ C(model_arch, Sum)*C(pruning_learning_rate, Sum)*C(pruning_schedule, Sum)*C(pruning_final_sparsity, Sum)\\\n",
    "+ C(dataset_name, Sum)*C(model_arch, Sum)*C(resample_rate, Sum)*C(pruning_final_sparsity, Sum)\\\n",
    "+ C(dataset_name, Sum)*C(pruning_learning_rate, Sum)*C(pruning_schedule, Sum)\\\n",
    "+ C(dataset_name, Sum)*C(pruning_learning_rate, Sum)*C(pruning_final_sparsity, Sum)\\\n",
    "+ C(dataset_name, Sum)*C(pruning_schedule, Sum)*C(pruning_final_sparsity, Sum)\\\n",
    "+ C(resample_rate, Sum)*C(pruning_learning_rate, Sum)*C(pruning_schedule, Sum)\\\n",
    "+ C(resample_rate, Sum)*C(pruning_learning_rate, Sum)*C(pruning_final_sparsity, Sum)\\\n",
    "+ C(resample_rate, Sum)*C(pruning_schedule, Sum)*C(pruning_final_sparsity, Sum)\\\n",
    "+ C(pruning_learning_rate, Sum)*C(pruning_schedule, Sum)*C(pruning_frequency, Sum)\\\n",
    "+ C(pruning_learning_rate, Sum)*C(pruning_schedule, Sum)*C(pruning_final_sparsity, Sum)\\\n",
    "+ C(pruning_learning_rate, Sum)*C(pruning_frequency, Sum)*C(pruning_final_sparsity, Sum)'\n",
    "# C(dataset_name, Sum):C(pruning_learning_rate, Sum):C(pruning_final_sparsity, Sum)  --> significant at 1%\n",
    "# C(dataset_name, Sum):C(resample_rate):C(pruning_final_sparsity, Sum)  --> significant at 1%\n",
    "# C(dataset_name, Sum):C(model_arch):C(pruning_final_sparsity, Sum)  --> significant at 1%\n",
    "# C(resample_rate):C(pruning_learning_rate, Sum):C(pruning_final_sparsity, Sum)  --> significant at 1%\n",
    "# C(pruning_learning_rate, Sum):C(pruning_schedule, Sum):C(pruning_final_sparsity, Sum)  --> significant at 1%\n",
    "# C(model_arch):C(pruning_learning_rate, Sum):C(pruning_final_sparsity, Sum)   --> significant at 1%\n",
    "# C(dataset_name, Sum):C(model_arch):C(resample_rate)   --> significant at 1%\n",
    "# C(dataset_name, Sum):C(pruning_learning_rate, Sum):C(pruning_schedule, Sum) --> significant at 5%\n",
    "# C(dataset_name, Sum):C(pruning_schedule, Sum):C(pruning_final_sparsity, Sum)  --> significant at 5%\n",
    "\n",
    "hpf_admodx5 = 'delta_all_mcc ~ all_mcc_trained + model_bias_trained + C(dataset_name, Sum) + C(model_arch, Sum) + C(resample_rate, Sum) \\\n",
    "+ C(pruning_learning_rate, Sum) + C(pruning_schedule, Sum) + C(pruning_frequency, Sum) + C(pruning_final_sparsity, Sum)\\\n",
    "+ C(model_arch, Sum)*C(pruning_learning_rate, Sum)*C(pruning_schedule, Sum)*C(pruning_final_sparsity, Sum)\\\n",
    "+ C(dataset_name, Sum)*C(model_arch, Sum)*C(resample_rate, Sum)*C(pruning_final_sparsity, Sum)\\\n",
    "+ C(dataset_name, Sum)*C(pruning_learning_rate, Sum)*C(pruning_schedule, Sum)\\\n",
    "+ C(dataset_name, Sum)*C(pruning_schedule, Sum)*C(pruning_final_sparsity, Sum)\\\n",
    "+ C(dataset_name, Sum)*C(pruning_learning_rate, Sum)*C(pruning_final_sparsity, Sum)\\\n",
    "+ C(resample_rate, Sum)*C(pruning_learning_rate, Sum)*C(pruning_final_sparsity, Sum)'\n",
    "\n",
    "# hplmad_X1 = smf.ols(hpf_admodx1, data = results_compress_compare).fit()\n",
    "# hplmad_X2 = smf.ols(hpf_admodx2, data = results_compress_compare).fit()\n",
    "# hplmad_X3 = smf.ols(hpf_admodx3, data = results_compress_compare).fit()\n",
    "# hplmad_X4 = smf.ols(hpf_admodx4, data = results_compress_compare).fit()\n",
    "hplmad_X5 = smf.ols(hpf_admodx5, data = results_compress_compare).fit()\n",
    "\n",
    "# print('\\hplmad_X1'),model_stats(hplmad_X1)\n",
    "# print('\\hplmad_X2'),model_stats(hplmad_X2)\n",
    "# print('\\hplmad_X3'),model_stats(hplmad_X3)\n",
    "# print('\\hplmad_X4'),model_stats(hplmad_X4)\n",
    "print('\\hplmad_X5'),model_stats(hplmad_X5)"
   ]
  },
  {
   "cell_type": "code",
   "execution_count": null,
   "id": "5569e14c-9507-4ef0-9ca2-1441599e1d2d",
   "metadata": {},
   "outputs": [],
   "source": [
    "aov_table = sm.stats.anova_lm(hplmad_X5, typ=3)\n",
    "aov_table_sig = aov_table.reset_index().merge(sig_f_df, on='df')\n",
    "aov_table_sig['factors'] = aov_table_sig['index'].apply(lambda x : len(x.split(':')))\n",
    "aov_table_sig.set_index('index', inplace=True)\n",
    "aov_table_sig = aov_table_sig[(aov_table_sig['PR(>F)']<=0.05) & (aov_table_sig['F']>=aov_table_sig['F_0.05'])].sort_values(by='factors')\n",
    "pd.concat([aov_table_sig, aov_table.loc[['Residual']]])"
   ]
  },
  {
   "cell_type": "markdown",
   "id": "2ff27e27-6e4b-4415-9772-b2377d09b826",
   "metadata": {
    "tags": []
   },
   "source": [
    "### Plots"
   ]
  },
  {
   "cell_type": "code",
   "execution_count": null,
   "id": "9f425f7a-d6d0-4942-bb8b-90bfb38ee6eb",
   "metadata": {},
   "outputs": [],
   "source": [
    "sns.set_context('paper', font_scale=1.6)\n",
    "df = fig_data.melt(id_vars=fig_data.columns.to_list()[:-2], \n",
    "                            value_vars=['MCC (accuracy)','reliability bias'], var_name='metric')\n",
    "df['mel_bins'] = df['mel_bins'].astype(int)\n",
    "df['mfccs'] = df['mfccs'].astype(int)"
   ]
  },
  {
   "cell_type": "markdown",
   "id": "dd524b2c-4b25-47b6-ad24-907d4aefb61b",
   "metadata": {
    "tags": []
   },
   "source": [
    "#### Interaction of  --> Delta Reliablity Bias"
   ]
  },
  {
   "cell_type": "code",
   "execution_count": null,
   "id": "e186a761-bdff-4f63-86e1-1fbb00de56df",
   "metadata": {},
   "outputs": [],
   "source": [
    "g = sns.catplot(\n",
    "    data=df[df.metric=='reliability bias'], x=\"mfccs\", y=\"value\", col=\"dataset_name\", row=\"model_arch\",\n",
    "    kind=\"box\", showfliers=True, flierprops=dict(marker='.', markersize=1.5), height=4, aspect=1, palette='tab10')\n",
    "for ax in g.fig.axes:\n",
    "    ax.set_title(ax.title.get_text().split('|')[-1])\n",
    "g.fig.axes[0].set_ylabel('CNN')\n",
    "g.fig.axes[5].set_ylabel('low latency CNN')\n",
    "g.fig.tight_layout()"
   ]
  },
  {
   "cell_type": "markdown",
   "id": "454aae3a-006c-4f0c-8e7a-5632a4c964dc",
   "metadata": {
    "tags": []
   },
   "source": [
    "#### Interaction of dataset and Mel bins --> Reliablity Bias"
   ]
  },
  {
   "cell_type": "code",
   "execution_count": null,
   "id": "1cb8750b-7786-4e0b-929c-50a2b59e05a9",
   "metadata": {},
   "outputs": [],
   "source": [
    "g = sns.catplot(\n",
    "    data=df[df.metric=='reliability bias'], x=\"mel_bins\", y=\"value\", col=\"dataset_name\", #row=\"resample_rate\",\n",
    "    kind=\"box\", showfliers=True, flierprops=dict(marker='.', markersize=1.5), height=4, aspect=1, palette='tab10')\n",
    "for ax in g.fig.axes:\n",
    "    ax.set_title(ax.title.get_text().split('|')[-1])\n",
    "# g.fig.axes[0].set_ylabel('8kHz')\n",
    "# g.fig.axes[5].set_ylabel('16kHz')\n",
    "g.fig.tight_layout()"
   ]
  },
  {
   "cell_type": "markdown",
   "id": "8b214351-f9ff-4ece-82a2-335864a66f0e",
   "metadata": {
    "tags": []
   },
   "source": [
    "#### Interaction of dataset and sample rate --> Reliablity Bias"
   ]
  },
  {
   "cell_type": "code",
   "execution_count": null,
   "id": "e8179535-deb2-4662-80a9-1b026f0af4ee",
   "metadata": {},
   "outputs": [],
   "source": [
    "#Similar to Figure 4\n",
    "\n",
    "g = sns.catplot(\n",
    "    data=df[df.metric=='reliability bias'], x=\"dataset_name\", y=\"value\", col=\"resample_rate\", #row=\"resample_rate\",\n",
    "    kind=\"box\", showfliers=True, flierprops=dict(marker='.', markersize=1.5), height=4, aspect=1.5, palette='tab10')\n",
    "for ax in g.fig.axes:\n",
    "    ax.set_title(ax.title.get_text().split('=')[-1][:-5]+'kHz')\n",
    "g.fig.tight_layout()"
   ]
  },
  {
   "cell_type": "code",
   "execution_count": null,
   "id": "921c374e-14e7-488c-acb6-0d6135043b50",
   "metadata": {},
   "outputs": [],
   "source": [
    "# g = sns.FacetGrid(data=df, height=8, aspect=1.8, col=\"resample_rate\", #col_order=[16000,8000],\n",
    "#                   sharey=True, sharex=False)\n",
    "# g.map(sns.boxplot, \"dataset_name\", \"domain_mcc\", \"domain\", palette=['green','fuchsia'], showfliers=False,\n",
    "#       hue_order=hue_order, \n",
    "#       order=df.dataset_name.unique(), \n",
    "#       showmeans=False, meanline=True, meanprops=dict(color=\"black\"),\n",
    "#       saturation=0.7,boxprops=dict(alpha=.3))\n",
    "\n",
    "# g.map(sns.stripplot, \"dataset_name\", \"domain_mcc\", \"domain\", palette=['green','fuchsia'], dodge=True,\n",
    "#       hue_order=hue_order, \n",
    "#       order=df.dataset_name.unique(), size=1.5)\n",
    "\n",
    "# g.fig.tight_layout()\n",
    "# g.add_legend()\n",
    "# for ax in g.fig.axes:\n",
    "#     ax.xaxis.grid(True, which='major', linestyle='-')\n",
    "#     ax.set_xticks([0.5, 1.5, 2.5, 3.5, 4.5])\n",
    "# g.set_xticklabels(rotation=0, fontdict={'ha': 'right'})\n",
    "# display(g)"
   ]
  },
  {
   "cell_type": "markdown",
   "id": "27341fee-c090-49c6-b263-565cd9877ff9",
   "metadata": {},
   "source": [
    "# Figures"
   ]
  },
  {
   "cell_type": "markdown",
   "id": "c98d548d",
   "metadata": {
    "tags": []
   },
   "source": [
    "##  Impact of Dataset, Model Architecture and Sample Rate"
   ]
  },
  {
   "cell_type": "markdown",
   "id": "7ca40580-8801-4bee-9e2c-024d8cd62d65",
   "metadata": {
    "tags": []
   },
   "source": [
    "### Figure 4: Distributions of accuracy and reliability bias"
   ]
  },
  {
   "cell_type": "code",
   "execution_count": null,
   "id": "c68960df",
   "metadata": {},
   "outputs": [],
   "source": [
    "sns.set_context('paper', font_scale=1.6)\n",
    "df = fig_data.melt(id_vars=fig_data.columns.to_list()[:-2], \n",
    "                            value_vars=['MCC (accuracy)','reliability bias'], var_name='metric')\n",
    "\n",
    "g = sns.FacetGrid(df, height=4, aspect=3, row='metric', #col=\"resample_rate\", col_order=[16000,8000],\n",
    "                  sharey=False, sharex=False)\n",
    "g.map(sns.boxplot, \"dataset_name\", \"value\", \"exp_cat\", palette=\"tab20\", showfliers=False,\n",
    "      hue_order=df[\"exp_cat\"].unique().sort(), \n",
    "      order=df.dataset_name.unique(), \n",
    "      showmeans=False, meanline=True, meanprops=dict(color=\"black\"),\n",
    "      saturation=0.7,boxprops=dict(alpha=.3))\n",
    "\n",
    "g.map(sns.stripplot, \"dataset_name\", \"value\", \"exp_cat\", palette=\"tab20\", dodge=True,\n",
    "      hue_order=df[\"exp_cat\"].unique().sort(), \n",
    "      order=df.dataset_name.unique(), size=1)\n",
    "\n",
    "plt.xlabel('dataset name', labelpad=10)\n",
    "g.fig.axes[0].set_ylabel('MCC (accuracy)\\n(higher is better)')\n",
    "g.fig.axes[1].set_ylabel('reliability bias \\n(lower is better)')\n",
    "g.fig.tight_layout()\n",
    "g.add_legend()\n",
    "sns.despine(bottom=True, left=False)\n",
    "display(g)\n",
    "plt.savefig('figures/experiment_results.png')"
   ]
  },
  {
   "cell_type": "code",
   "execution_count": null,
   "id": "29e542bd-222c-4141-87d3-750f4dfcff52",
   "metadata": {},
   "outputs": [],
   "source": [
    "results_bias.rename(columns={'model_fairness':'model_bias', \n",
    "                         'male_fairness':'male_bias','female_fairness':'female_bias'}, inplace=True)    \n",
    "\n",
    "agg_bias = results_bias[results_bias['exp_name'].isin(experiment_names)\n",
    "                ].groupby('exp_name').agg({'female_bias': [lambda c: c.abs().mean(),\n",
    "                                                               lambda c: c.abs().std()],\n",
    "                                           'male_bias': [lambda c: c.abs().mean(),\n",
    "                                                             lambda c: c.abs().std()]})\n",
    "d = dict(zip(agg_bias.columns.levels[1], ['mean','std']))\n",
    "agg_bias.rename(columns=d,level=1,inplace=True)\n",
    "agg_bias"
   ]
  },
  {
   "cell_type": "markdown",
   "id": "6757b4a4",
   "metadata": {
    "tags": []
   },
   "source": [
    "### Figure 5: Accuracy scores for males and females"
   ]
  },
  {
   "cell_type": "code",
   "execution_count": null,
   "id": "4c3fc658",
   "metadata": {},
   "outputs": [],
   "source": [
    "results_mcc_unstacked = results_mcc.groupby(results_mcc.columns.to_list()[:-2])['domain_mcc'].aggregate('mean').unstack().reset_index()\n",
    "results_mcc_unstacked['exp_cat'] = results_mcc_unstacked[['model_arch','resample_rate']\n",
    "                              ].apply(lambda row: ' '.join(row.astype(str)), axis=1)\n",
    "cols = results_mcc_unstacked.columns.to_list()[-1:] + results_mcc_unstacked.columns.to_list()[:-1]\n",
    "results_mcc_unstacked = results_mcc_unstacked[cols]"
   ]
  },
  {
   "cell_type": "code",
   "execution_count": null,
   "id": "23efc7e0",
   "metadata": {},
   "outputs": [],
   "source": [
    "sns.set_context('paper', font_scale=2.5)\n",
    "df = results_mcc_unstacked[results_mcc_unstacked['exp_name'].isin(experiment_names)\n",
    "                ].replace({'dataset_name': {'speech_commands_gender':'google_sc'}}\n",
    "                         ).sort_values(by=['exp_cat','dataset_name'])\n",
    "hue_order=df[\"dataset_name\"].unique().sort()\n",
    "\n",
    "g = sns.relplot(\n",
    "    data=df, x=\"male_mcc\", y=\"female_mcc\", hue=\"dataset_name\", \n",
    "    col=\"exp_cat\", aspect=1.1, style=\"dataset_name\",\n",
    "    palette=\"Set1\", hue_order=hue_order, s=10,\n",
    "    kind=\"scatter\"\n",
    ")\n",
    "\n",
    "for ax in g.fig.axes:\n",
    "    ax.axline((0.89,0.89), (0.9,0.9), c=\"black\", ls='--', linewidth=2)\n",
    "    ax.set_xlabel('male MCC (accuracy)', labelpad=10)\n",
    "    ax_title = ax.title.get_text()\n",
    "    ax.set_title(ax_title.split(' = ')[-1].split(' ')[-1][:-3]+'kHz '+ax_title.split(' = ')[-1].split(' ')[0].replace('_',' '))\n",
    "#     ax.xaxis.grid(True, which='major', linestyle='-')\n",
    "#     ax.set_xticks(np.linspace(0.1, 0.9, 9))\n",
    "# g.set_xticklabels(rotation=0, fontdict={'ha': 'right'})\n",
    "# g.fig.tight_layout()\n",
    "# g.add_legend()\n",
    "g.fig.axes[0].set_ylabel('female \\nMCC (accuracy)', labelpad=10)\n",
    "sns.despine(bottom=True, left=True)\n",
    "display(g)\n",
    "plt.savefig('figures/subgroup_performance_accuracy.png', bbox_inches='tight')"
   ]
  },
  {
   "cell_type": "code",
   "execution_count": null,
   "id": "29acd33c",
   "metadata": {},
   "outputs": [],
   "source": [
    "# sns.set_context('paper', font_scale=2.5)\n",
    "# df = results_mcc[results_mcc['exp_name'].isin(experiment_names)\n",
    "#                 ].replace({'domain': {'male_mcc': 'male', 'female_mcc': 'female'}, \n",
    "#                            'dataset_name': {'speech_commands_gender':'google_sc'}}\n",
    "#                          ).sort_values(by=['exp_name', 'model_arch','domain'])\n",
    "# df.rename(columns={'domain_fairness':'domain_bias'}, inplace=True)\n",
    "# hue_order=df[\"domain\"].unique().sort()\n",
    "\n",
    "# # .sort_values(by=['exp_name', 'model_arch'])\n",
    "# g = sns.FacetGrid(data=df, height=8, aspect=1.8, row=\"model_arch\", col=\"resample_rate\", #col_order=[16000,8000],\n",
    "#                   sharey=True, sharex=False)\n",
    "# g.map(sns.boxplot, \"dataset_name\", \"domain_bias\", \"domain\", palette=['green','fuchsia'], showfliers=False,\n",
    "#       hue_order=hue_order, \n",
    "#       order=df.dataset_name.unique(), \n",
    "#       showmeans=False, meanline=True, meanprops=dict(color=\"black\"),\n",
    "#       saturation=0.7,boxprops=dict(alpha=.3))\n",
    "\n",
    "# g.map(sns.stripplot, \"dataset_name\", \"domain_bias\", \"domain\", palette=['green','fuchsia'], dodge=True,\n",
    "#       hue_order=hue_order, \n",
    "#       order=df.dataset_name.unique(), size=1.5)\n",
    "\n",
    "# g.fig.tight_layout()\n",
    "# g.add_legend()\n",
    "# for ax in g.fig.axes:\n",
    "#     ax.xaxis.grid(True, which='major', linestyle='-')\n",
    "#     ax.set_xticks([0.5, 1.5, 2.5, 3.5, 4.5])\n",
    "# g.set_xticklabels(rotation=0, fontdict={'ha': 'right'})\n",
    "# display(g)"
   ]
  },
  {
   "cell_type": "markdown",
   "id": "60a9210c-afa7-4b32-a23e-832a7f6c7238",
   "metadata": {
    "tags": []
   },
   "source": [
    "## Impact of Pre-processing Parameters"
   ]
  },
  {
   "cell_type": "markdown",
   "id": "019535c7-ee6b-4ee5-a3b7-6b07f99144e9",
   "metadata": {
    "jp-MarkdownHeadingCollapsed": true,
    "tags": []
   },
   "source": [
    "### Unused figures"
   ]
  },
  {
   "cell_type": "code",
   "execution_count": null,
   "id": "edc85358-b220-419a-aa98-b8c7ff0808f3",
   "metadata": {},
   "outputs": [],
   "source": [
    "pre_processing_params = ['mel_bins','frame_step','frame_length','mfccs','input_features','window_fn']\n",
    "dof_preprocessing, fcrit_preprocessing = results_analysis.fcrit(results, pre_processing_params, 0.01)\n",
    "print('dof:', dof_preprocessing, '\\nfcrit:', fcrit_preprocessing)"
   ]
  },
  {
   "cell_type": "code",
   "execution_count": null,
   "id": "94ad661e",
   "metadata": {},
   "outputs": [],
   "source": [
    "pre_processing_params2 = ['frame_step','frame_length','input_features','window_fn']\n",
    "dof_preprocessing2, fcrit_preprocessing2 = results_analysis.fcrit(results, pre_processing_params2, 0.01)\n",
    "print('dof:', dof_preprocessing2, '\\nfcrit:', fcrit_preprocessing2)"
   ]
  },
  {
   "cell_type": "code",
   "execution_count": null,
   "id": "bc7cc0f8-af9b-429f-8c14-4959e8a1e795",
   "metadata": {},
   "outputs": [],
   "source": [
    "sns.set_theme(style=\"whitegrid\", font_scale=1.8)\n",
    "results_plot.plot_param_importance(df=results_bias,\n",
    "                                   dataset=\"speech_commands_gender\",\n",
    "                                   metrics={'all_mcc':'MCC','model_bias':'bias'}, \n",
    "                                   parameters=\"preprocessing\", \n",
    "                                   select_tables=['8000_','16000_'],\n",
    "                                   fcrit=fcrit_preprocessing,\n",
    "                                   save_fig=False,\n",
    "                                   plot_title = \"Pre-processing parameter importance for reliability bias and accuracy (MCC)\")\n",
    "# plt.savefig('figures/metric_param_importance.png',bbox_inches='tight')"
   ]
  },
  {
   "cell_type": "code",
   "execution_count": null,
   "id": "770f66d2-5ee2-41b7-ae1f-878f4bb1a381",
   "metadata": {},
   "outputs": [],
   "source": [
    "results_plot.plot_param_importance(df=results_bias,\n",
    "                                   metrics={'male_mcc':'male','female_mcc':'female'}, \n",
    "                                   dataset=\"speech_commands_gender\",\n",
    "                                   parameters=\"preprocessing\", \n",
    "                                   select_tables=['8000_','16000_'],\n",
    "                                   fcrit=fcrit_preprocessing,\n",
    "                                   save_fig=False,\n",
    "                                   palette=['fuchsia', 'green'],\n",
    "                                   plot_title = \"Pre-processing parameter importance for subgroup accuracy (MCC)\")"
   ]
  },
  {
   "cell_type": "code",
   "execution_count": null,
   "id": "cba2d178-be7f-4308-b790-5ca8e3068320",
   "metadata": {},
   "outputs": [],
   "source": [
    "results_plot.plot_param_importance(df=results_bias,\n",
    "                                   metrics={'male_bias':'male','female_bias':'female'}, \n",
    "                                   dataset=\"speech_commands_gender\",\n",
    "                                   parameters=\"preprocessing\", \n",
    "                                   select_tables=['8000_','16000_'],\n",
    "                                   fcrit=fcrit_preprocessing,\n",
    "                                   save_fig=False,\n",
    "                                   palette=['fuchsia', 'green'],\n",
    "                                   plot_title = \"Pre-processing parameter importance for bias across groups\")"
   ]
  },
  {
   "cell_type": "code",
   "execution_count": null,
   "id": "56b4ea1a",
   "metadata": {},
   "outputs": [],
   "source": [
    "sns.set_context('paper', font_scale=3)\n",
    "data = pd.DataFrame()\n",
    "for m in ['all_mcc','model_bias']:\n",
    "    for d in ['speech_commands_gender','mswc_de','mswc_fr','mswc_en','mswc_rw']:\n",
    "        imp_tab = results_analysis.generate_importance_tables(results_bias, d, m, parameters=\"preprocessing\", \n",
    "                                                              model_arch='cnn')['16000_']\n",
    "        imp_tab['dataset']=d\n",
    "        imp_tab['metric']=m\n",
    "        data = pd.concat([data, imp_tab], axis=0)\n",
    "        \n",
    "data = data.replace({'dataset': {'speech_commands_gender':'google_sc'}}\n",
    "                         ).sort_values(by=['dataset']).reset_index().rename(columns={'index': 'parameters'})        \n",
    "cat_order = np.sort(data['parameters'].unique())\n",
    "g = sns.catplot(data=data.sort_values(by=['dataset','parameters']), \n",
    "                x='parameters', y='F Score', hue='metric', col='dataset', kind='bar', \n",
    "                order= cat_order, aspect=1.3,\n",
    "                palette = ['orange', 'blue'])\n",
    "\n",
    "for ax in g.axes.flat:\n",
    "    ax.set_yscale('log')\n",
    "    xlabels = [x.get_text() for x in ax.get_xticklabels()]\n",
    "    ax.set_xticklabels(xlabels, rotation=45, horizontalalignment='right')\n",
    "    ax.hlines(y=fcrit_preprocessing, xmin=-0.5, xmax=0.9*len(cat_order), color=\"black\", ls='--', linewidth=2)\n",
    "    ax.set_xlabel('')\n",
    "    ax.set_ylabel('$F\\ Score$ (log scale)')\n",
    "    ax.set_title('{}{}'.format(ax.get_title().split(' = ')[-1][:-3], ax.get_title().split(' = ')[-1][-3:]))\n",
    "    for bar in ax.patches:\n",
    "        if bar.get_height() < fcrit_preprocessing:\n",
    "            bar.set_color('lightgrey') \n",
    "            \n",
    "plt.suptitle(\"Pre-processing parameter importance for 16k CNN models trained on 5 datasets \", va='top', y=1.1);"
   ]
  },
  {
   "cell_type": "code",
   "execution_count": null,
   "id": "5c71b8fe",
   "metadata": {},
   "outputs": [],
   "source": [
    "data = pd.DataFrame()\n",
    "for m in ['all_mcc','model_bias']:\n",
    "    for d in ['speech_commands_gender','mswc_de','mswc_fr','mswc_en','mswc_rw']:\n",
    "        imp_tab = results_analysis.generate_importance_tables(results_bias, d, m, parameters=\"preprocessing\", \n",
    "                                                              model_arch='low_latency_cnn')['8000_']\n",
    "        imp_tab['dataset']=d\n",
    "        imp_tab['metric']=m\n",
    "        data = pd.concat([data, imp_tab], axis=0)\n",
    "data = data.replace({'dataset': {'speech_commands_gender':'google_sc'}}\n",
    "                         ).sort_values(by=['dataset']).reset_index().rename(columns={'index': 'parameters'})\n",
    "cat_order = np.sort(data['parameters'].unique())\n",
    "g = sns.catplot(data=data.sort_values(by=['dataset','parameters']), \n",
    "                x='parameters', y='F Score', hue='metric', col='dataset', kind='bar', \n",
    "                order= cat_order, aspect=1.3,\n",
    "                palette = ['orange', 'blue'])\n",
    "\n",
    "for ax in g.axes.flat:\n",
    "    ax.set_yscale('log')\n",
    "    xlabels = [x.get_text() for x in ax.get_xticklabels()]\n",
    "    ax.set_xticklabels(xlabels, rotation=45, horizontalalignment='right')\n",
    "    ax.hlines(y=fcrit_preprocessing, xmin=-0.5, xmax=0.9*len(cat_order), color=\"black\", ls='--', linewidth=2)\n",
    "    ax.set_xlabel('')\n",
    "    ax.set_ylabel('$F\\ Score$ (log scale)')\n",
    "    ax.set_title('{}{}'.format(ax.get_title().split(' = ')[-1][:-3], ax.get_title().split(' = ')[-1][-3:]))\n",
    "    for bar in ax.patches:\n",
    "        if bar.get_height() < fcrit_preprocessing:\n",
    "            bar.set_color('lightgrey') \n",
    "            \n",
    "plt.suptitle(\"Pre-processing parameter importance for 8k low latency CNN models trained on 5 datasets \", va='top', y=1.1);"
   ]
  },
  {
   "cell_type": "code",
   "execution_count": null,
   "id": "4c0c660d",
   "metadata": {},
   "outputs": [],
   "source": [
    "# plot with RIDGE COEFFICIENT\n",
    "g = sns.catplot(data=data.sort_values(by=['dataset','parameters']), \n",
    "                x='parameters', y='Ridge coef', hue='metric', col='dataset', kind='bar', \n",
    "                order= cat_order, aspect=1.2,\n",
    "                palette = ['orange', 'blue'])\n",
    "\n",
    "for ax in g.axes.flat:\n",
    "    xlabels = [x.get_text() for x in ax.get_xticklabels()]\n",
    "    ax.set_xticklabels(xlabels, rotation=45, horizontalalignment='right')\n",
    "    ax.set_xlabel('')\n",
    "    ax.set_ylabel('Ridge coefficient')\n",
    "    ax.set_title('{}{}'.format(ax.get_title().split(' = ')[-1][:-3], ax.get_title().split(' = ')[-1][-3:]))\n",
    "    for bar in ax.patches:\n",
    "        if -0.01 < bar.get_height() < 0.01:\n",
    "            bar.set_color('lightgrey')\n",
    "            \n",
    "plt.suptitle(\"Pre-processing parameter importance for 16k low latency CNN models trained on 5 datasets \", fontsize='x-large', va='top', y=1.1);"
   ]
  },
  {
   "cell_type": "code",
   "execution_count": null,
   "id": "b2c42541",
   "metadata": {
    "scrolled": true
   },
   "outputs": [],
   "source": [
    "# plot with MUTUAL INFORMATION \n",
    "g = sns.catplot(data=data.sort_values(by=['dataset','parameters']), \n",
    "                x='parameters', y='MI', hue='metric', col='dataset', kind='bar', \n",
    "                order= cat_order, aspect=1.2,\n",
    "                palette = ['orange', 'blue'])\n",
    "\n",
    "for ax in g.axes.flat:\n",
    "    xlabels = [x.get_text() for x in ax.get_xticklabels()]\n",
    "    ax.set_xticklabels(xlabels, rotation=45, horizontalalignment='right')\n",
    "    ax.set_xlabel('')\n",
    "    ax.set_ylabel('Mutual Information')\n",
    "    ax.set_title('{}{}'.format(ax.get_title().split(' = ')[-1][:-3], ax.get_title().split(' = ')[-1][-3:]))\n",
    "    for bar in ax.patches:\n",
    "        if -0.01 < bar.get_height() < 0.01:\n",
    "            bar.set_color('lightgrey') \n",
    "            \n",
    "plt.suptitle(\"Pre-processing parameter importance for 16k low latency CNN models trained on 5 datasets \", fontsize='x-large', va='top', y=1.1);"
   ]
  },
  {
   "cell_type": "markdown",
   "id": "f91f2f77",
   "metadata": {},
   "source": [
    "### Figure 8"
   ]
  },
  {
   "cell_type": "code",
   "execution_count": null,
   "id": "0c54b891",
   "metadata": {},
   "outputs": [],
   "source": [
    "sns.set_context('paper', font_scale=2.5)\n",
    "df = results_mcc[(results_mcc['exp_name'].isin(experiment_names)) &(results_mcc['resample_rate']==8000)&(results_mcc['model_arch']==\"low_latency_cnn\")\n",
    "                ].replace({'domain': {'male_mcc': 'MALE', 'female_mcc': 'FEMALE'}, \n",
    "                           'dataset_name': {'speech_commands_gender':'google_sc'}}\n",
    "                         ).sort_values(by=['dataset_name', 'mfccs','exp_name'])\n",
    "hue_order=df[\"domain\"].unique().sort()\n",
    "\n",
    "# .sort_values(by=['exp_name', 'model_arch'])\n",
    "g = sns.FacetGrid(data=df, height=6, aspect=1.8, col=\"domain\", #col_order=[16000,8000],\n",
    "                  sharey=True, sharex=False)\n",
    "g.map(sns.boxplot, \"dataset_name\", \"domain_mcc\", \"input_features\", palette='tab10',#['green','fuchsia'], \n",
    "      showfliers=False,\n",
    "      hue_order=hue_order, \n",
    "      order=df.dataset_name.unique(), \n",
    "      showmeans=False, meanline=True, meanprops=dict(color=\"black\"),\n",
    "      saturation=0.7,boxprops=dict(alpha=.3)\n",
    "     )\n",
    "\n",
    "g.map(sns.stripplot, \"dataset_name\", \"domain_mcc\", \"input_features\", palette='tab10',#['green','fuchsia'], \n",
    "      dodge=True,\n",
    "      hue_order=hue_order, \n",
    "      size=1.5,\n",
    "      order=df.dataset_name.unique())\n",
    "\n",
    "for ax in g.fig.axes:\n",
    "#     ax.xaxis.grid(True, which='major', linestyle='-')\n",
    "#     ax.set_xticks([0.5, 1.5, 2.5, 3.5, 4.5])\n",
    "    ax.set_xticks([0, 1, 2, 3, 4])\n",
    "    ax.set_xlabel('dataset name', labelpad=10)\n",
    "    ax.set_title(ax.title.get_text().split('=')[-1])\n",
    "    sns.despine(left=True, bottom=True)\n",
    "g.fig.axes[0].set_ylabel('MCC (accuracy)', labelpad=10)\n",
    "g.set_xticklabels(rotation=0, fontdict={'ha': 'center'})\n",
    "\n",
    "g.fig.tight_layout()\n",
    "hue_labels=['log Mel spec','MFCC']\n",
    "g.add_legend(legend_data={\n",
    "    key: value for key, value in zip(hue_labels, g._legend_data.values())\n",
    "})\n",
    "g._legend.set_title('Feature type')\n",
    "\n",
    "plt.suptitle(\"Effect of feature type on accuracy for male and female speakers\", va='top', y=1.05)\n",
    "display(g)\n",
    "plt.savefig('figures/feature_type_subgroups.png', bbox_inches='tight')"
   ]
  },
  {
   "cell_type": "code",
   "execution_count": null,
   "id": "5a4c51ce-2839-49ff-9222-22fdbde75543",
   "metadata": {},
   "outputs": [],
   "source": [
    "sns.set_context('paper', font_scale=2.5)\n",
    "df = results_mcc_unstacked[results_mcc_unstacked['exp_name'].isin(experiment_names)&(results_mcc_unstacked['resample_rate']==8000)&(results_mcc_unstacked['model_arch']==\"low_latency_cnn\")\n",
    "                ].replace({'dataset_name': {'speech_commands_gender':'google_sc'}}\n",
    "                         ).sort_values(by=['exp_cat','dataset_name'])\n",
    "hue_order=df[\"dataset_name\"].unique().sort()\n",
    "\n",
    "\n",
    "g = sns.relplot(\n",
    "    data=df, x=\"male_mcc\", y=\"female_mcc\", hue=\"dataset_name\", col=\"input_features\", aspect=1.5, style=\"dataset_name\",\n",
    "    palette=\"Set1\", hue_order=hue_order, s=10,\n",
    "    kind=\"scatter\"\n",
    ")\n",
    "\n",
    "for ax in g.fig.axes:\n",
    "    ax.axline((0.89,0.89), (0.9,0.9), c=\"black\", ls='--', linewidth=2)\n",
    "    ax.set_xlabel('male MCC (accuracy)', labelpad=10)\n",
    "    ax.set_title(ax.title.get_text().replace('_',' '))\n",
    "#     ax.xaxis.grid(True, which='major', linestyle='-')\n",
    "#     ax.set_xticks(np.linspace(0.1, 0.9, 9))\n",
    "# g.set_xticklabels(rotation=0, fontdict={'ha': 'right'})\n",
    "# g.fig.tight_layout()\n",
    "# g.add_legend()\n",
    "g.fig.axes[0].set_ylabel('female \\nMCC (accuracy)', labelpad=10)\n",
    "sns.despine(bottom=True, left=True)\n",
    "\n",
    "plt.suptitle(\"Effect of feature type on accuracy for males and females for 8kHz low latency CNN models\", va='top', y=1.05)\n",
    "display(g)\n",
    "plt.savefig('figures/feature_type_subgroups_llcnn8.png', bbox_inches='tight')"
   ]
  },
  {
   "cell_type": "code",
   "execution_count": null,
   "id": "8b5225a0-424a-4376-bd22-64776c4a832c",
   "metadata": {},
   "outputs": [],
   "source": [
    "sns.set_context('paper', font_scale=2.5)\n",
    "# df = fig_data[fig_data.input_features=='log_mel_spectrogram'].melt(id_vars=fig_data.columns.to_list()[:-2], \n",
    "#                             value_vars=['MCC (accuracy)','reliability bias'], var_name='metric')\n",
    "df = fig_data[(fig_data.model_arch=='low_latency_cnn')].melt(id_vars=fig_data.columns.to_list()[:-2], \n",
    "                            value_vars=['MCC (accuracy)','reliability bias'], var_name='metric')\n",
    "df['mel_bins'] = df['mel_bins'].astype(int)\n",
    "\n",
    "g = sns.FacetGrid(df, height=4, aspect=3, row='metric', col='input_features', sharey=False, sharex=False)\n",
    "g.map(sns.boxplot, \"dataset_name\", \"value\", \"mel_bins\", palette=\"tab10\", showfliers=False,\n",
    "      hue_order=df[\"exp_cat\"].unique().sort(), \n",
    "      order=df.dataset_name.unique(), \n",
    "      showmeans=False, meanline=True, meanprops=dict(color=\"black\"),\n",
    "      saturation=0.7,boxprops=dict(alpha=.3))\n",
    "\n",
    "g.map(sns.stripplot, \"dataset_name\", \"value\", \"mel_bins\", palette=\"tab10\", dodge=True,\n",
    "      hue_order=df[\"exp_cat\"].unique().sort(), \n",
    "      order=df.dataset_name.unique(), size=1.5)\n",
    "\n",
    "for ax in g.fig.axes:\n",
    "    sns.despine(left=True, bottom=True)\n",
    "    \n",
    "g.fig.axes[0].set_yticks(np.linspace(0.2, 0.9, 6))\n",
    "g.fig.axes[1].set_yticks(np.linspace(0.2, 0.9, 6))\n",
    "g.fig.axes[2].set_yticks(np.linspace(0, 0.7, 6))\n",
    "g.fig.axes[3].set_yticks(np.linspace(0, 0.7, 6))\n",
    "\n",
    "g.fig.axes[0].set_title(g.fig.axes[0].title.get_text().split('|')[-1].replace('_',' '), pad=15)\n",
    "g.fig.axes[1].set_title(g.fig.axes[1].title.get_text().split('|')[-1].replace('_',' '), pad=15)\n",
    "g.fig.axes[2].set_title('', pad=15)\n",
    "g.fig.axes[3].set_title('', pad=15)\n",
    "\n",
    "plt.suptitle('Impact of Mel filter bank dimension on MFCC and log Mel spectrogram input features for low latency CNN architectures')\n",
    "\n",
    "g.fig.axes[0].set_ylabel('MCC (accuracy)\\n(higher is better)')\n",
    "g.fig.axes[2].set_ylabel('reliability bias \\n(lower is better)')\n",
    "g.fig.axes[2].set_xlabel('dataset name', labelpad=10)\n",
    "g.fig.axes[3].set_xlabel('dataset name', labelpad=10)\n",
    "g.fig.tight_layout()\n",
    "g.add_legend()\n",
    "g._legend.set_title('# Mel \\nfbanks')\n",
    "\n",
    "display(g)\n",
    "plt.savefig('figures/dataset_arch_melbins_feature_type_llcnn.png', bbox_inches='tight')"
   ]
  },
  {
   "cell_type": "code",
   "execution_count": null,
   "id": "352883fe",
   "metadata": {},
   "outputs": [],
   "source": [
    "sns.set_context('paper', font_scale=2)\n",
    "# df = fig_data[fig_data.input_features=='log_mel_spectrogram'].melt(id_vars=fig_data.columns.to_list()[:-2], \n",
    "#                             value_vars=['MCC (accuracy)','reliability bias'], var_name='metric')\n",
    "df = fig_data[(fig_data.model_arch=='cnn') & (fig_data.resample_rate==16000)].melt(id_vars=fig_data.columns.to_list()[:-2], \n",
    "                            value_vars=['MCC (accuracy)','reliability bias'], var_name='metric')\n",
    "df['mel_bins'] = df['mel_bins'].astype(int)\n",
    "\n",
    "g = sns.FacetGrid(df, height=4, aspect=4, row='metric', sharey=False, sharex=False)\n",
    "g.map(sns.boxplot, \"dataset_name\", \"value\", \"mel_bins\", palette=\"tab10\", showfliers=False,\n",
    "      hue_order=df[\"exp_cat\"].unique().sort(), \n",
    "      order=df.dataset_name.unique(), \n",
    "      showmeans=False, meanline=True, meanprops=dict(color=\"black\"),\n",
    "      saturation=0.7,boxprops=dict(alpha=.3))\n",
    "\n",
    "g.map(sns.stripplot, \"dataset_name\", \"value\", \"mel_bins\", palette=\"tab10\", dodge=True,\n",
    "      hue_order=df[\"exp_cat\"].unique().sort(), \n",
    "      order=df.dataset_name.unique(), size=1.5)\n",
    "\n",
    "for ax in g.fig.axes:\n",
    "    ax.set_title('')#ax.title.get_text().split('|')[-1].split('=')[-1].replace('_',' '), pad=15)\n",
    "    sns.despine(left=True, bottom=True)\n",
    "    \n",
    "g.fig.axes[0].set_yticks(np.linspace(0.2, 0.9, 6))\n",
    "g.fig.axes[1].set_yticks(np.linspace(0, 0.6, 7))\n",
    "\n",
    "plt.suptitle('16kHz CNN architecture')\n",
    "plt.xlabel('dataset name', labelpad=10)\n",
    "g.fig.axes[0].set_ylabel('MCC (accuracy)\\n(higher is better)')\n",
    "g.fig.axes[1].set_ylabel('reliability bias \\n(lower is better)')\n",
    "g.fig.tight_layout()\n",
    "g.add_legend()\n",
    "g._legend.set_title('# Mel bins')\n",
    "display(g)\n",
    "plt.savefig('figures/dataset_arch_melbins_16.png', bbox_inches='tight')"
   ]
  },
  {
   "cell_type": "code",
   "execution_count": null,
   "id": "7e63feb5-41c5-4162-bf8f-e5d0280ed179",
   "metadata": {},
   "outputs": [],
   "source": [
    "sns.set_context('paper', font_scale=2)\n",
    "df = fig_data[(fig_data['model_arch']=='cnn')  & (fig_data.resample_rate==16000)].melt(id_vars=fig_data.columns.to_list()[:-2], value_vars=['MCC (accuracy)','reliability bias'], var_name='metric')\n",
    "df['mel_bins'] = df['mel_bins'].astype(int)\n",
    "df['mfccs'] = df['mfccs'].astype(int)\n",
    "\n",
    "g = sns.FacetGrid(df, height=4, aspect=4, row='metric', col='model_arch', sharey=False, sharex=False)\n",
    "g.map(sns.boxplot, \"dataset_name\", \"value\", \"mfccs\", palette=\"tab10\", \n",
    "      showfliers=True, flierprops=dict(marker='.', markersize=1.5),\n",
    "      hue_order=df[\"mfccs\"].unique().sort(), \n",
    "      order=df.dataset_name.unique(), \n",
    "      showmeans=False, meanline=True, meanprops=dict(color=\"black\"),\n",
    "      saturation=0.7,boxprops=dict(alpha=.3))\n",
    "\n",
    "g.map(sns.stripplot, \"dataset_name\", \"value\", \"mfccs\", palette=\"tab10\", dodge=True,\n",
    "      hue_order=df[\"mfccs\"].unique().sort(), \n",
    "      order=df.dataset_name.unique(), size=1.5)\n",
    "\n",
    "for ax in g.fig.axes:\n",
    "    ax.set_title('')#ax.title.get_text().split('|')[-1].split('=')[-1].replace('_',' '), pad=15)\n",
    "    sns.despine(left=True, bottom=True)\n",
    "\n",
    "g.fig.axes[0].set_yticks(np.linspace(0.2, 0.9, 6))\n",
    "# g.fig.axes[1].set_yticks(np.linspace(0.1, 0.9, 5))\n",
    "g.fig.axes[1].set_yticks(np.linspace(0, 0.6, 7))\n",
    "# g.fig.axes[3].set_yticks(np.linspace(0, 0.7, 5))\n",
    "\n",
    "plt.suptitle('16kHz CNN architecture')\n",
    "g.fig.axes[0].set_ylabel('MCC (accuracy)\\n(higher is better)')\n",
    "g.fig.axes[1].set_ylabel('reliability bias \\n(lower is better)')\n",
    "g.fig.axes[1].set_xlabel('dataset name', labelpad=15)\n",
    "# g.fig.axes[3].set_xlabel('dataset name', labelpad=15)\n",
    "g.fig.tight_layout()\n",
    "hue_labels=['None',10,11,12,13,14]\n",
    "g.add_legend(legend_data={\n",
    "    key: value for key, value in zip(hue_labels, g._legend_data.values())\n",
    "})\n",
    "g._legend.set_title('# MFCCs')\n",
    "display(g)\n",
    "plt.savefig('figures/dataset_arch_mfccs_16.png', bbox_inches='tight')"
   ]
  },
  {
   "cell_type": "code",
   "execution_count": null,
   "id": "ab83f588",
   "metadata": {},
   "outputs": [],
   "source": [
    "sns.set_context('paper', font_scale=1.6)\n",
    "df = fig_data.melt(id_vars=fig_data.columns.to_list()[:-2], \n",
    "                            value_vars=['MCC (accuracy)','reliability bias'], var_name='metric')\n",
    "\n",
    "g = sns.FacetGrid(df, height=4, aspect=3, row='metric', sharey=False, sharex=False)\n",
    "g.map(sns.boxplot, \"dataset_name\", \"value\", \"frame_step\", palette=\"tab10\", showfliers=False,\n",
    "      hue_order=df[\"exp_cat\"].unique().sort(), \n",
    "      order=df.dataset_name.unique(), \n",
    "      showmeans=False, meanline=True, meanprops=dict(color=\"black\"),\n",
    "      saturation=0.7,boxprops=dict(alpha=.3))\n",
    "\n",
    "g.map(sns.stripplot, \"dataset_name\", \"value\", \"frame_step\", palette=\"tab10\", dodge=True,\n",
    "      hue_order=df[\"exp_cat\"].unique().sort(), \n",
    "      order=df.dataset_name.unique(), size=1.5)\n",
    "\n",
    "plt.suptitle('Effect of frame step on MCC (accuracy) and reliability bias')\n",
    "plt.xlabel('dataset name', labelpad=10)\n",
    "g.fig.axes[0].set_ylabel('MCC (accuracy)\\n(higher is better)')\n",
    "g.fig.axes[1].set_ylabel('reliability bias \\n(lower is better)')\n",
    "g.fig.tight_layout()\n",
    "g.add_legend(title='frame step')\n",
    "display(g)"
   ]
  },
  {
   "cell_type": "code",
   "execution_count": null,
   "id": "2ddb2bfd",
   "metadata": {},
   "outputs": [],
   "source": [
    "sns.set_context('paper', font_scale=1.6)\n",
    "df = fig_data.melt(id_vars=fig_data.columns.to_list()[:-2], \n",
    "                            value_vars=['MCC (accuracy)','reliability bias'], var_name='metric')\n",
    "\n",
    "g = sns.FacetGrid(df, height=4, aspect=3, row='metric', sharey=False, sharex=False)\n",
    "g.map(sns.boxplot, \"dataset_name\", \"value\", \"frame_length\", palette=\"tab10\", showfliers=False,\n",
    "      hue_order=df[\"exp_cat\"].unique().sort(), \n",
    "      order=df.dataset_name.unique(), \n",
    "      showmeans=False, meanline=True, meanprops=dict(color=\"black\"),\n",
    "      saturation=0.7,boxprops=dict(alpha=.3))\n",
    "\n",
    "g.map(sns.stripplot, \"dataset_name\", \"value\", \"frame_length\", palette=\"tab10\", dodge=True,\n",
    "      hue_order=df[\"exp_cat\"].unique().sort(), \n",
    "      order=df.dataset_name.unique(), size=1.5)\n",
    "\n",
    "plt.suptitle('Effect of frame length on MCC (accuracy) and reliability bias')\n",
    "plt.xlabel('dataset name', labelpad=10)\n",
    "g.fig.axes[0].set_ylabel('MCC (accuracy)\\n(higher is better)')\n",
    "g.fig.axes[1].set_ylabel('reliability bias \\n(lower is better)')\n",
    "g.fig.tight_layout()\n",
    "g.add_legend(title='frame length')\n",
    "display(g)"
   ]
  },
  {
   "cell_type": "code",
   "execution_count": null,
   "id": "a2c0aea5-af3c-4b5b-8515-d505462f630f",
   "metadata": {},
   "outputs": [],
   "source": [
    "sns.set_context('paper', font_scale=1.6)\n",
    "df = fig_data.melt(id_vars=fig_data.columns.to_list()[:-2], \n",
    "                            value_vars=['MCC (accuracy)','reliability bias'], var_name='metric')\n",
    "df['mel_bins'] = df['mel_bins'].astype(int)\n",
    "df['mfccs'] = df['mfccs'].astype(int)\n",
    "\n",
    "g = sns.FacetGrid(df, height=4, aspect=1.2, col='dataset_name', row='metric', sharey=True, sharex=True)\n",
    "g.map(sns.boxplot, \"frame_length\", \"value\", \"frame_step\", palette=\"tab10\", showfliers=False,\n",
    "      hue_order=sorted(df[\"frame_step\"].unique()), \n",
    "      order=sorted(df.frame_length.unique()), \n",
    "      showmeans=False, meanline=True, meanprops=dict(color=\"black\"),\n",
    "      saturation=0.7,boxprops=dict(alpha=.3))\n",
    "\n",
    "g.map(sns.stripplot, \"frame_length\", \"value\", \"frame_step\", palette=\"tab10\", dodge=True,\n",
    "      hue_order=sorted(df[\"frame_step\"].unique()), \n",
    "      order=sorted(df.frame_length.unique()), \n",
    "      size=1.5)\n",
    "\n",
    "for ax in g.fig.axes:\n",
    "    ax.set_title(ax.title.get_text().split('|')[-1])\n",
    "plt.xlabel('dataset name', labelpad=10)\n",
    "g.fig.axes[0].set_ylabel('MCC (accuracy)\\n(higher is better)')\n",
    "g.fig.axes[6].set_ylabel('reliability bias \\n(lower is better)')\n",
    "g.fig.tight_layout()\n",
    "g.add_legend()\n",
    "display(g)"
   ]
  },
  {
   "cell_type": "markdown",
   "id": "56c1d2e2-b470-42db-934d-903379055c54",
   "metadata": {
    "tags": []
   },
   "source": [
    "#### Input to Table 4"
   ]
  },
  {
   "cell_type": "code",
   "execution_count": null,
   "id": "27c014e1-f083-4e50-9b29-26dd32aeb9d2",
   "metadata": {},
   "outputs": [],
   "source": [
    "results_bias.head()"
   ]
  },
  {
   "cell_type": "code",
   "execution_count": null,
   "id": "67ae3f42-e8c8-4a71-a295-5d8e639434f7",
   "metadata": {},
   "outputs": [],
   "source": [
    "results_analysis.generate_importance_tables(results_bias[results_bias.equal_weighted==True], \n",
    "                                            dataset='speech_commands_gender', metric='all_mcc', parameters=\"preprocessing\", \n",
    "                                            model_arch='cnn')['16000_']"
   ]
  },
  {
   "cell_type": "code",
   "execution_count": null,
   "id": "c87cf995",
   "metadata": {},
   "outputs": [],
   "source": [
    "results_analysis.generate_importance_tables(results_bias[results_bias.equal_weighted==True], \n",
    "                                            dataset='mswc_de', metric='model_bias', parameters=\"preprocessing\", \n",
    "                                            model_arch='cnn')['16000_']"
   ]
  },
  {
   "cell_type": "code",
   "execution_count": null,
   "id": "f2197cab-9702-4a90-9af7-702f784a2650",
   "metadata": {},
   "outputs": [],
   "source": [
    "results_analysis.generate_importance_tables(results_bias[results_bias.equal_weighted==True], \n",
    "                                            dataset='mswc_de', metric='model_bias', \n",
    "                                            parameters=\"preprocessing\", model_arch='low_latency_cnn')['16000_']"
   ]
  },
  {
   "cell_type": "code",
   "execution_count": null,
   "id": "54327778-7898-4e1d-8982-1442bcb5bc0c",
   "metadata": {},
   "outputs": [],
   "source": [
    "results_analysis.generate_importance_tables(results_bias[results_bias.equal_weighted==True], \n",
    "                                            dataset='mswc_de', metric='model_bias', \n",
    "                                            parameters=\"preprocessing\", model_arch='cnn')['8000_']"
   ]
  },
  {
   "cell_type": "code",
   "execution_count": null,
   "id": "552aa606-fb43-4759-953a-67d210b2e806",
   "metadata": {},
   "outputs": [],
   "source": [
    "results_analysis.generate_importance_tables(results_bias[results_bias.equal_weighted==True], \n",
    "                                            dataset='mswc_de', metric='model_bias', \n",
    "                                            parameters=\"preprocessing\", model_arch='low_latency_cnn')['8000_']"
   ]
  },
  {
   "cell_type": "markdown",
   "id": "6c6a0f31-fefc-4b1a-887a-8de62b93877d",
   "metadata": {
    "jp-MarkdownHeadingCollapsed": true,
    "tags": []
   },
   "source": [
    "#### Tables in Appendix"
   ]
  },
  {
   "cell_type": "code",
   "execution_count": null,
   "id": "28dfafc4-bb80-46bf-8d19-79720e5ee92d",
   "metadata": {},
   "outputs": [],
   "source": [
    "results_bias[results_bias['exp_name'].isin(['sc16_cnn','sc16_llcnn']) \n",
    "                 & (results_bias['input_features']=='log_mel_spectrogram')\n",
    "                ].groupby(['exp_name','mel_bins'])[['all_mcc','model_bias']\n",
    "                                                  ].agg(['mean','std']).T#.style.format('{:.1e}')"
   ]
  },
  {
   "cell_type": "code",
   "execution_count": null,
   "id": "427fcd18-b55f-4a5c-bb9d-2e63c92eef98",
   "metadata": {},
   "outputs": [],
   "source": [
    "results_bias[results_bias['exp_name'].isin(['sc8_cnn','sc8_llcnn']) \n",
    "                 & (results_bias['input_features']=='log_mel_spectrogram')\n",
    "                ].groupby(['exp_name','mel_bins'])[['all_mcc','model_bias']\n",
    "                                                  ].agg(['mean','std']).T#.style.format('{:.1e}')"
   ]
  },
  {
   "cell_type": "code",
   "execution_count": null,
   "id": "9bcf5300-2c5e-43b0-8173-d59b88cbfa51",
   "metadata": {},
   "outputs": [],
   "source": [
    "results_bias[results_bias['exp_name'].isin(['sc16_cnn','sc16_llcnn']) \n",
    "                 & (results_bias['input_features']=='mfcc')\n",
    "                ].groupby(['exp_name','mfccs'])[['all_mcc','model_bias']\n",
    "                                                  ].agg(['mean','std']).T#.style.format('{:.1e}')"
   ]
  },
  {
   "cell_type": "code",
   "execution_count": null,
   "id": "4ed8667b-b071-4dd4-b912-8663cb9940d7",
   "metadata": {},
   "outputs": [],
   "source": [
    "results_bias[results_bias['exp_name'].isin(['sc8_cnn','sc8_llcnn']) \n",
    "                 & (results_bias['input_features']=='mfcc')\n",
    "                ].groupby(['exp_name','mfccs'])[['all_mcc','model_bias']\n",
    "                                                  ].agg(['mean','std']).T#.style.format('{:.1e}')"
   ]
  },
  {
   "cell_type": "code",
   "execution_count": null,
   "id": "69322cb6-29d7-418c-8e60-c77e80328431",
   "metadata": {},
   "outputs": [],
   "source": [
    "# sc16_cnn: mfcc / log Mel spec | fairest for each\n",
    "0.016908/0.006664"
   ]
  },
  {
   "cell_type": "code",
   "execution_count": null,
   "id": "a4ad1a98-18f2-4288-9851-679aa00f5924",
   "metadata": {},
   "outputs": [],
   "source": [
    "# sc16_llcnn: mfcc / log Mel spec | fairest for each\n",
    "0.019317/0.013510"
   ]
  },
  {
   "cell_type": "code",
   "execution_count": null,
   "id": "93d7530a-8e44-4b2b-b09a-009cdc55dcc9",
   "metadata": {},
   "outputs": [],
   "source": [
    "# sc8_cnn: mfcc / log Mel spec | fairest for each\n",
    "0.028245/0.010909"
   ]
  },
  {
   "cell_type": "code",
   "execution_count": null,
   "id": "fd995979-b6ea-4929-8ad5-04768357a530",
   "metadata": {},
   "outputs": [],
   "source": [
    "# sc8_llcnn: mfcc / log Mel spec | fairest for each\n",
    "0.043740/0.017558"
   ]
  },
  {
   "cell_type": "code",
   "execution_count": null,
   "id": "735848b5",
   "metadata": {},
   "outputs": [],
   "source": [
    "results_mcc.head()"
   ]
  },
  {
   "cell_type": "markdown",
   "id": "b6ea8848-9e16-4c17-b70a-443089e40df2",
   "metadata": {},
   "source": [
    "## Impact of Pruning Hyperparameters"
   ]
  },
  {
   "cell_type": "code",
   "execution_count": null,
   "id": "51169cb7-2cea-4f3d-8dc9-13b0468e7950",
   "metadata": {},
   "outputs": [],
   "source": [
    "results_sparsity = results_compress.loc[:,['equal_weighted','exp_name','pruning_final_sparsity',\n",
    "                                     'pruning_learning_rate','pruning_schedule','pruning_frequency',\n",
    "                                     'trained_model_path','model_selected_because','all_mcc','model_fairness']]\n",
    "results_sparsity.loc[:,'sparsity_max_mcc'] = results_sparsity.groupby(['equal_weighted','exp_name','pruning_final_sparsity'])['all_mcc'].transform('max')#agg({'all_mcc':'max', 'model_fairness':'min'})\n",
    "results_sparsity.loc[:,'sparsity_min_fairness'] = results_sparsity.groupby(['equal_weighted','exp_name','pruning_final_sparsity'])['model_fairness'].transform('min')#agg({'all_mcc':'max', 'model_fairness':'min'})"
   ]
  },
  {
   "cell_type": "code",
   "execution_count": null,
   "id": "c589a6c8-363b-4252-82cc-d3217d10052f",
   "metadata": {},
   "outputs": [],
   "source": [
    "results_compress_compare.columns"
   ]
  },
  {
   "cell_type": "code",
   "execution_count": null,
   "id": "2ac9aeca-e916-44cf-9aa4-71bd1d2624d1",
   "metadata": {},
   "outputs": [],
   "source": [
    "sns.set_context('paper', font_scale=2.5)\n",
    "df = results_compress_compare.replace({'dataset_name': {'speech_commands_gender':'google_sc'}}\n",
    "                         ).sort_values(by=['dataset_name'])\n",
    "hue_order=df[\"dataset_name\"].unique().sort()\n",
    "\n",
    "\n",
    "g = sns.relplot(\n",
    "    data=df, x=\"delta_male_mcc\", y=\"delta_female_mcc\", hue=\"dataset_name\", col=\"exp_cat\", aspect=1, \n",
    "    palette=\"tab10\", hue_order=hue_order, s=10,\n",
    "    # col_order=['cnn 16kHz', 'low latency cnn 16kHz','cnn 8kHz', 'low latency cnn 8kHz'],\n",
    "    kind=\"scatter\"\n",
    ")\n",
    "\n",
    "for ax in g.fig.axes:\n",
    "    ax.axline((0.0,0.0), (0.1,0.1), c=\"black\", ls='--', linewidth=2)\n",
    "    ax.set_xlabel('delta male MCC', labelpad=10)\n",
    "    ax.set_ylabel('delta female MCC', labelpad=10)\n",
    "    ax.set_title(ax.title.get_text().split('=')[-1].replace('_',' '))\n",
    "    ax.set_xticks(np.linspace(-0.75, 0, 4))\n",
    "# g.set_xticklabels(rotation=0, fontdict={'ha': 'right'})\n",
    "# g.fig.tight_layout()\n",
    "# g.add_legend()\n",
    "# g.fig.axes[0].set_ylabel('female \\nMCC (accuracy)', labelpad=10)\n",
    "sns.despine(bottom=True, left=True)\n",
    "\n",
    "plt.suptitle(\"Effect of \", va='top', y=1.05)\n",
    "display(g)"
   ]
  },
  {
   "cell_type": "code",
   "execution_count": null,
   "id": "80901b01-0d32-4275-b1f6-3b796cf4d1a8",
   "metadata": {},
   "outputs": [],
   "source": [
    "sns.set_context('paper', font_scale=2.5)\n",
    "df = results_compress_compare.replace({'dataset_name': {'speech_commands_gender':'google_sc'}}\n",
    "                         ).sort_values(by=['dataset_name'])\n",
    "hue_order=df[\"dataset_name\"].unique().sort()\n",
    "\n",
    "\n",
    "g = sns.relplot(\n",
    "    data=df, x=\"male_mcc\", y=\"female_mcc\", hue=\"dataset_name\", col=\"exp_cat\", aspect=1, \n",
    "    palette=\"tab10\", hue_order=hue_order, s=10,\n",
    "    kind=\"scatter\"\n",
    ")\n",
    "\n",
    "for ax in g.fig.axes:\n",
    "    ax.axline((0.0,0.0), (0.1,0.1), c=\"black\", ls='--', linewidth=2)\n",
    "    ax.set_xlabel('male MCC', labelpad=10)\n",
    "    ax.set_ylabel('female MCC', labelpad=10)\n",
    "    ax.set_title(ax.title.get_text().split('=')[-1].replace('_',' '))\n",
    "# g.set_xticklabels(rotation=0, fontdict={'ha': 'right'})\n",
    "# g.fig.tight_layout()\n",
    "# g.add_legend()\n",
    "# g.fig.axes[0].set_ylabel('female \\nMCC (accuracy)', labelpad=10)\n",
    "sns.despine(bottom=True, left=True)\n",
    "\n",
    "plt.suptitle(\"Effect of \", va='top', y=1.05)\n",
    "display(g)"
   ]
  },
  {
   "cell_type": "code",
   "execution_count": null,
   "id": "5d832184-3335-4930-bc94-55bfbf532258",
   "metadata": {},
   "outputs": [],
   "source": [
    "sns.set_context('paper', font_scale=3)\n",
    "df = results_compress_compare.melt(id_vars=results_compress_compare.columns.to_list()[:-6]+['model_selected_because'], \n",
    "                            value_vars=['delta_all_mcc','delta_model_bias'], var_name='delta_metric')\n",
    "\n",
    "df = df.replace({'delta_metric': {'delta_all_mcc': 'delta_mcc', 'delta_model_bias': 'delta_reliability_bias'}, \n",
    "                 'dataset_name': {'speech_commands_gender':'google_sc'}}\n",
    "               ).sort_values(by=['dataset_name', 'model_arch','delta_metric'])\n",
    "\n",
    "# .sort_values(by=['exp_name', 'model_arch'])\n",
    "g = sns.FacetGrid(data=df, height=8, aspect=1.8, col=\"delta_metric\", #col_order=[16000,8000],\n",
    "                  sharey=False, sharex=False)\n",
    "g.map(sns.boxplot, \"pruning_final_sparsity\", \"value\", \"pruning_schedule\", palette='tab10', showfliers=False,\n",
    "      hue_order=sorted(df[\"pruning_schedule\"].unique()), \n",
    "      order=sorted(df.pruning_final_sparsity.unique()), \n",
    "      showmeans=False, meanline=True, meanprops=dict(color=\"black\"),\n",
    "      saturation=0.7,boxprops=dict(alpha=.3))\n",
    "\n",
    "g.map(sns.stripplot, \"pruning_final_sparsity\", \"value\", \"pruning_schedule\", palette='tab10', dodge=True,\n",
    "      hue_order=sorted(df[\"pruning_schedule\"].unique()), \n",
    "      order=sorted(df.pruning_final_sparsity.unique()),\n",
    "      size=1.5)\n",
    "\n",
    "for ax in g.fig.axes:\n",
    "    ax.set_xlabel('final sparsity', labelpad=10)\n",
    "    ax.set_title(ax.title.get_text().split('=')[-1].replace('_',' '))\n",
    "    sns.despine(bottom=True, left=True)\n",
    "g.fig.axes[0].set(ylim=(-0.9, 0.3))\n",
    "g.fig.axes[1].set(ylim=(-0.5, 1.2))\n",
    "g.fig.axes[0].set_ylabel('delta MCC \\n(higher is better)', labelpad=10)\n",
    "g.fig.axes[1].set_ylabel('delta reliability bias \\n(lower is better)', labelpad=10)\n",
    "g.set_xticklabels(rotation=0, fontdict={'ha': 'right'})\n",
    "g.fig.tight_layout()\n",
    "g.add_legend()\n",
    "g._legend.set_title('pruning schedule')\n",
    "sns.move_legend(g, loc='upper center', frameon=False, ncol=3, bbox_to_anchor=(0.48, 0.0) )\n",
    "display(g)\n",
    "plt.savefig('figures/pruninghps_sparsity-schedule.png', bbox_inches='tight')"
   ]
  },
  {
   "cell_type": "code",
   "execution_count": null,
   "id": "8e06fd9a-5a76-440a-9617-33baadd475ae",
   "metadata": {},
   "outputs": [],
   "source": [
    "sns.set_context('paper', font_scale=3)\n",
    "df = results_compress_compare.melt(id_vars=results_compress_compare.columns.to_list()[:-6]+['model_selected_because'], \n",
    "                            value_vars=['delta_all_mcc','delta_model_bias'], var_name='delta_metric')\n",
    "\n",
    "df = df.replace({'delta_metric': {'delta_all_mcc': 'delta_mcc', 'delta_model_bias': 'delta_reliability_bias'}, \n",
    "                 'dataset_name': {'speech_commands_gender':'google_sc'}}\n",
    "               ).sort_values(by=['dataset_name', 'model_arch','delta_metric'])\n",
    "\n",
    "# .sort_values(by=['exp_name', 'model_arch'])\n",
    "g = sns.FacetGrid(data=df, height=8, aspect=1.8, col=\"delta_metric\", #row='dataset_name', #col_order=[16000,8000],\n",
    "                  sharey=False, sharex=False)\n",
    "g.map(sns.boxplot, \"pruning_final_sparsity\", \"value\", \"pruning_learning_rate\", palette='tab10', showfliers=False,\n",
    "      hue_order=sorted(df[\"pruning_learning_rate\"].unique(), reverse=True), \n",
    "      order=sorted(df.pruning_final_sparsity.unique()), \n",
    "      showmeans=False, meanline=True, meanprops=dict(color=\"black\"),\n",
    "      saturation=0.7,boxprops=dict(alpha=.3))\n",
    "\n",
    "g.map(sns.stripplot, \"pruning_final_sparsity\", \"value\", \"pruning_learning_rate\", palette='tab10', dodge=True,\n",
    "      hue_order=sorted(df[\"pruning_learning_rate\"].unique(), reverse=True), \n",
    "      order=sorted(df.pruning_final_sparsity.unique()), \n",
    "      size=1.5)\n",
    "\n",
    "for ax in g.fig.axes:\n",
    "    title_list = ax.title.get_text().split(' | ')\n",
    "    ax.set_title(ax.title.get_text().split('=')[-1].replace('_',' '))\n",
    "    if 'delta_mcc' in title_list[-1]:\n",
    "        ax.set_ylabel('delta MCC \\n(higher is better)', labelpad=10)\n",
    "        ax.set(ylim=(-0.9, 0.3))\n",
    "    else:\n",
    "        ax.set_ylabel('delta reliability bias \\n(lower is better)', labelpad=10)\n",
    "        ax.set(ylim=(-0.5, 1.2))\n",
    "        \n",
    "    ax.set_xlabel('final sparsity', labelpad=10)\n",
    "    sns.despine(bottom=True, left=True)\n",
    "\n",
    "g.fig.tight_layout()\n",
    "hue_labels=['0.001', '0.0001', '0.00001']\n",
    "g.add_legend(legend_data={\n",
    "    key: value for key, value in zip(hue_labels, g._legend_data.values())\n",
    "})\n",
    "g._legend.set_title('learning rate')\n",
    "sns.move_legend(g, loc='upper center', frameon=False, ncol=3, bbox_to_anchor=(0.48, 0.0) )\n",
    "display(g)\n",
    "plt.savefig('figures/pruninghps_sparsity-lr.png', bbox_inches='tight')"
   ]
  },
  {
   "cell_type": "code",
   "execution_count": null,
   "id": "e4375a16-ff83-4ffb-854b-9eaf9c979c64",
   "metadata": {},
   "outputs": [],
   "source": [
    "def percentile(n):\n",
    "    def percentile_(x):\n",
    "        return np.percentile(x, n)\n",
    "    percentile_.__name__ = 'percentile_%s' % n\n",
    "    return percentile_\n",
    "\n",
    "df.groupby(['delta_metric','pruning_final_sparsity','pruning_learning_rate'])['value'].agg(['mean', 'median', 'quantile'])#percentile(25), percentile(50), percentile(75)])"
   ]
  },
  {
   "cell_type": "code",
   "execution_count": null,
   "id": "b2fef85f-282a-4054-abfd-a4d60875b4fd",
   "metadata": {},
   "outputs": [],
   "source": [
    "sns.set_context('paper', font_scale=3.2)\n",
    "df = results_compress_compare.melt(id_vars=results_compress_compare.columns.to_list()[:-6]+['model_selected_because','exp_cat'], \n",
    "                            value_vars=['delta_all_mcc','delta_model_bias'], var_name='delta_metric')\n",
    "\n",
    "df = df.replace({'delta_metric': {'delta_all_mcc': 'delta_mcc', 'delta_model_bias': 'delta_reliability_bias'}, \n",
    "                 'dataset_name': {'speech_commands_gender':'google_sc'}}\n",
    "               ).sort_values(by=['dataset_name', 'model_arch','delta_metric'])\n",
    "\n",
    "\n",
    "g = sns.FacetGrid(data=df[df.delta_metric=='delta_reliability_bias'], height=8, aspect=1, col=\"exp_cat\", #row='model_arch',#col_order=[16000,8000],\n",
    "                  sharey=True, sharex=True)\n",
    "g.map(sns.boxplot, \"dataset_name\", \"value\", \"pruning_learning_rate\", palette='tab10', showfliers=False,\n",
    "      hue_order=sorted(df[\"pruning_learning_rate\"].unique(), reverse=True), \n",
    "      order=sorted(df.dataset_name.unique(), reverse=False), \n",
    "      showmeans=False, meanline=True, meanprops=dict(color=\"black\"),\n",
    "      saturation=0.7,boxprops=dict(alpha=.3))\n",
    "\n",
    "g.map(sns.stripplot, \"dataset_name\", \"value\", \"pruning_learning_rate\", palette='tab10', dodge=True,\n",
    "      hue_order=sorted(df[\"pruning_learning_rate\"].unique(), reverse=True), \n",
    "      order=sorted(df.dataset_name.unique(), reverse=False),\n",
    "      size=1.5)\n",
    "\n",
    "  \n",
    "for ax in g.fig.axes:\n",
    "    title_list = ax.title.get_text().replace('_',' ').split(' | ')\n",
    "    ax.set_title(title_list[0].split(' = ')[-1])\n",
    "    if 'delta mcc' in title_list[-1]:\n",
    "        ax.set_ylabel('delta MCC \\n(higher is better)', labelpad=10)\n",
    "        ax.set(ylim=(-0.9, 0.2))\n",
    "    else:\n",
    "        ax.set_ylabel('delta reliability bias \\n(lower is better)', labelpad=10)\n",
    "        ax.set(ylim=(-0.3, 0.9))\n",
    "        \n",
    "    ax.set_xlabel('', labelpad=10)\n",
    "    sns.despine(bottom=True, left=True)\n",
    "\n",
    "g.set_xticklabels(rotation=30, fontdict={'ha': 'center'})\n",
    "g.fig.tight_layout()\n",
    "hue_labels=['0.001', '0.0001', '0.00001']\n",
    "g.add_legend(legend_data={\n",
    "    key: value for key, value in zip(hue_labels, g._legend_data.values())\n",
    "})\n",
    "g._legend.set_title('learning rate')\n",
    "sns.move_legend(g, loc='upper center', frameon=False, ncol=3, bbox_to_anchor=(0.48, 0.0) )\n",
    "display(g)\n",
    "plt.savefig('figures/pruninghps_dataset-lr.png', bbox_inches='tight')"
   ]
  },
  {
   "cell_type": "code",
   "execution_count": null,
   "id": "5b85510d-c4ba-48ba-9a8e-eeeef4f48eb9",
   "metadata": {},
   "outputs": [],
   "source": [
    "sns.set_context('paper', font_scale=3)\n",
    "df = results_compress_compare.melt(id_vars=results_compress_compare.columns.to_list()[:-6]+['model_selected_because','exp_cat'], \n",
    "                            value_vars=['delta_all_mcc','delta_model_bias'], var_name='delta_metric')\n",
    "\n",
    "g = sns.displot(\n",
    "    data=df, x=\"value\", hue=\"model_selected_because\", row=\"delta_metric\", col='exp_cat',\n",
    "    palette=\"tab10\", hue_order=sorted(results_compress_compare['model_selected_because'].unique(), reverse=True),\n",
    "    facet_kws={'sharex':False, 'sharey':False, 'legend_out':False}, height=5, aspect=1.2,\n",
    "    kind='kde'\n",
    ")\n",
    "\n",
    "\n",
    "for ax in g.fig.axes:\n",
    "    ax.axvline(c=\"black\", ls='--', linewidth=1)\n",
    "    title_list = ax.title.get_text().replace('_',' ').split(' | ')\n",
    "    if 'mcc' in title_list[0]:\n",
    "        ax.set_title(title_list[1].split(' = ')[-1], pad=25)\n",
    "        ax.set(ylim=(0, 0.28))\n",
    "        ax.set(xlim=(-0.8, 0.3))\n",
    "        ax.set_xticks([-0.6, -0.3, 0, 0.3])\n",
    "        ax.set_xlabel('delta MCC', labelpad=10)\n",
    "    else:\n",
    "        ax.set_title('')\n",
    "        ax.set(ylim=(0, 0.44))\n",
    "        ax.set(xlim=(-0.3, 0.3))\n",
    "        ax.set_xlabel('delta reliability bias', labelpad=10)\n",
    "    sns.despine(bottom=True, left=True)\n",
    "\n",
    "g.fig.tight_layout()\n",
    "sns.move_legend(g, loc='upper center', frameon=False, ncol=3, bbox_to_anchor=(0.5, 0.0) )\n",
    "g._legend.set_title(title='selection strategy')\n",
    "g._legend.get_texts()[0].set_text('low bias')\n",
    "g._legend.get_texts()[1].set_text('high accuracy')\n",
    "g._legend.get_texts()[2].set_text('low bias + high accuracy')\n",
    "\n",
    "display(g)\n",
    "plt.savefig('figures/pruninghps_selection_strategy.png', bbox_inches='tight')"
   ]
  },
  {
   "cell_type": "markdown",
   "id": "8c619d55-54f0-45b4-9ed7-787b4c0df1a4",
   "metadata": {},
   "source": [
    "## Section 5.4 Model Sel.ipynb_checkpoints/ction"
   ]
  },
  {
   "cell_type": "markdown",
   "id": "ac3972f8-603a-4d89-b383-429db86e41d2",
   "metadata": {
    "tags": []
   },
   "source": [
    "### Tables"
   ]
  },
  {
   "cell_type": "code",
   "execution_count": null,
   "id": "d2fe5edb",
   "metadata": {},
   "outputs": [],
   "source": [
    "cnn_16_selection = results_analysis.model_selection(results_bias, 'mswc35_de16_cnn', 0.99)[\n",
    "    ['input_features','frame_length','frame_step','mel_bins','mfccs','window_fn','all_mcc','model_bias']]\n",
    "cnn_16_selection"
   ]
  },
  {
   "cell_type": "code",
   "execution_count": null,
   "id": "42aa0ded-d8fa-4821-9024-947f15cd2639",
   "metadata": {},
   "outputs": [],
   "source": [
    "results_analysis.model_selection(results_bias, 'mswc35_de16_llcnn', 0.99)[\n",
    "    ['input_features','frame_length','frame_step','mel_bins','mfccs','window_fn','all_mcc','model_bias']]"
   ]
  },
  {
   "cell_type": "code",
   "execution_count": null,
   "id": "9703019b-1c03-4660-bb3f-33b316321c54",
   "metadata": {},
   "outputs": [],
   "source": [
    "cnn_8_selection = results_analysis.model_selection(results_bias, 'mswc35_de8_cnn', 0.99)[\n",
    "    ['input_features','frame_length','frame_step','mel_bins','mfccs','window_fn','all_mcc','model_bias']]\n",
    "cnn_8_selection"
   ]
  },
  {
   "cell_type": "code",
   "execution_count": null,
   "id": "da64d183-7b63-46b9-91f8-8f8e4618c966",
   "metadata": {},
   "outputs": [],
   "source": [
    "results_analysis.model_selection(results_bias, 'mswc35_de8_llcnn', 0.99)[\n",
    "    ['input_features','frame_length','frame_step','mel_bins','mfccs','window_fn','all_mcc','model_bias']]"
   ]
  },
  {
   "cell_type": "code",
   "execution_count": null,
   "id": "5e6affa8-b574-466b-9231-76f65dcb8b9f",
   "metadata": {},
   "outputs": [],
   "source": [
    "def fairest_pruned_model_in_mcc_range(df, exp_name, pruning_final_sparsity, min_percentage_of_mcc=0.99):\n",
    "        \n",
    "    min_mcc = df.where((df.exp_name == exp_name)\n",
    "                       & (df.pruning_final_sparsity == pruning_final_sparsity)\n",
    "                      )['all_mcc'].dropna(how='all').nlargest(1).values[0]*min_percentage_of_mcc\n",
    "\n",
    "    selected_models = df[(df.all_mcc >= min_mcc)\n",
    "                         & (df.exp_name == exp_name)\n",
    "                         & (df.pruning_final_sparsity == pruning_final_sparsity)\n",
    "                        ].dropna(how='all').reset_index(drop=True)\n",
    "    \n",
    "    selected_models = selected_models.iloc[selected_models['model_fairness'].idxmin(),:]\n",
    "        \n",
    "    return selected_models"
   ]
  },
  {
   "cell_type": "code",
   "execution_count": null,
   "id": "1c20699a-a7ee-4ee2-acf8-bc0735d8a2ce",
   "metadata": {},
   "outputs": [],
   "source": [
    "def pruned_model_selection(df, min_percentage_of_mcc):\n",
    "    df_mod = pd.DataFrame()\n",
    "\n",
    "    for a in ['sc8_', 'sc8_ll','sc16_','sc16_ll']:\n",
    "        arch = a+'cnn-compress_ew'\n",
    "        for s in [0.2, 0.5, 0.75, 0.8, 0.85, 0.9]:\n",
    "            df_s = fairest_pruned_model_in_mcc_range(df[df.equal_weighted==True], arch, s, min_percentage_of_mcc)\n",
    "            df_mod = df_mod.append(df_s)\n",
    "                \n",
    "    return df_mod"
   ]
  },
  {
   "cell_type": "code",
   "execution_count": null,
   "id": "b5460816-4416-4938-a078-39e860c42feb",
   "metadata": {},
   "outputs": [],
   "source": [
    "pruned_model_selection(results_sparsity, 1).groupby('exp_name').agg({'all_mcc':['mean','std'],'model_fairness':['mean','std']})"
   ]
  },
  {
   "cell_type": "code",
   "execution_count": null,
   "id": "3f79c166-a0fe-4f01-a5cb-3c31a3dd99f2",
   "metadata": {},
   "outputs": [],
   "source": [
    "pruned_model_selection(results_sparsity, 0.995).groupby('exp_name').agg({'all_mcc':['mean','std'],'model_fairness':['mean','std']})"
   ]
  },
  {
   "cell_type": "code",
   "execution_count": null,
   "id": "4ee6782f-65bb-42ce-ba15-fc43207ce625",
   "metadata": {},
   "outputs": [],
   "source": [
    "# pd.set_option('display.float_format', '{:.1e}'.format)\n",
    "pruned_model_selection(results_sparsity, 0.99).groupby('exp_name').agg({'all_mcc':['mean','std'],'model_fairness':['mean','std']})"
   ]
  },
  {
   "cell_type": "code",
   "execution_count": null,
   "id": "7bec269a-556b-4d8f-8ada-7d45131297c7",
   "metadata": {},
   "outputs": [],
   "source": [
    "pd.set_option('display.float_format', '{:.1e}'.format)\n",
    "pruned_model_selection(results_sparsity, 0).groupby('exp_name').agg({'all_mcc':['mean','std'],'model_fairness':['mean','std']})"
   ]
  },
  {
   "cell_type": "code",
   "execution_count": null,
   "id": "a5bd510b-7524-40f1-afff-11aae6a68820",
   "metadata": {},
   "outputs": [],
   "source": [
    "pd.set_option('display.float_format', '{:.4}'.format)\n",
    "\n",
    "acc_df = pruned_model_selection(results_sparsity, 0.99).sort_values(['exp_name','pruning_final_sparsity'])\n",
    "acc_df"
   ]
  },
  {
   "cell_type": "code",
   "execution_count": null,
   "id": "9c944fa6-1feb-40eb-a16c-52b63bb81356",
   "metadata": {},
   "outputs": [],
   "source": [
    "acc_df.groupby(['exp_name','pruning_learning_rate'])['all_mcc'].count()"
   ]
  },
  {
   "cell_type": "code",
   "execution_count": null,
   "id": "c5c2559c-3f07-4a91-b922-21193cf23d10",
   "metadata": {},
   "outputs": [],
   "source": [
    "acc_df.groupby(['exp_name','pruning_frequency'])['all_mcc'].count()"
   ]
  },
  {
   "cell_type": "code",
   "execution_count": null,
   "id": "57148d4a-95e4-427a-80a7-81e634c60cda",
   "metadata": {},
   "outputs": [],
   "source": [
    "acc_df.groupby(['exp_name','pruning_schedule'])['all_mcc'].count()"
   ]
  },
  {
   "cell_type": "code",
   "execution_count": null,
   "id": "61f9bd8d-e548-4003-a35e-daedfd607352",
   "metadata": {},
   "outputs": [],
   "source": [
    "acc_df.groupby(['exp_name','trained_model_path'])['all_mcc'].count()"
   ]
  },
  {
   "cell_type": "code",
   "execution_count": null,
   "id": "87bfb7f5-427e-4537-8733-204e26c924b2",
   "metadata": {},
   "outputs": [],
   "source": [
    "acc_df.groupby(['model_selected_because'])['all_mcc'].count()"
   ]
  },
  {
   "cell_type": "code",
   "execution_count": null,
   "id": "27d1108d-f502-4bab-ad0b-4ed484e087d3",
   "metadata": {},
   "outputs": [],
   "source": []
  },
  {
   "cell_type": "code",
   "execution_count": null,
   "id": "934658f1-4ef9-444a-927c-5b432b7c486f",
   "metadata": {},
   "outputs": [],
   "source": []
  }
 ],
 "metadata": {
  "kernelspec": {
   "display_name": "Python 3 (ipykernel)",
   "language": "python",
   "name": "python3"
  },
  "language_info": {
   "codemirror_mode": {
    "name": "ipython",
    "version": 3
   },
   "file_extension": ".py",
   "mimetype": "text/x-python",
   "name": "python",
   "nbconvert_exporter": "python",
   "pygments_lexer": "ipython3",
   "version": "3.8.12"
  },
  "toc-autonumbering": true,
  "toc-showcode": false
 },
 "nbformat": 4,
 "nbformat_minor": 5
}
